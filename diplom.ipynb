{
 "cells": [
  {
   "cell_type": "markdown",
   "metadata": {},
   "source": [
    "### ** **Ваша задача** — разработать модель, которая позволила бы агентству недвижимости обойти конкурентов по скорости и качеству совершения сделок**\n",
    "###"
   ]
  },
  {
   "cell_type": "markdown",
   "metadata": {},
   "source": [
    "### Исследование данных"
   ]
  },
  {
   "cell_type": "code",
   "execution_count": 2,
   "metadata": {},
   "outputs": [],
   "source": [
    " \n",
    " \n",
    "import matplotlib.pyplot as plt\n",
    "import seaborn as sns\n",
    "import plotly.express as px\n",
    "import pandas as pd\n",
    "import numpy as np\n",
    "import warnings # для игнорирования предупреждений\n",
    "# Игнорируем варнинги\n",
    "warnings.filterwarnings('ignore')\n",
    "\n",
    "import matplotlib.pyplot as plt\n",
    "import seaborn as sns\n",
    "\n",
    "from sklearn.preprocessing import MinMaxScaler, StandardScaler, LabelEncoder, PolynomialFeatures\n",
    "\n",
    "%matplotlib inline\n"
   ]
  },
  {
   "cell_type": "markdown",
   "metadata": {},
   "source": [
    "### **Функции**\n"
   ]
  },
  {
   "cell_type": "code",
   "execution_count": 3,
   "metadata": {},
   "outputs": [],
   "source": [
    "#Возвращает массив индексов значений столбца, которые с помощью метода поиска по распределению IQR определены как выбросы\n",
    "\n",
    "def outliers_iqr(ys):\n",
    "    quartile_1, quartile_3 = np.percentile(ys, [25, 75])\n",
    "    iqr = quartile_3 - quartile_1\n",
    "    lower_bound = quartile_1 - (iqr * 1.5)\n",
    "    upper_bound = quartile_3 + (iqr * 1.5)\n",
    "    return np.where((ys > upper_bound) | (ys < lower_bound))[0]\n"
   ]
  },
  {
   "cell_type": "code",
   "execution_count": 4,
   "metadata": {},
   "outputs": [],
   "source": [
    "# Поиск выбросов методом z-score (поиск по отклонению). Возвращает массив индексов значений столбца, определённых как выбросы\n",
    "\n",
    "def outliers_z_score(ys, threshold=3):\n",
    "    mean_y = np.mean(ys)\n",
    "    std_y = np.std(ys)\n",
    "    z_scores = [(y - mean_y) / std_y for y in ys]\n",
    "    return np.where(np.abs(z_scores) > threshold)[0]\n"
   ]
  },
  {
   "cell_type": "code",
   "execution_count": null,
   "metadata": {},
   "outputs": [],
   "source": []
  },
  {
   "cell_type": "markdown",
   "metadata": {},
   "source": [
    "#### Загружаем данные"
   ]
  },
  {
   "cell_type": "code",
   "execution_count": 5,
   "metadata": {},
   "outputs": [
    {
     "data": {
      "text/plain": [
       "(377185, 18)"
      ]
     },
     "metadata": {},
     "output_type": "display_data"
    }
   ],
   "source": [
    "df = pd.read_csv('data1.csv')\n",
    "# \n",
    "df.head(1)\n",
    "display(df.shape)"
   ]
  },
  {
   "cell_type": "markdown",
   "metadata": {},
   "source": [
    "## Исследование данных"
   ]
  },
  {
   "cell_type": "code",
   "execution_count": 6,
   "metadata": {},
   "outputs": [],
   "source": [
    "import seaborn as sns\n",
    "# sns.heatmap(data_crude.isnull()) # наглядная карта пропусков"
   ]
  },
  {
   "cell_type": "code",
   "execution_count": 7,
   "metadata": {},
   "outputs": [
    {
     "name": "stdout",
     "output_type": "stream",
     "text": [
      "<class 'pandas.core.frame.DataFrame'>\n",
      "RangeIndex: 377185 entries, 0 to 377184\n",
      "Data columns (total 18 columns):\n",
      " #   Column        Non-Null Count   Dtype \n",
      "---  ------        --------------   ----- \n",
      " 0   status        337267 non-null  object\n",
      " 1   private pool  4181 non-null    object\n",
      " 2   propertyType  342452 non-null  object\n",
      " 3   street        377183 non-null  object\n",
      " 4   baths         270847 non-null  object\n",
      " 5   homeFacts     377185 non-null  object\n",
      " 6   fireplace     103115 non-null  object\n",
      " 7   city          377151 non-null  object\n",
      " 8   schools       377185 non-null  object\n",
      " 9   sqft          336608 non-null  object\n",
      " 10  zipcode       377185 non-null  object\n",
      " 11  beds          285903 non-null  object\n",
      " 12  state         377185 non-null  object\n",
      " 13  stories       226470 non-null  object\n",
      " 14  mls-id        24942 non-null   object\n",
      " 15  PrivatePool   40311 non-null   object\n",
      " 16  MlsId         310305 non-null  object\n",
      " 17  target        374704 non-null  object\n",
      "dtypes: object(18)\n",
      "memory usage: 51.8+ MB\n"
     ]
    },
    {
     "data": {
      "text/plain": [
       "None"
      ]
     },
     "metadata": {},
     "output_type": "display_data"
    },
    {
     "data": {
      "text/plain": [
       "status           39918\n",
       "private pool    373004\n",
       "propertyType     34733\n",
       "street               2\n",
       "baths           106338\n",
       "homeFacts            0\n",
       "fireplace       274070\n",
       "city                34\n",
       "schools              0\n",
       "sqft             40577\n",
       "zipcode              0\n",
       "beds             91282\n",
       "state                0\n",
       "stories         150715\n",
       "mls-id          352243\n",
       "PrivatePool     336874\n",
       "MlsId            66880\n",
       "target            2481\n",
       "dtype: int64"
      ]
     },
     "metadata": {},
     "output_type": "display_data"
    }
   ],
   "source": [
    "display(df.info())\n",
    "\n",
    "display(df.isnull().sum())\n",
    "\n",
    "num_cols = []\n",
    "cat_cols = []\n",
    "bin_cols = []\n"
   ]
  },
  {
   "cell_type": "markdown",
   "metadata": {},
   "source": [
    "### Исходный датасет состоит из 18 признаков и 377185 объектов. Проведём последовательный анализ каждого признака..\n"
   ]
  },
  {
   "cell_type": "markdown",
   "metadata": {},
   "source": [
    "### Данные имеют значительное количетсво пропусков, что предполагает необходимость обработки пропущенных занчений."
   ]
  },
  {
   "cell_type": "code",
   "execution_count": 8,
   "metadata": {},
   "outputs": [
    {
     "data": {
      "text/html": [
       "<div>\n",
       "<style scoped>\n",
       "    .dataframe tbody tr th:only-of-type {\n",
       "        vertical-align: middle;\n",
       "    }\n",
       "\n",
       "    .dataframe tbody tr th {\n",
       "        vertical-align: top;\n",
       "    }\n",
       "\n",
       "    .dataframe thead th {\n",
       "        text-align: right;\n",
       "    }\n",
       "</style>\n",
       "<table border=\"1\" class=\"dataframe\">\n",
       "  <thead>\n",
       "    <tr style=\"text-align: right;\">\n",
       "      <th></th>\n",
       "      <th>status</th>\n",
       "      <th>private pool</th>\n",
       "      <th>propertyType</th>\n",
       "      <th>street</th>\n",
       "      <th>baths</th>\n",
       "      <th>homeFacts</th>\n",
       "      <th>fireplace</th>\n",
       "      <th>city</th>\n",
       "      <th>schools</th>\n",
       "      <th>sqft</th>\n",
       "      <th>zipcode</th>\n",
       "      <th>beds</th>\n",
       "      <th>state</th>\n",
       "      <th>stories</th>\n",
       "      <th>mls-id</th>\n",
       "      <th>PrivatePool</th>\n",
       "      <th>MlsId</th>\n",
       "      <th>target</th>\n",
       "    </tr>\n",
       "  </thead>\n",
       "  <tbody>\n",
       "    <tr>\n",
       "      <th>0</th>\n",
       "      <td>Active</td>\n",
       "      <td>NaN</td>\n",
       "      <td>Single Family Home</td>\n",
       "      <td>240 Heather Ln</td>\n",
       "      <td>3.5</td>\n",
       "      <td>{'atAGlanceFacts': [{'factValue': '2019', 'fac...</td>\n",
       "      <td>Gas Logs</td>\n",
       "      <td>Southern Pines</td>\n",
       "      <td>[{'rating': ['4', '4', '7', 'NR', '4', '7', 'N...</td>\n",
       "      <td>2900</td>\n",
       "      <td>28387</td>\n",
       "      <td>4</td>\n",
       "      <td>NC</td>\n",
       "      <td>NaN</td>\n",
       "      <td>NaN</td>\n",
       "      <td>NaN</td>\n",
       "      <td>611019</td>\n",
       "      <td>$418,000</td>\n",
       "    </tr>\n",
       "    <tr>\n",
       "      <th>1</th>\n",
       "      <td>for sale</td>\n",
       "      <td>NaN</td>\n",
       "      <td>single-family home</td>\n",
       "      <td>12911 E Heroy Ave</td>\n",
       "      <td>3 Baths</td>\n",
       "      <td>{'atAGlanceFacts': [{'factValue': '2019', 'fac...</td>\n",
       "      <td>NaN</td>\n",
       "      <td>Spokane Valley</td>\n",
       "      <td>[{'rating': ['4/10', 'None/10', '4/10'], 'data...</td>\n",
       "      <td>1,947 sqft</td>\n",
       "      <td>99216</td>\n",
       "      <td>3 Beds</td>\n",
       "      <td>WA</td>\n",
       "      <td>2.0</td>\n",
       "      <td>NaN</td>\n",
       "      <td>NaN</td>\n",
       "      <td>201916904</td>\n",
       "      <td>$310,000</td>\n",
       "    </tr>\n",
       "    <tr>\n",
       "      <th>2</th>\n",
       "      <td>for sale</td>\n",
       "      <td>NaN</td>\n",
       "      <td>single-family home</td>\n",
       "      <td>2005 Westridge Rd</td>\n",
       "      <td>2 Baths</td>\n",
       "      <td>{'atAGlanceFacts': [{'factValue': '1961', 'fac...</td>\n",
       "      <td>yes</td>\n",
       "      <td>Los Angeles</td>\n",
       "      <td>[{'rating': ['8/10', '4/10', '8/10'], 'data': ...</td>\n",
       "      <td>3,000 sqft</td>\n",
       "      <td>90049</td>\n",
       "      <td>3 Beds</td>\n",
       "      <td>CA</td>\n",
       "      <td>1.0</td>\n",
       "      <td>NaN</td>\n",
       "      <td>yes</td>\n",
       "      <td>FR19221027</td>\n",
       "      <td>$2,895,000</td>\n",
       "    </tr>\n",
       "    <tr>\n",
       "      <th>3</th>\n",
       "      <td>for sale</td>\n",
       "      <td>NaN</td>\n",
       "      <td>single-family home</td>\n",
       "      <td>4311 Livingston Ave</td>\n",
       "      <td>8 Baths</td>\n",
       "      <td>{'atAGlanceFacts': [{'factValue': '2006', 'fac...</td>\n",
       "      <td>yes</td>\n",
       "      <td>Dallas</td>\n",
       "      <td>[{'rating': ['9/10', '9/10', '10/10', '9/10'],...</td>\n",
       "      <td>6,457 sqft</td>\n",
       "      <td>75205</td>\n",
       "      <td>5 Beds</td>\n",
       "      <td>TX</td>\n",
       "      <td>3.0</td>\n",
       "      <td>NaN</td>\n",
       "      <td>NaN</td>\n",
       "      <td>14191809</td>\n",
       "      <td>$2,395,000</td>\n",
       "    </tr>\n",
       "    <tr>\n",
       "      <th>4</th>\n",
       "      <td>for sale</td>\n",
       "      <td>NaN</td>\n",
       "      <td>lot/land</td>\n",
       "      <td>1524 Kiscoe St</td>\n",
       "      <td>NaN</td>\n",
       "      <td>{'atAGlanceFacts': [{'factValue': '', 'factLab...</td>\n",
       "      <td>NaN</td>\n",
       "      <td>Palm Bay</td>\n",
       "      <td>[{'rating': ['4/10', '5/10', '5/10'], 'data': ...</td>\n",
       "      <td>NaN</td>\n",
       "      <td>32908</td>\n",
       "      <td>NaN</td>\n",
       "      <td>FL</td>\n",
       "      <td>NaN</td>\n",
       "      <td>NaN</td>\n",
       "      <td>NaN</td>\n",
       "      <td>861745</td>\n",
       "      <td>$5,000</td>\n",
       "    </tr>\n",
       "  </tbody>\n",
       "</table>\n",
       "</div>"
      ],
      "text/plain": [
       "     status private pool        propertyType               street    baths  \\\n",
       "0    Active          NaN  Single Family Home       240 Heather Ln      3.5   \n",
       "1  for sale          NaN  single-family home    12911 E Heroy Ave  3 Baths   \n",
       "2  for sale          NaN  single-family home    2005 Westridge Rd  2 Baths   \n",
       "3  for sale          NaN  single-family home  4311 Livingston Ave  8 Baths   \n",
       "4  for sale          NaN            lot/land       1524 Kiscoe St      NaN   \n",
       "\n",
       "                                           homeFacts fireplace  \\\n",
       "0  {'atAGlanceFacts': [{'factValue': '2019', 'fac...  Gas Logs   \n",
       "1  {'atAGlanceFacts': [{'factValue': '2019', 'fac...       NaN   \n",
       "2  {'atAGlanceFacts': [{'factValue': '1961', 'fac...       yes   \n",
       "3  {'atAGlanceFacts': [{'factValue': '2006', 'fac...       yes   \n",
       "4  {'atAGlanceFacts': [{'factValue': '', 'factLab...       NaN   \n",
       "\n",
       "             city                                            schools  \\\n",
       "0  Southern Pines  [{'rating': ['4', '4', '7', 'NR', '4', '7', 'N...   \n",
       "1  Spokane Valley  [{'rating': ['4/10', 'None/10', '4/10'], 'data...   \n",
       "2     Los Angeles  [{'rating': ['8/10', '4/10', '8/10'], 'data': ...   \n",
       "3          Dallas  [{'rating': ['9/10', '9/10', '10/10', '9/10'],...   \n",
       "4        Palm Bay  [{'rating': ['4/10', '5/10', '5/10'], 'data': ...   \n",
       "\n",
       "         sqft zipcode    beds state stories mls-id PrivatePool       MlsId  \\\n",
       "0        2900   28387       4    NC     NaN    NaN         NaN      611019   \n",
       "1  1,947 sqft   99216  3 Beds    WA     2.0    NaN         NaN   201916904   \n",
       "2  3,000 sqft   90049  3 Beds    CA     1.0    NaN         yes  FR19221027   \n",
       "3  6,457 sqft   75205  5 Beds    TX     3.0    NaN         NaN    14191809   \n",
       "4         NaN   32908     NaN    FL     NaN    NaN         NaN      861745   \n",
       "\n",
       "       target  \n",
       "0    $418,000  \n",
       "1    $310,000  \n",
       "2  $2,895,000  \n",
       "3  $2,395,000  \n",
       "4      $5,000  "
      ]
     },
     "metadata": {},
     "output_type": "display_data"
    },
    {
     "data": {
      "text/plain": [
       "43940"
      ]
     },
     "metadata": {},
     "output_type": "display_data"
    }
   ],
   "source": [
    "display(df.head())\n",
    "display(df['target'].unique().shape[0])\n",
    "\n",
    "#display(data_crude['target'].astype(float)*10)\n"
   ]
  },
  {
   "cell_type": "code",
   "execution_count": 9,
   "metadata": {},
   "outputs": [],
   "source": [
    "#2. Выделить из столбца \"ЗП\" сумму желаемой заработной платы и наименование валюты,split()[1::])[::]\n",
    "# предообработка признака по сумме ЗП\n",
    "# display(df['target'].unique())\n",
    "#df['target_2'] = df['target'].apply(lambda x: (''.join(str(x).replace('$',\"\"))))\n",
    "#df['target_2'] = df['target_2'].apply(lambda x: (''.join(str(x).replace(',',\"\"))))\n",
    "#df['target_2'] = df['target_2'].apply(lambda x: (''.join(str(x).replace('+',\"\"))))\n",
    "#df['target_2'] = df['target_2'].apply(lambda x: (''.join(str(x).replace('/',\"\"))))\n",
    "#df['target_2'] = df['target_2'].apply(lambda x: (''.join(str(x).replace('mo',\"\"))))\n",
    "\n",
    "import re\n",
    "#df['target_2'] = df['target_2'].apply(lambda x: re.sub(r\"\\s*[А-Я]\\s*[n1,n2,n3,n4]\\w*\\s*\", \" \", x).replace('(',\" \"))\n",
    "                                                                         \n",
    "\n",
    "#display(\n",
    " #   (''.join(str(df['target_2']).split(sep=',')[::]))[1::1]\n",
    "\n",
    "#)\n",
    "#df['target_2'] = df['target_2'].apply(lambda x: (' '.join(str(x).split(sep=',')[::])[2::1]) if '-' in list(' '.join(str(x).split(sep=',')[::])[::]) else (' '.join(str(x).split(sep=',')[::])))\n",
    "#df['target_2'] = df['target_2'].apply(lambda x: (' '.join(str(x).split(sep=',')[::])[1::1]) if '-' in list(' '.join(str(x).split(sep=',')[::])[::]) else (' '.join(str(x).split(sep=',')[::])))\n",
    "#df['target_2'] = df['target_2'].apply(lambda x: (' '.join(str(x).split(sep=',')[::])[1::1]) if '-' in list(' '.join(str(x).split(sep=',')[::])[::]) else (' '.join(str(x).split(sep=',')[::])))\n",
    "#df['target_2'] = df['target_2'].apply(lambda x: (' '.join(str(x).split(sep=',')[::])[1::1]) if '-' in list(' '.join(str(x).split(sep=',')[::])[::]) else (' '.join(str(x).split(sep=',')[::])))\n",
    "#df['target_2'] = df['target_2'].apply(lambda x: (' '.join(str(x).split(sep=',')[::])[1::1]) if '-' in list(' '.join(str(x).split(sep=',')[::])[::]) else (' '.join(str(x).split(sep=',')[::])))\n",
    "\n",
    "\n",
    "# преобразуем признак к типу данных float\n",
    "#df['target_2'] = df['target_2'].astype(float)\n",
    "#df['target_2'] = df['target_2']/1000\n",
    "\n",
    "#display(df['target_2'].unique())\n",
    "#display(df['target_2'])\n",
    "#display(df['target_2'].describe())\n",
    "\n",
    "## Количество пропусков\n",
    "#display(df['target_2'].isnull().sum())\n",
    "\n"
   ]
  },
  {
   "cell_type": "markdown",
   "metadata": {},
   "source": [
    "### Необходима обработка факторов."
   ]
  },
  {
   "cell_type": "code",
   "execution_count": 10,
   "metadata": {},
   "outputs": [
    {
     "name": "stdout",
     "output_type": "stream",
     "text": [
      "<class 'pandas.core.series.Series'>\n",
      "RangeIndex: 377185 entries, 0 to 377184\n",
      "Series name: status\n",
      "Non-Null Count   Dtype \n",
      "--------------   ----- \n",
      "337267 non-null  object\n",
      "dtypes: object(1)\n",
      "memory usage: 2.9+ MB\n"
     ]
    },
    {
     "data": {
      "text/plain": [
       "None"
      ]
     },
     "metadata": {},
     "output_type": "display_data"
    },
    {
     "data": {
      "text/plain": [
       "count       337267\n",
       "unique         159\n",
       "top       for sale\n",
       "freq        156104\n",
       "Name: status, dtype: object"
      ]
     },
     "metadata": {},
     "output_type": "display_data"
    },
    {
     "data": {
      "text/plain": [
       "array(['Active', 'for sale', nan, 'New construction', 'New', 'For sale',\n",
       "       'Pending', 'P', 'Active/Contingent', 'Pre-foreclosure / auction',\n",
       "       ' / auction', 'Under Contract', 'Under Contract   Showing',\n",
       "       'Pre-foreclosure', 'Under Contract Backups', 'foreclosure',\n",
       "       'Active Under Contract', 'Foreclosed', 'Option Pending',\n",
       "       'Under Contract Show', 'for rent', 'Auction', 'A Active',\n",
       "       'Contingent', 'Pending   Continue To Show', 'Price Change',\n",
       "       'Back on Market', 'Active Option', 'Foreclosure', 'recently sold',\n",
       "       'Coming soon: Nov 21.', 'Contingent Finance And Inspection',\n",
       "       'Coming soon: Dec 4.', 'P Pending Sale', 'Coming soon: Nov 23.',\n",
       "       'Active With Contingencies', 'Pending Ab', 'Pf', 'Contingent Show',\n",
       "       'Contract P', 'Contingent Take Backup', 'Apartment for rent',\n",
       "       'Backup Contract', 'Option Contract', 'Pending Continue To Show',\n",
       "       'pending', 'Pending Inspection', 'Active Option Contract', 'C',\n",
       "       'Auction - Active', 'Contingent   Show', 'Pi',\n",
       "       'Due Diligence Period', 'Contract Contingent On Buyer Sale',\n",
       "       'U Under Contract', 'Coming soon: Nov 29.', 'Coming soon: Dec 2.',\n",
       "       'Active Contingency', 'Pending With Contingencies',\n",
       "       'Lease/Purchase Pending', 'Pending Bring Backup',\n",
       "       'C Continue Show', 'Pending Taking Backups',\n",
       "       'Offer Pending Signature', 'Under Contract - Show',\n",
       "       'Contingent Lien Holder Release', 'Active - Auction',\n",
       "       'Active With Offer', 'Coming soon: Nov 30.', 'Closed',\n",
       "       'Listing Extended', 'Pending, Continue to Show', 'For Sale',\n",
       "       'Contingency Contract', 'Coming soon: Dec 10.',\n",
       "       'Contingent Escape', 'Pending - Taking Backups',\n",
       "       'Coming soon: Dec 24.', 'Active Backup', 'Coming soon: Nov 14.',\n",
       "       'Coming soon: Nov 22.', 'Coming soon: Oct 21.', 'Under contract',\n",
       "       'Coming soon: Dec 14.', 'Coming soon: Oct 24.', 'Condo for rent',\n",
       "       'Active Contingent', 'Coming soon: Dec 18.',\n",
       "       'Pending Offer Approval', 'Pending In', 'Coming soon: Dec 16.',\n",
       "       'Ct', 'Pending W/Insp Finance', 'Coming soon: Dec 3.',\n",
       "       'Coming soon: Dec 25.', 'Coming soon: Nov 11.',\n",
       "       'Coming soon: Nov 28.', 'Contingent Finance and Inspection',\n",
       "       'Temporary Active', 'CT Insp - Inspection Contingency',\n",
       "       'Coming soon: Nov 17.', 'Pending (Do Not Show)',\n",
       "       'Contingency 48 Hr (+/ )',\n",
       "       'Pending   Continue To Show   Financing', 'Pending W/ Cont.',\n",
       "       'Coming soon: Dec 6.', 'Back On Market', 'Coming soon: Nov 27.',\n",
       "       'Pending W/Escape Clause', 'Coming soon: Nov 26.',\n",
       "       'Pending - Continue to Show', 'Under Contract - No Show',\n",
       "       'Contract', 'Coming soon: Dec 7.', 'Coming soon: Dec 27.',\n",
       "       'Coming soon: Dec 11.', 'Coming soon: Dec 5.',\n",
       "       'Coming soon: Nov 13.', 'Contingent   Release', 'Accepted Offer',\n",
       "       'Conditional Contract', 'Active - Contingent',\n",
       "       'Active with Contract', 'Coming soon: Nov 19.',\n",
       "       'Coming soon: Nov 8.', 'Coming soon: Oct 29.',\n",
       "       'Coming soon: Dec 15.', 'Pending W/Backup Wanted',\n",
       "       'Pending Backups Wanted', 'Pending Fe', 'Coming soon: Oct 30.',\n",
       "       'Contingent   No Show', 'Coming soon: Dec 9.', 'Pending Sale',\n",
       "       'Accepting backups', 'Coming soon: Dec 20.',\n",
       "       'Pending Take Backups', 'Contingent   Foreclosure',\n",
       "       'Conting Accpt Backups', 'Lease/Purchase', 'Coming soon: Dec 13.',\n",
       "       'Contingent - Sale of Home', 'Sold: $285,000', 'Sold: $15,000',\n",
       "       'Ps', 'Under Contract W/ Bckp', 'Re Activated',\n",
       "       'Pending - Backup Offer Requested', 'Coming soon: Dec 12.',\n",
       "       'Reactivated', 'Uc Continue To Show', 'Contingent - Financing',\n",
       "       'Coming soon: Nov 5.', 'Coming soon: Nov 12.',\n",
       "       'Coming soon: Dec 1.', 'Pending Sh', 'Coming soon: Nov 25.',\n",
       "       'Under Contract Taking Back Up Offers', 'Backup',\n",
       "       'Coming soon: Dec 23.'], dtype=object)"
      ]
     },
     "metadata": {},
     "output_type": "display_data"
    }
   ],
   "source": [
    "# status\n",
    "display(\n",
    "    df['status'].info()\n",
    ")\n",
    "\n",
    "display(\n",
    "    df['status'].describe()\n",
    ")\n",
    "\n",
    "display(\n",
    "    df['status'].unique()\n",
    ")\n",
    "# data_crude['target_2'] = data_crude['target_2'].apply(lambda x: (''.join(str(x).replace('+',\"\"))))\n",
    "\n",
    "df['status'].isna().sum()\n",
    "df['sale_status'] = df['status']\n",
    "df.drop('status', axis = 1, inplace = True)\n",
    "\n",
    "\n",
    "df['sale_status'].value_counts()[:50]\n",
    "# В столбце 159 уникальных значений и 39918 пропусков. Это достаточно много, чтобы просто удалить их.\n",
    "# Поэтому целесообразно заполнить их значением 'no info',\n",
    "# которое будет означать отсутствие информации о статусе продажи.\n",
    "\n",
    "df['sale_status'] = df['sale_status'].fillna('no info')\n",
    "\n",
    "df['sale_status'] = df['sale_status'].apply(lambda x: str(x).lower())\n",
    "df['sale_status'].value_counts()[:50]\n",
    "\n",
    "# Приведём к единообразию некоторые значения.\n",
    "\n",
    "df['sale_status'] = df['sale_status'].apply(lambda x: 'new construction' if x == 'new' else x)\n",
    "df['sale_status'] = df['sale_status'].apply(lambda x: 'foreclosure' if x == 'foreclosed' else x)\n",
    "df['sale_status'].value_counts()[:50]\n",
    "\n",
    "statuses_with_freqs = list(df.sale_status.value_counts())\n",
    "top_statuses_count = int(np.percentile(statuses_with_freqs, 60))\n",
    "top_statuses_count\n",
    "\n",
    "## Данные в столбце грязные.\n",
    "# Проведём их предобработку, чтобы сократить количество уникальных значений в этом признаке.\n",
    "# Определим 7 самых популярных значений,\n",
    "# которые описывают около 60% примеров - это for_sale, active, no_info, foreclosure, new_constraction, pending,\n",
    "# pre-foreclosure. Оставим только эти значения, остальные удалим.\n",
    "\n",
    "all_statuses = set(df['sale_status'].value_counts().index)\n",
    "main_statuses = set(df['sale_status'].value_counts().index[:7])\n",
    "statuses_to_drop = list(all_statuses - main_statuses)\n",
    "df.drop(df.loc[df['sale_status'].isin(statuses_to_drop), 'sale_status'].index, inplace = True)\n",
    "\n",
    "df.reset_index(inplace = True, drop = True)\n",
    "\n",
    "cat_cols.append('sale_status')\n"
   ]
  },
  {
   "cell_type": "code",
   "execution_count": 11,
   "metadata": {},
   "outputs": [
    {
     "name": "stdout",
     "output_type": "stream",
     "text": [
      "<class 'pandas.core.series.Series'>\n",
      "RangeIndex: 365015 entries, 0 to 365014\n",
      "Series name: propertyType\n",
      "Non-Null Count   Dtype \n",
      "--------------   ----- \n",
      "330424 non-null  object\n",
      "dtypes: object(1)\n",
      "memory usage: 2.8+ MB\n"
     ]
    },
    {
     "data": {
      "text/plain": [
       "None"
      ]
     },
     "metadata": {},
     "output_type": "display_data"
    },
    {
     "data": {
      "text/plain": [
       "count                 330424\n",
       "unique                  1266\n",
       "top       single-family home\n",
       "freq                   91806\n",
       "Name: propertyType, dtype: object"
      ]
     },
     "metadata": {},
     "output_type": "display_data"
    },
    {
     "data": {
      "text/plain": [
       "array(['Single Family Home', 'single-family home', 'lot/land', ...,\n",
       "       'Cabin/Lodge, Contemporary, Converted Barn, Cottage, Loft with Bedrooms, Log Home, Post & Beam',\n",
       "       'Lake House, Single Detached, Tudor',\n",
       "       'Bilevel, Converted Dwelling, Loft with Bedrooms, Condo/Unit'],\n",
       "      dtype=object)"
      ]
     },
     "metadata": {},
     "output_type": "display_data"
    }
   ],
   "source": [
    "# propertyType\n",
    "display(\n",
    "    df['propertyType'].info()\n",
    ")\n",
    "\n",
    "display(\n",
    "    df['propertyType'].describe()\n",
    ")\n",
    "\n",
    "display(\n",
    "    df['propertyType'].unique()\n",
    ")\n"
   ]
  },
  {
   "cell_type": "code",
   "execution_count": null,
   "metadata": {},
   "outputs": [],
   "source": []
  },
  {
   "cell_type": "markdown",
   "metadata": {},
   "source": [
    "### **1. private pool**"
   ]
  },
  {
   "cell_type": "markdown",
   "metadata": {},
   "source": [
    "#### наличие бассейна; тип данных - object\n"
   ]
  },
  {
   "cell_type": "code",
   "execution_count": 12,
   "metadata": {},
   "outputs": [
    {
     "data": {
      "text/plain": [
       "1"
      ]
     },
     "execution_count": 12,
     "metadata": {},
     "output_type": "execute_result"
    }
   ],
   "source": [
    "df['private pool'].nunique()\n"
   ]
  },
  {
   "cell_type": "code",
   "execution_count": 13,
   "metadata": {},
   "outputs": [
    {
     "data": {
      "text/plain": [
       "361023"
      ]
     },
     "execution_count": 13,
     "metadata": {},
     "output_type": "execute_result"
    }
   ],
   "source": [
    "df['private pool'].isna().sum()\n"
   ]
  },
  {
   "cell_type": "code",
   "execution_count": 14,
   "metadata": {},
   "outputs": [
    {
     "data": {
      "text/plain": [
       "array([nan, 'Yes'], dtype=object)"
      ]
     },
     "execution_count": 14,
     "metadata": {},
     "output_type": "execute_result"
    }
   ],
   "source": [
    "df['private pool'].unique()\n"
   ]
  },
  {
   "cell_type": "markdown",
   "metadata": {},
   "source": [
    "#### Данный столбец состоит из одного значения - 'Yes' и 361023 пропуска. Предположим, что пропуск означает отсутствие бассейна, и заменим все пустые ячейки на 'No'.\n",
    "\n"
   ]
  },
  {
   "cell_type": "code",
   "execution_count": 15,
   "metadata": {},
   "outputs": [
    {
     "data": {
      "text/plain": [
       "No     361023\n",
       "Yes      3992\n",
       "Name: private pool, dtype: int64"
      ]
     },
     "execution_count": 15,
     "metadata": {},
     "output_type": "execute_result"
    }
   ],
   "source": [
    "df['private pool'] = df['private pool'].fillna('No')\n",
    "df['private pool'].value_counts()\n"
   ]
  },
  {
   "cell_type": "markdown",
   "metadata": {},
   "source": [
    "## Посмотрим на гистограмму распределения признака.\n"
   ]
  },
  {
   "cell_type": "code",
   "execution_count": 16,
   "metadata": {},
   "outputs": [
    {
     "data": {
      "text/plain": [
       "<AxesSubplot: xlabel='private pool', ylabel='count'>"
      ]
     },
     "execution_count": 16,
     "metadata": {},
     "output_type": "execute_result"
    },
    {
     "data": {
      "image/png": "[encoded data removed]",
      "text/plain": [
       "<Figure size 640x480 with 1 Axes>"
      ]
     },
     "metadata": {},
     "output_type": "display_data"
    }
   ],
   "source": [
    "sns.countplot(x='private pool', data=df)\n"
   ]
  },
  {
   "cell_type": "markdown",
   "metadata": {},
   "source": [
    "#### В результате мы имеем несбалансированный бинарный признак. Удалим его.\n"
   ]
  },
  {
   "cell_type": "code",
   "execution_count": 17,
   "metadata": {},
   "outputs": [],
   "source": [
    "df.drop('private pool', axis = 1, inplace = True)\n"
   ]
  },
  {
   "cell_type": "markdown",
   "metadata": {},
   "source": [
    "### 2. propertyType"
   ]
  },
  {
   "cell_type": "code",
   "execution_count": 18,
   "metadata": {},
   "outputs": [
    {
     "data": {
      "text/plain": [
       "1266"
      ]
     },
     "execution_count": 18,
     "metadata": {},
     "output_type": "execute_result"
    }
   ],
   "source": [
    "## тип недвижимости; тип данных - object\n",
    "df.propertyType.nunique()\n"
   ]
  },
  {
   "cell_type": "code",
   "execution_count": 19,
   "metadata": {},
   "outputs": [
    {
     "data": {
      "text/plain": [
       "34591"
      ]
     },
     "execution_count": 19,
     "metadata": {},
     "output_type": "execute_result"
    }
   ],
   "source": [
    "df.propertyType.isna().sum()\n"
   ]
  },
  {
   "cell_type": "markdown",
   "metadata": {},
   "source": [
    "## Столбец имеет 1266 уникальных значений и 34591 пропуск. Так как пропусков достаточно много, заполним их значением 'no info', означающее отсутствие информации о типе нежвижимости."
   ]
  },
  {
   "cell_type": "code",
   "execution_count": 20,
   "metadata": {},
   "outputs": [
    {
     "data": {
      "text/plain": [
       "single-family home                  91806\n",
       "Single Family                       60255\n",
       "no info                             34591\n",
       "Single Family Home                  26616\n",
       "condo                               25918\n",
       "lot/land                            20541\n",
       "Condo                               16264\n",
       "townhouse                           11398\n",
       "Land                                10558\n",
       "multi-family                         7750\n",
       "Townhouse                            6838\n",
       "Condo/Townhome/Row Home/Co-Op        6089\n",
       "Traditional                          5902\n",
       "coop                                 3266\n",
       "Multi Family                         2741\n",
       "High Rise                            1823\n",
       "Ranch                                1767\n",
       "mobile/manufactured                  1615\n",
       "Detached, One Story                  1612\n",
       "Single Detached, Traditional         1576\n",
       "Contemporary                         1547\n",
       "Multi-Family Home                    1245\n",
       "Colonial                             1156\n",
       "1 Story                              1072\n",
       "Mobile / Manufactured                1040\n",
       "Contemporary/Modern                   998\n",
       "2 Stories                             771\n",
       "Single Detached                       750\n",
       "Mfd/Mobile Home                       703\n",
       "Detached, Two Story                   638\n",
       "One Story                             592\n",
       "Apartment                             576\n",
       "Transitional                          559\n",
       "Cooperative                           533\n",
       "Florida                               530\n",
       "Bungalow                              441\n",
       "Farms/Ranches                         356\n",
       "Two Story                             312\n",
       "apartment                             311\n",
       "Garden Home                           305\n",
       "Cape Cod                              280\n",
       "Spanish/Mediterranean                 272\n",
       "2 Story                               255\n",
       "Other Style                           249\n",
       "2 Stories, Traditional                240\n",
       "Condo/Townhome, Traditional           225\n",
       "Other                                 212\n",
       "SingleFamilyResidence                 209\n",
       "Contemporary/Modern, Traditional      200\n",
       "Craftsman                             200\n",
       "Name: propertyType, dtype: int64"
      ]
     },
     "execution_count": 20,
     "metadata": {},
     "output_type": "execute_result"
    }
   ],
   "source": [
    "df.propertyType = df.propertyType.fillna('no info')\n",
    "df.propertyType.value_counts()[:50]\n"
   ]
  },
  {
   "cell_type": "markdown",
   "metadata": {},
   "source": [
    "### Некоторые значения имеют различное написание, но одинаковый смысл. Приведём их к единообразию. Для начала приведём всё к нижнему регистру.\n",
    "\n"
   ]
  },
  {
   "cell_type": "code",
   "execution_count": 21,
   "metadata": {},
   "outputs": [
    {
     "data": {
      "text/plain": [
       "single-family home                     91806\n",
       "single family                          60255\n",
       "condo                                  42182\n",
       "no info                                34591\n",
       "single family home                     26616\n",
       "lot/land                               20541\n",
       "townhouse                              18236\n",
       "land                                   10558\n",
       "multi-family                            7771\n",
       "condo/townhome/row home/co-op           6089\n",
       "traditional                             5902\n",
       "coop                                    3266\n",
       "multi family                            2741\n",
       "high rise                               1823\n",
       "ranch                                   1767\n",
       "mobile/manufactured                     1615\n",
       "detached, one story                     1612\n",
       "single detached, traditional            1576\n",
       "contemporary                            1547\n",
       "multi-family home                       1245\n",
       "colonial                                1156\n",
       "1 story                                 1073\n",
       "mobile / manufactured                   1040\n",
       "contemporary/modern                      998\n",
       "apartment                                887\n",
       "2 stories                                771\n",
       "single detached                          750\n",
       "mfd/mobile home                          703\n",
       "detached, two story                      638\n",
       "one story                                592\n",
       "transitional                             559\n",
       "cooperative                              533\n",
       "florida                                  530\n",
       "bungalow                                 441\n",
       "farms/ranches                            356\n",
       "two story                                312\n",
       "garden home                              305\n",
       "cape cod                                 280\n",
       "spanish/mediterranean                    272\n",
       "2 story                                  255\n",
       "other style                              249\n",
       "2 stories, traditional                   240\n",
       "condo/townhome, traditional              225\n",
       "other                                    212\n",
       "singlefamilyresidence                    209\n",
       "contemporary/modern, traditional         200\n",
       "craftsman                                200\n",
       "1 story, traditional                     198\n",
       "condo/townhome                           183\n",
       "condo/townhome, contemporary/modern      180\n",
       "Name: propertyType, dtype: int64"
      ]
     },
     "execution_count": 21,
     "metadata": {},
     "output_type": "execute_result"
    }
   ],
   "source": [
    "df['propertyType'] = df['propertyType'].apply(lambda x: str(x).lower())\n",
    "df.propertyType.value_counts()[:50]\n"
   ]
  },
  {
   "cell_type": "markdown",
   "metadata": {},
   "source": [
    "### Приведём к единообразию некоторые значения.\n",
    "\n"
   ]
  },
  {
   "cell_type": "code",
   "execution_count": 22,
   "metadata": {},
   "outputs": [],
   "source": [
    "df['propertyType'] = df['propertyType'].apply(lambda x: 'single-family' if (x=='single family') | (x=='single family home') |\n",
    "                                             (x == 'single-family home') else x)\n",
    "df['propertyType'] = df['propertyType'].apply(lambda x: 'multi-family' if (x=='multi family') | (x == 'multi-family home') else x)\n",
    "df['propertyType'] = df['propertyType'].apply(lambda x: '1 story' if x=='one story' else x)\n",
    "df['propertyType'] = df['propertyType'].apply(lambda x: '2 stories' if (x=='2 story') | (x=='two story')  else x)\n",
    "df['propertyType'] = df['propertyType'].apply(lambda x: 'land' if x=='lot/land'  else x)\n"
   ]
  },
  {
   "cell_type": "code",
   "execution_count": 23,
   "metadata": {},
   "outputs": [
    {
     "data": {
      "text/plain": [
       "single-family                           178677\n",
       "condo                                    42182\n",
       "no info                                  34591\n",
       "land                                     31099\n",
       "townhouse                                18236\n",
       "multi-family                             11757\n",
       "condo/townhome/row home/co-op             6089\n",
       "traditional                               5902\n",
       "coop                                      3266\n",
       "high rise                                 1823\n",
       "ranch                                     1767\n",
       "1 story                                   1665\n",
       "mobile/manufactured                       1615\n",
       "detached, one story                       1612\n",
       "single detached, traditional              1576\n",
       "contemporary                              1547\n",
       "2 stories                                 1338\n",
       "colonial                                  1156\n",
       "mobile / manufactured                     1040\n",
       "contemporary/modern                        998\n",
       "apartment                                  887\n",
       "single detached                            750\n",
       "mfd/mobile home                            703\n",
       "detached, two story                        638\n",
       "transitional                               559\n",
       "cooperative                                533\n",
       "florida                                    530\n",
       "bungalow                                   441\n",
       "farms/ranches                              356\n",
       "garden home                                305\n",
       "cape cod                                   280\n",
       "spanish/mediterranean                      272\n",
       "other style                                249\n",
       "2 stories, traditional                     240\n",
       "condo/townhome, traditional                225\n",
       "other                                      212\n",
       "singlefamilyresidence                      209\n",
       "contemporary/modern, traditional           200\n",
       "craftsman                                  200\n",
       "1 story, traditional                       198\n",
       "condo/townhome                             183\n",
       "condo/townhome, contemporary/modern        180\n",
       "single detached, contemporary/modern       176\n",
       "ranch, traditional                         133\n",
       "mediterranean                              130\n",
       "traditional, transitional                  126\n",
       "                                           124\n",
       "custom                                     119\n",
       "multiple occupancy                         119\n",
       "cluster home                               118\n",
       "Name: propertyType, dtype: int64"
      ]
     },
     "execution_count": 23,
     "metadata": {},
     "output_type": "execute_result"
    }
   ],
   "source": [
    "df.propertyType.value_counts()[:50]\n"
   ]
  },
  {
   "cell_type": "code",
   "execution_count": 24,
   "metadata": {},
   "outputs": [
    {
     "data": {
      "text/plain": [
       "6"
      ]
     },
     "execution_count": 24,
     "metadata": {},
     "output_type": "execute_result"
    }
   ],
   "source": [
    "propertyTypes_with_freqs = list(df.propertyType.value_counts())\n",
    "top_propertyTypes_count = int(np.percentile(propertyTypes_with_freqs, 76))\n",
    "top_propertyTypes_count\n"
   ]
  },
  {
   "cell_type": "markdown",
   "metadata": {},
   "source": [
    "### Выделим 6 самых популярных значений, которые описывают около 76% примеров - это single-family, condo, propertyType no info, land, townhouse, multi-family. Оставим только эти значения, остальные удалим.\n",
    "\n"
   ]
  },
  {
   "cell_type": "code",
   "execution_count": 25,
   "metadata": {},
   "outputs": [],
   "source": [
    "all_propertyTypes = set(df.propertyType.value_counts().index)\n",
    "main_propertyTypes = set(df.propertyType.value_counts().index[:6])\n",
    "propertyTypes_to_drop = list(all_propertyTypes - main_propertyTypes)\n",
    "df.drop(df.loc[df['propertyType'].isin(propertyTypes_to_drop), 'propertyType'].index, inplace = True)\n",
    "\n",
    "df.reset_index(inplace = True, drop = True)\n"
   ]
  },
  {
   "cell_type": "code",
   "execution_count": 26,
   "metadata": {},
   "outputs": [],
   "source": [
    "cat_cols.append('propertyType')\n"
   ]
  },
  {
   "cell_type": "markdown",
   "metadata": {},
   "source": [
    "### 3. street\n"
   ]
  },
  {
   "cell_type": "code",
   "execution_count": 27,
   "metadata": {},
   "outputs": [
    {
     "data": {
      "text/plain": [
       "279370"
      ]
     },
     "execution_count": 27,
     "metadata": {},
     "output_type": "execute_result"
    }
   ],
   "source": [
    "## адрес; тип данных - object\n",
    "df.street.nunique()\n"
   ]
  },
  {
   "cell_type": "code",
   "execution_count": 28,
   "metadata": {},
   "outputs": [
    {
     "data": {
      "text/plain": [
       "2"
      ]
     },
     "execution_count": 28,
     "metadata": {},
     "output_type": "execute_result"
    }
   ],
   "source": [
    "df.street.isna().sum()\n"
   ]
  },
  {
   "cell_type": "markdown",
   "metadata": {},
   "source": [
    "## В столбце имеется 249390 уникальных значений и 1 пропуск. Посмотрим на значения.\n",
    "\n"
   ]
  },
  {
   "cell_type": "code",
   "execution_count": 29,
   "metadata": {},
   "outputs": [
    {
     "data": {
      "text/plain": [
       "0           240 Heather Ln\n",
       "1        12911 E Heroy Ave\n",
       "2        2005 Westridge Rd\n",
       "3      4311 Livingston Ave\n",
       "4           1524 Kiscoe St\n",
       "5        1624 S Newkirk St\n",
       "6          6094 Mingle Dr \n",
       "7            11182 Owl Ave\n",
       "8     8612 Cedar Plains Ln\n",
       "9         16373 NW 16th St\n",
       "10          1538 Umpqua Dr\n",
       "Name: street, dtype: object"
      ]
     },
     "execution_count": 29,
     "metadata": {},
     "output_type": "execute_result"
    }
   ],
   "source": [
    "df.street.loc[:10]\n"
   ]
  },
  {
   "cell_type": "markdown",
   "metadata": {},
   "source": [
    "### Из данного признака можно было бы извлечь расстояние между домом и центром города, в котором находится дом, но мы этого делать не будем. Поэтому удалим этот столбец.\n",
    "\n"
   ]
  },
  {
   "cell_type": "markdown",
   "metadata": {},
   "source": []
  },
  {
   "cell_type": "code",
   "execution_count": 30,
   "metadata": {},
   "outputs": [],
   "source": [
    "df.drop('street', axis = 1, inplace = True)\n"
   ]
  },
  {
   "cell_type": "markdown",
   "metadata": {},
   "source": [
    "# 4. baths\n"
   ]
  },
  {
   "cell_type": "code",
   "execution_count": 31,
   "metadata": {},
   "outputs": [
    {
     "name": "stdout",
     "output_type": "stream",
     "text": [
      "<class 'pandas.core.series.Series'>\n",
      "RangeIndex: 316542 entries, 0 to 316541\n",
      "Series name: baths\n",
      "Non-Null Count   Dtype \n",
      "--------------   ----- \n",
      "239441 non-null  object\n",
      "dtypes: object(1)\n",
      "memory usage: 2.4+ MB\n"
     ]
    },
    {
     "data": {
      "text/plain": [
       "None"
      ]
     },
     "metadata": {},
     "output_type": "display_data"
    },
    {
     "data": {
      "text/plain": [
       "count      239441\n",
       "unique        225\n",
       "top       2 Baths\n",
       "freq        50166\n",
       "Name: baths, dtype: object"
      ]
     },
     "metadata": {},
     "output_type": "display_data"
    },
    {
     "data": {
      "text/plain": [
       "77101"
      ]
     },
     "execution_count": 31,
     "metadata": {},
     "output_type": "execute_result"
    }
   ],
   "source": [
    "# baths\n",
    "## количество и тип ванных комнат; тип данных - object\n",
    "\n",
    "# уберем слово Baths\n",
    "#df['baths'] = df['baths'].apply(lambda x: (''.join(str(x).replace('Baths',\"\"))))\n",
    "#df['baths'] = df['baths'].apply(lambda x: (''.join(str(x).replace('baths',\"\"))))\n",
    "\n",
    "\n",
    "# уберем слово Bathrooms:\n",
    "#df['baths'] = df['baths'].apply(lambda x: (''.join(str(x).replace('Bathrooms:',\"\"))))\n",
    "#df['baths'] = df['baths'].apply(lambda x: (''.join(str(x).replace('bathrooms:',\"\"))))\n",
    "#df['baths'] = df['baths'].apply(lambda x: (''.join(str(x).replace(':',\"\"))))\n",
    "#df['baths'] = df['baths'].apply(lambda x: (''.join(str(x).replace('bathrooms',\"\"))))\n",
    "#df['baths'] = df['baths'].apply(lambda x: (''.join(str(x).replace('Bathrooms',\"\"))))\n",
    "\n",
    "display(\n",
    "    df['baths'].info()\n",
    ")\n",
    "\n",
    "display(\n",
    "    df['baths'].describe()\n",
    ")\n",
    "\n",
    "\n",
    "df.baths.isna().sum()\n",
    "\n",
    "# уберем спец. символы:\n",
    "#df['baths'] = df['baths'].apply(lambda x: (''.join(str(x).replace('ba',\"\"))))\n",
    "#df['baths'] = df['baths'].apply(lambda x: (''.join(str(x).replace('+',\"\"))))\n",
    "#df['baths'] = df['baths'].apply(lambda x: (''.join(str(x).replace(':',\"\"))))\n",
    "#df['baths'] = df['baths'].apply(lambda x: (''.join(str(x).replace(' ',\"\"))))\n",
    "#df['baths'] = df['baths'].apply(lambda x: (''.join(str(x).replace(\"'\",\"\"))))\n",
    "#df['baths'] = df['baths'].apply(lambda x: (''.join(str(x).replace(\",\",\".\"))))"
   ]
  },
  {
   "cell_type": "markdown",
   "metadata": {},
   "source": [
    "## В столбце 225 уникальных значений и 77101 пропуск.\n",
    "\n"
   ]
  },
  {
   "cell_type": "code",
   "execution_count": 32,
   "metadata": {},
   "outputs": [
    {
     "data": {
      "text/plain": [
       "2 Baths         50166\n",
       "3 Baths         35179\n",
       "2.0             15778\n",
       "2               15468\n",
       "4 Baths         14651\n",
       "3.0             10676\n",
       "3                8810\n",
       "Bathrooms: 2     8390\n",
       "Bathrooms: 3     6196\n",
       "1.0              5581\n",
       "5 Baths          5321\n",
       "2.5              5023\n",
       "4.0              4542\n",
       "2.5 Baths        4420\n",
       "1                4204\n",
       "0                3676\n",
       "4                3308\n",
       "Bathrooms: 1     2769\n",
       "6 Baths          2573\n",
       "2 ba             2533\n",
       "3.5              2385\n",
       "Bathrooms: 4     2276\n",
       "3 ba             1858\n",
       "3.5 Baths        1792\n",
       "5.0              1542\n",
       "7 Baths          1196\n",
       "5                1163\n",
       "1,500            1053\n",
       "1.5              1036\n",
       "Bathrooms: 5      806\n",
       "4.5               796\n",
       "3,000             793\n",
       "6.0               731\n",
       "4 ba              725\n",
       "1 ba              702\n",
       "8 Baths           631\n",
       "2,000             605\n",
       "1,250             604\n",
       "1,750             585\n",
       "1,000             510\n",
       "6                 485\n",
       "2,250             455\n",
       "-- baths          402\n",
       "4.5 Baths         373\n",
       "7.0               362\n",
       "Bathrooms: 6      342\n",
       "9 Baths           316\n",
       "2,750             296\n",
       "7                 293\n",
       "5.5               282\n",
       "Name: baths, dtype: int64"
      ]
     },
     "execution_count": 32,
     "metadata": {},
     "output_type": "execute_result"
    }
   ],
   "source": [
    "df.baths.value_counts()[:50]\n"
   ]
  },
  {
   "cell_type": "markdown",
   "metadata": {},
   "source": [
    "## Посмотрим на все уникальные значения.\n",
    "\n"
   ]
  },
  {
   "cell_type": "code",
   "execution_count": 33,
   "metadata": {},
   "outputs": [
    {
     "data": {
      "text/plain": [
       "array(['3.5', '3 Baths', '2 Baths', '8 Baths', nan, '2', '3',\n",
       "       'Bathrooms: 2', '1,750', '4 Baths', '2 ba', 'Bathrooms: 5',\n",
       "       '7 Baths', '1,000', '2.0', '3.0', 'Bathrooms: 1', '4.0',\n",
       "       '2.1 Baths', '2.5 Baths', '1', 'Bathrooms: 3', '4.5', '6 Baths',\n",
       "       'Bathrooms: 4', '3 ba', '5', '5.5 Baths', '1.0', '5 Baths', '1.5',\n",
       "       '4', '2.5', '3.5 Baths', '2,000', '3,000', '8.0', '1 ba', '3.5 ba',\n",
       "       '0', '5.0', '1,500', '7.0', '9 Baths', '2,250', '6.0', '12 Baths',\n",
       "       '5.5', '1.5 Baths', '~', '1,250', 'Bathrooms: 6', '4.5 Baths',\n",
       "       '5.5+', '6', '10 Baths', '6 ba', '2,750', 'Bathrooms: 19', '10.0',\n",
       "       '1.5 ba', '4 ba', '12 ba', '8', '7.5+', '750', 'Bathrooms: 10',\n",
       "       '2.5+', '0 / 0', 'Sq. Ft. ', '5 ba', '2,500', '18 Baths',\n",
       "       '-- baths', 'Bathrooms: 7', '7', '18', '3.5+', '11 Baths',\n",
       "       '1.75 Baths', '9', '12.0', '1.1 Baths', '6.5', 'Bathrooms: 8',\n",
       "       '3,500', '4.5+', '5,000', '10', '19 Baths', 'Bathrooms: 9',\n",
       "       '16 Baths', '1.5+', '13 Baths', 'Bathrooms: 13', '14', '4,000',\n",
       "       '9.0', '8.5+', '7 ba', '12', 'Bathrooms: 12', '17', '2.5 ba',\n",
       "       'Bathrooms: 241', '16.0', '8 ba', '6.5+', '6.5 Baths', '14 Baths',\n",
       "       '7.5', '11.0', '20 Baths', '11', '40 Baths', '1-0 / 1-0 / 1',\n",
       "       '14.0', '1.75 ba', '2.75 Baths', '24 Baths', '22.0', '2.25 Baths',\n",
       "       '3.1 Baths', '3.25 Baths', '—', '13', '4.5 ba', '22', '9 ba', '32',\n",
       "       '7.5 Baths', '18.0', 'Bathrooms: 11', '17 Baths', '0.0',\n",
       "       'Bathrooms: 27', '26', '20.0', '0.00', '9.5', '8.5', '26 Baths',\n",
       "       '15 Baths', '16', '35', '3.75 Baths', '29 Baths', '22 Baths',\n",
       "       'Bathrooms: 18', '116 / 116 / 116', '21 Baths', '5.2 Baths', '29',\n",
       "       '8.5 Baths', '14.5+', '76 Baths', '13.0', 'Bathrooms: SemiMod',\n",
       "       '3-1 / 2-2', '32 Baths', '2.25 ba', '10.5+', '15.0', '23 Baths',\n",
       "       '3.3 Baths', '43 Baths', '1.25 Baths', '34 Baths', '20',\n",
       "       '2.2 Baths', '1 / 1 / 1 / 1', '55.0', '25 Baths', '12.5+',\n",
       "       'Bathrooms: 24', '44 Baths', '0.5 Baths', '4.25 Baths',\n",
       "       '4.75 Baths', '0.75 Baths', '4.1 Baths', '15', 'Bathrooms: 14',\n",
       "       '5.25 Baths', '10 ba', '41.0', '1.8 Baths', 'Bathrooms: 16',\n",
       "       'Bathrooms: 21', '9.5+', '36 Baths', '30 Baths', '27',\n",
       "       '10.5 Baths', '12.5', '24.0', '23.0', '24', '28 Baths', '21',\n",
       "       '2.8 Baths', '10.5', '34.0', '64.0', '11.5+', '13 ba', '39 Baths',\n",
       "       '30', '30.0', '17.0', '40', '42 Baths', '5.5 ba', '16 ba',\n",
       "       '11.5 Baths', '27 Baths', '11 ba', '3.2 Baths',\n",
       "       '2-1 / 2-1 / 1-1 / 1-1', '23', '60 Baths', '1 / 1-0 / 1-0 / 1-0',\n",
       "       '6.75 Baths', 'Bathrooms: 15', '68 Baths', '44.0'], dtype=object)"
      ]
     },
     "metadata": {},
     "output_type": "display_data"
    }
   ],
   "source": [
    "display(\n",
    "    df['baths'].unique()\n",
    ")"
   ]
  },
  {
   "cell_type": "code",
   "execution_count": 34,
   "metadata": {},
   "outputs": [
    {
     "data": {
      "text/plain": [
       "array(['3.5', '3 Baths', '2 Baths', '8 Baths', '1000', '2', '3',\n",
       "       'Bathrooms: 2', '1,750', '4 Baths', '2 ba', 'Bathrooms: 5',\n",
       "       '7 Baths', '1,000', '2.0', '3.0', 'Bathrooms: 1', '4.0',\n",
       "       '2.1 Baths', '2.5 Baths', '1', 'Bathrooms: 3', '4.5', '6 Baths',\n",
       "       'Bathrooms: 4', '3 ba', '5', '5.5 Baths', '1.0', '5 Baths', '1.5',\n",
       "       '4', '2.5', '3.5 Baths', '2,000', '3,000', '8.0', '1 ba', '3.5 ba',\n",
       "       '0', '5.0', '1,500', '7.0', '9 Baths', '2,250', '6.0', '12 Baths',\n",
       "       '5.5', '1.5 Baths', '1,250', 'Bathrooms: 6', '4.5 Baths', '5.5+',\n",
       "       '6', '10 Baths', '6 ba', '2,750', 'Bathrooms: 19', '10.0',\n",
       "       '1.5 ba', '4 ba', '12 ba', '8', '7.5+', 'Bathrooms: 10', '2.5+',\n",
       "       '0 / 0', '5 ba', '2,500', '18 Baths', 'Bathrooms: 7', '7', '18',\n",
       "       '3.5+', '11 Baths', '1.75 Baths', '9', '12.0', '1.1 Baths', '6.5',\n",
       "       'Bathrooms: 8', '3,500', '4.5+', '5,000', '10', '19 Baths',\n",
       "       'Bathrooms: 9', '16 Baths', '1.5+', '13 Baths', 'Bathrooms: 13',\n",
       "       '14', '4,000', '9.0', '8.5+', '7 ba', '12', 'Bathrooms: 12', '17',\n",
       "       '2.5 ba', '16.0', '8 ba', '6.5+', '6.5 Baths', '14 Baths', '7.5',\n",
       "       '11.0', '20 Baths', '11', '40 Baths', '14.0', '1.75 ba',\n",
       "       '2.75 Baths', '24 Baths', '22.0', '2.25 Baths', '3.1 Baths',\n",
       "       '3.25 Baths', '13', '4.5 ba', '22', '9 ba', '32', '7.5 Baths',\n",
       "       '18.0', 'Bathrooms: 11', '17 Baths', '0.0', 'Bathrooms: 27', '26',\n",
       "       '20.0', '0.00', '9.5', '8.5', '26 Baths', '15 Baths', '16', '35',\n",
       "       '3.75 Baths', '29 Baths', '22 Baths', 'Bathrooms: 18', '21 Baths',\n",
       "       '5.2 Baths', '29', '8.5 Baths', '14.5+', '76 Baths', '13.0',\n",
       "       '32 Baths', '2.25 ba', '10.5+', '15.0', '23 Baths', '3.3 Baths',\n",
       "       '43 Baths', '1.25 Baths', '34 Baths', '20', '2.2 Baths', '55.0',\n",
       "       '25 Baths', '12.5+', 'Bathrooms: 24', '44 Baths', '0.5 Baths',\n",
       "       '4.25 Baths', '4.75 Baths', '0.75 Baths', '4.1 Baths', '15',\n",
       "       'Bathrooms: 14', '5.25 Baths', '10 ba', '41.0', '1.8 Baths',\n",
       "       'Bathrooms: 16', 'Bathrooms: 21', '9.5+', '36 Baths', '30 Baths',\n",
       "       '27', '10.5 Baths', '12.5', '24.0', '23.0', '24', '28 Baths', '21',\n",
       "       '2.8 Baths', '10.5', '34.0', '64.0', '11.5+', '13 ba', '39 Baths',\n",
       "       '30', '30.0', '17.0', '40', '42 Baths', '5.5 ba', '16 ba',\n",
       "       '11.5 Baths', '27 Baths', '11 ba', '3.2 Baths', '23', '60 Baths',\n",
       "       '6.75 Baths', 'Bathrooms: 15', '68 Baths', '44.0'], dtype=object)"
      ]
     },
     "execution_count": 34,
     "metadata": {},
     "output_type": "execute_result"
    }
   ],
   "source": [
    "df['baths'] = df['baths'].fillna('1000')\n",
    "\n",
    "df['baths'] = df['baths'].apply(lambda x: '1000' if (x=='-- baths') | (x=='—') | (x=='Sq. Ft. ') | (x=='~') else x)\n",
    "df = df.drop(df[(df.baths=='2-1 / 2-1 / 1-1 / 1-1') | (df.baths=='1 / 1-0 / 1-0 / 1-0') | (df.baths=='1 / 1 / 1 / 1') | \\\n",
    "                (df.baths=='3-1 / 2-2') | (df.baths=='Bathrooms: SemiMod') | (df.baths=='Bathrooms: 241') | \\\n",
    "                (df.baths=='1-0 / 1-0 / 1') | (df.baths=='116 / 116 / 116') | (df.baths=='750')].index)\n",
    "\n",
    "df.reset_index(inplace = True, drop = True)\n",
    "\n",
    "df.baths.unique()\n"
   ]
  },
  {
   "cell_type": "markdown",
   "metadata": {},
   "source": [
    "#### Теперь создадим признак full_baths, содержащий количество полных ванных комнат в доме.\n",
    "\n"
   ]
  },
  {
   "cell_type": "code",
   "execution_count": 35,
   "metadata": {},
   "outputs": [],
   "source": [
    "pattern = re.compile('\\d+')\n",
    "df['full_baths'] = df['baths'].apply(lambda x: int(pattern.findall(x)[0]))\n"
   ]
  },
  {
   "cell_type": "code",
   "execution_count": 36,
   "metadata": {},
   "outputs": [
    {
     "data": {
      "text/plain": [
       "Int64Index([   0,    1,    2,    3,    4,    5,    6,    7,    8,    9,   10,\n",
       "              11,   12,   13,   14,   15,   16,   17,   18,   19,   20,   21,\n",
       "              22,   23,   24,   25,   26,   27,   28,   29,   30,   32,   34,\n",
       "              35,   36,   39,   40,   41,   42,   43,   44,   55,   60,   64,\n",
       "              68,   76, 1000],\n",
       "           dtype='int64')"
      ]
     },
     "execution_count": 36,
     "metadata": {},
     "output_type": "execute_result"
    }
   ],
   "source": [
    "df.full_baths.value_counts().index.sort_values()\n"
   ]
  },
  {
   "cell_type": "markdown",
   "metadata": {},
   "source": [
    "### Данный столбец можно сделать категориальным, разбив количество ванных комнат на диапазоны, а отсутствие значения закодировать значением 'no_info'.\n",
    "\n"
   ]
  },
  {
   "cell_type": "code",
   "execution_count": 37,
   "metadata": {},
   "outputs": [],
   "source": [
    "for i in df.index:\n",
    "    if df['full_baths'].loc[i] == 0:\n",
    "        df['full_baths'].loc[i] = 'no'\n",
    "    elif df['full_baths'].loc[i]  == 1:\n",
    "        df['full_baths'].loc[i] = '1'\n",
    "    elif df['full_baths'].loc[i] == 2:\n",
    "        df['full_baths'].loc[i] = '2'\n",
    "    elif (df['full_baths'].loc[i] > 2) & (df['full_baths'].loc[i] < 1000):\n",
    "        df['full_baths'].loc[i] = 'more_than_2'\n",
    "    elif df['full_baths'].loc[i] == 1000:\n",
    "        df['full_baths'].loc[i] = 'no_info'\n"
   ]
  },
  {
   "cell_type": "markdown",
   "metadata": {},
   "source": [
    "### Столбец baths удалим.\n",
    "\n"
   ]
  },
  {
   "cell_type": "code",
   "execution_count": 38,
   "metadata": {},
   "outputs": [],
   "source": [
    "df.drop('baths', axis = 1, inplace = True)\n"
   ]
  },
  {
   "cell_type": "code",
   "execution_count": 39,
   "metadata": {},
   "outputs": [],
   "source": [
    "cat_cols.append('full_baths')\n"
   ]
  },
  {
   "cell_type": "markdown",
   "metadata": {},
   "source": [
    "### 5. homeFacts\n"
   ]
  },
  {
   "cell_type": "code",
   "execution_count": 40,
   "metadata": {},
   "outputs": [],
   "source": [
    "## характеристики дома; тип данных - object\n"
   ]
  },
  {
   "cell_type": "code",
   "execution_count": 41,
   "metadata": {},
   "outputs": [
    {
     "data": {
      "text/plain": [
       "264366"
      ]
     },
     "execution_count": 41,
     "metadata": {},
     "output_type": "execute_result"
    }
   ],
   "source": [
    "df.homeFacts.nunique()\n"
   ]
  },
  {
   "cell_type": "code",
   "execution_count": 42,
   "metadata": {},
   "outputs": [
    {
     "data": {
      "text/plain": [
       "0"
      ]
     },
     "execution_count": 42,
     "metadata": {},
     "output_type": "execute_result"
    }
   ],
   "source": [
    "df.homeFacts.isna().sum()\n"
   ]
  },
  {
   "cell_type": "code",
   "execution_count": 43,
   "metadata": {},
   "outputs": [
    {
     "data": {
      "text/plain": [
       "\"{'atAGlanceFacts': [{'factValue': '2019', 'factLabel': 'Year built'}, {'factValue': '', 'factLabel': 'Remodeled year'}, {'factValue': 'Central A/C, Heat Pump', 'factLabel': 'Heating'}, {'factValue': '', 'factLabel': 'Cooling'}, {'factValue': '', 'factLabel': 'Parking'}, {'factValue': None, 'factLabel': 'lotsize'}, {'factValue': '$144', 'factLabel': 'Price/sqft'}]}\""
      ]
     },
     "execution_count": 43,
     "metadata": {},
     "output_type": "execute_result"
    }
   ],
   "source": [
    "df.homeFacts[0]\n"
   ]
  },
  {
   "cell_type": "markdown",
   "metadata": {},
   "source": [
    "### В столбце типом данных является строка, в которой закодирован словарь. Применим функцию eval для раскодировки словаря.\n",
    "\n"
   ]
  },
  {
   "cell_type": "code",
   "execution_count": 44,
   "metadata": {},
   "outputs": [],
   "source": [
    "df.homeFacts = df.homeFacts.apply(eval)\n"
   ]
  },
  {
   "cell_type": "code",
   "execution_count": 45,
   "metadata": {},
   "outputs": [
    {
     "data": {
      "text/plain": [
       "{'atAGlanceFacts': [{'factValue': '2019', 'factLabel': 'Year built'},\n",
       "  {'factValue': '', 'factLabel': 'Remodeled year'},\n",
       "  {'factValue': 'Central A/C, Heat Pump', 'factLabel': 'Heating'},\n",
       "  {'factValue': '', 'factLabel': 'Cooling'},\n",
       "  {'factValue': '', 'factLabel': 'Parking'},\n",
       "  {'factValue': None, 'factLabel': 'lotsize'},\n",
       "  {'factValue': '$144', 'factLabel': 'Price/sqft'}]}"
      ]
     },
     "execution_count": 45,
     "metadata": {},
     "output_type": "execute_result"
    }
   ],
   "source": [
    "df.homeFacts[0]\n"
   ]
  },
  {
   "cell_type": "markdown",
   "metadata": {},
   "source": [
    "### Извлечем из словаря год постройки дома и создадим новый признак 'year_built'.\n"
   ]
  },
  {
   "cell_type": "code",
   "execution_count": 46,
   "metadata": {},
   "outputs": [],
   "source": [
    "df['year_built'] = df['homeFacts'].apply(lambda x: x['atAGlanceFacts'][0]['factValue'])\n"
   ]
  },
  {
   "cell_type": "code",
   "execution_count": 47,
   "metadata": {},
   "outputs": [
    {
     "data": {
      "text/plain": [
       "223"
      ]
     },
     "execution_count": 47,
     "metadata": {},
     "output_type": "execute_result"
    }
   ],
   "source": [
    "df.year_built.nunique()\n"
   ]
  },
  {
   "cell_type": "code",
   "execution_count": 48,
   "metadata": {},
   "outputs": [
    {
     "data": {
      "text/plain": [
       "3578"
      ]
     },
     "execution_count": 48,
     "metadata": {},
     "output_type": "execute_result"
    }
   ],
   "source": [
    "df.year_built.isna().sum()\n"
   ]
  },
  {
   "cell_type": "code",
   "execution_count": 49,
   "metadata": {},
   "outputs": [
    {
     "data": {
      "text/plain": [
       "array(['2019', '1961', '2006', '', '1920', '1976', '1970', '1996', '1982',\n",
       "       '2008', '1899', '2016', '1954', '1989', '2014', '1915', '1994',\n",
       "       '1923', '1960', '1977', '1972', '1963', '1981', '1949', '1930',\n",
       "       '1991', '1958', '2005', '2017', '2018', '1983', '1928', '1997',\n",
       "       '1964', '1974', '1940', '1965', '1973', '1968', '1999', '1918',\n",
       "       '2007', '1984', '1946', '2003', '2000', '2004', '2002', '1947',\n",
       "       '1957', '1967', '1969', '1975', '1988', '1955', '1950', '1959',\n",
       "       '2012', '1924', '1956', '1966', '1992', '2001', '1985', '1971',\n",
       "       '1909', '1953', '1993', '1990', '1995', '1998', '1980', '1951',\n",
       "       '1907', '1885', '1941', '2010', '1927', '1929', '1978', '1901',\n",
       "       None, '1922', '1906', '1945', '2009', '1962', '1979', '2011',\n",
       "       '2015', '1897', '1987', '2020', '1926', '1952', '1925', '1910',\n",
       "       '2013', '1986', '1943', '1935', '1890', '1900', '1895', '1911',\n",
       "       '1948', 'No Data', '1942', '1944', '1916', '1893', '1879', '1914',\n",
       "       '1939', '1937', '1913', '1905', '1912', '1938', '1921', '1860',\n",
       "       '1850', '1861', '1898', '1908', '1865', '1917', '1740', '1934',\n",
       "       '1902', '1700', '1931', '1904', '1932', '1896', '1892', '1936',\n",
       "       '1830', '1919', '1933', '1888', '1889', '1832', '1903', '1870',\n",
       "       '1875', '1864', '1886', '1880', '1873', '1887', '1884', '1800',\n",
       "       '1852', '1858', '1869', '1894', '1840', '1872', '1881', '1891',\n",
       "       '1868', '2021', '1846', '1854', '1799', '1828', '1878', '1876',\n",
       "       '1815', '1877', '1810', '1822', '1862', '1866', '1835', '1820',\n",
       "       '1836', '1853', '1807', '1867', '1874', '1848', '1795', '1831',\n",
       "       '1883', '1803', '1871', '1823', '1817', '1844', '1796', '1809',\n",
       "       '1824', '1851', '2022', '1882', '1842', '1', '1825', '1845',\n",
       "       '1811', '1847', '1855', '1750', '1057', '1703', '1863', '1802',\n",
       "       '1812', '1856', '1816', '1794', '1834', '1060', '1790', '1788',\n",
       "       '1735', '1818', '1805', '1859', '1829', '1804', '1857'],\n",
       "      dtype=object)"
      ]
     },
     "execution_count": 49,
     "metadata": {},
     "output_type": "execute_result"
    }
   ],
   "source": [
    "df.year_built.unique()\n"
   ]
  },
  {
   "cell_type": "markdown",
   "metadata": {},
   "source": [
    "### Столбец содержит 223 уникальных значения и 3578 пропусков. Видны некорректные значения. Проведем обработку этих данных. В столбце есть строки со значениями 559990649990 и 1. Удалим их.\n",
    "\n"
   ]
  },
  {
   "cell_type": "code",
   "execution_count": 50,
   "metadata": {},
   "outputs": [],
   "source": [
    "df = df.drop(df[(df.year_built == '559990649990') | (df.year_built == '1')].index)\n",
    "df.reset_index(inplace = True, drop = True)\n"
   ]
  },
  {
   "cell_type": "markdown",
   "metadata": {},
   "source": [
    "#### Пустая строка ' ' означает пропуск, также пропуск означает строка 'No Data' и значение None. Сначала заменим ' ' и 'No Data' на None.\n",
    "\n"
   ]
  },
  {
   "cell_type": "code",
   "execution_count": 51,
   "metadata": {},
   "outputs": [],
   "source": [
    "df.year_built = df.year_built.apply(lambda x: None if (x == '') | (x == 'No Data') else x)\n"
   ]
  },
  {
   "cell_type": "code",
   "execution_count": 52,
   "metadata": {},
   "outputs": [
    {
     "data": {
      "text/plain": [
       "array(['2019', '1961', '2006', None, '1920', '1976', '1970', '1996',\n",
       "       '1982', '2008', '1899', '2016', '1954', '1989', '2014', '1915',\n",
       "       '1994', '1923', '1960', '1977', '1972', '1963', '1981', '1949',\n",
       "       '1930', '1991', '1958', '2005', '2017', '2018', '1983', '1928',\n",
       "       '1997', '1964', '1974', '1940', '1965', '1973', '1968', '1999',\n",
       "       '1918', '2007', '1984', '1946', '2003', '2000', '2004', '2002',\n",
       "       '1947', '1957', '1967', '1969', '1975', '1988', '1955', '1950',\n",
       "       '1959', '2012', '1924', '1956', '1966', '1992', '2001', '1985',\n",
       "       '1971', '1909', '1953', '1993', '1990', '1995', '1998', '1980',\n",
       "       '1951', '1907', '1885', '1941', '2010', '1927', '1929', '1978',\n",
       "       '1901', '1922', '1906', '1945', '2009', '1962', '1979', '2011',\n",
       "       '2015', '1897', '1987', '2020', '1926', '1952', '1925', '1910',\n",
       "       '2013', '1986', '1943', '1935', '1890', '1900', '1895', '1911',\n",
       "       '1948', '1942', '1944', '1916', '1893', '1879', '1914', '1939',\n",
       "       '1937', '1913', '1905', '1912', '1938', '1921', '1860', '1850',\n",
       "       '1861', '1898', '1908', '1865', '1917', '1740', '1934', '1902',\n",
       "       '1700', '1931', '1904', '1932', '1896', '1892', '1936', '1830',\n",
       "       '1919', '1933', '1888', '1889', '1832', '1903', '1870', '1875',\n",
       "       '1864', '1886', '1880', '1873', '1887', '1884', '1800', '1852',\n",
       "       '1858', '1869', '1894', '1840', '1872', '1881', '1891', '1868',\n",
       "       '2021', '1846', '1854', '1799', '1828', '1878', '1876', '1815',\n",
       "       '1877', '1810', '1822', '1862', '1866', '1835', '1820', '1836',\n",
       "       '1853', '1807', '1867', '1874', '1848', '1795', '1831', '1883',\n",
       "       '1803', '1871', '1823', '1817', '1844', '1796', '1809', '1824',\n",
       "       '1851', '2022', '1882', '1842', '1825', '1845', '1811', '1847',\n",
       "       '1855', '1750', '1057', '1703', '1863', '1802', '1812', '1856',\n",
       "       '1816', '1794', '1834', '1060', '1790', '1788', '1735', '1818',\n",
       "       '1805', '1859', '1829', '1804', '1857'], dtype=object)"
      ]
     },
     "execution_count": 52,
     "metadata": {},
     "output_type": "execute_result"
    }
   ],
   "source": [
    "df.year_built.unique()\n"
   ]
  },
  {
   "cell_type": "markdown",
   "metadata": {},
   "source": [
    "## Переведём столбец в числовой формат.\n",
    "\n"
   ]
  },
  {
   "cell_type": "code",
   "execution_count": 53,
   "metadata": {},
   "outputs": [],
   "source": [
    "df.year_built = df.year_built.apply(lambda x: int(x) if x != None else x)\n"
   ]
  },
  {
   "cell_type": "code",
   "execution_count": 54,
   "metadata": {},
   "outputs": [
    {
     "data": {
      "text/plain": [
       "numpy.float64"
      ]
     },
     "execution_count": 54,
     "metadata": {},
     "output_type": "execute_result"
    }
   ],
   "source": [
    "type(df.year_built[0])\n"
   ]
  },
  {
   "cell_type": "markdown",
   "metadata": {},
   "source": [
    "## Теперь посчитаем сколько у нас всего пропусков:\n",
    "\n"
   ]
  },
  {
   "cell_type": "code",
   "execution_count": 55,
   "metadata": {},
   "outputs": [
    {
     "data": {
      "text/plain": [
       "61925"
      ]
     },
     "execution_count": 55,
     "metadata": {},
     "output_type": "execute_result"
    }
   ],
   "source": [
    "df.year_built.isna().sum()\n"
   ]
  },
  {
   "cell_type": "markdown",
   "metadata": {},
   "source": [
    "### Таких значений 61925. Заполним их медианным значением, округлённым до целого.\n",
    "\n"
   ]
  },
  {
   "cell_type": "code",
   "execution_count": 56,
   "metadata": {},
   "outputs": [
    {
     "data": {
      "text/plain": [
       "1985"
      ]
     },
     "execution_count": 56,
     "metadata": {},
     "output_type": "execute_result"
    }
   ],
   "source": [
    "round(df.year_built.median())\n"
   ]
  },
  {
   "cell_type": "code",
   "execution_count": 57,
   "metadata": {},
   "outputs": [],
   "source": [
    "df['year_built'] = df['year_built'].fillna(1985)\n"
   ]
  },
  {
   "cell_type": "markdown",
   "metadata": {},
   "source": [
    "## Отфильтруем выбросы. Для этого воспользуемся функцией outliers_iqr.\n",
    "\n"
   ]
  },
  {
   "cell_type": "code",
   "execution_count": 58,
   "metadata": {},
   "outputs": [
    {
     "data": {
      "text/plain": [
       "144763    1057.0\n",
       "221539    1060.0\n",
       "2017      1700.0\n",
       "145918    1703.0\n",
       "267785    1703.0\n",
       "           ...  \n",
       "256813    1901.0\n",
       "257021    1901.0\n",
       "64306     1901.0\n",
       "247154    1901.0\n",
       "240654    1901.0\n",
       "Name: year_built, Length: 5873, dtype: float64"
      ]
     },
     "execution_count": 58,
     "metadata": {},
     "output_type": "execute_result"
    }
   ],
   "source": [
    "df.year_built.loc[outliers_iqr(df.year_built)].sort_values()\n"
   ]
  },
  {
   "cell_type": "markdown",
   "metadata": {},
   "source": [
    "### Выявлено 5873 выброса. Удалим их.\n",
    "\n"
   ]
  },
  {
   "cell_type": "code",
   "execution_count": 59,
   "metadata": {},
   "outputs": [],
   "source": [
    "df = df.drop(outliers_iqr(df.year_built))\n",
    "df.reset_index(inplace = True, drop = True)\n"
   ]
  },
  {
   "cell_type": "markdown",
   "metadata": {},
   "source": [
    "### Посмотрим все ли значения соответствуют здравому смыслу. Для этого они не должны быть больше 2021 года.\n",
    "\n"
   ]
  },
  {
   "cell_type": "code",
   "execution_count": 60,
   "metadata": {},
   "outputs": [
    {
     "data": {
      "text/plain": [
       "4"
      ]
     },
     "execution_count": 60,
     "metadata": {},
     "output_type": "execute_result"
    }
   ],
   "source": [
    "len(df[df.year_built > 2021])\n"
   ]
  },
  {
   "cell_type": "markdown",
   "metadata": {},
   "source": [
    "## Выяснилось, что есть 4 таких значений. Также удалим их как выбросы.\n",
    "\n"
   ]
  },
  {
   "cell_type": "code",
   "execution_count": 61,
   "metadata": {},
   "outputs": [],
   "source": [
    "df.drop(df[df.year_built > 2021].index, inplace = True)\n",
    "\n",
    "df.reset_index(inplace = True, drop = True)\n"
   ]
  },
  {
   "cell_type": "markdown",
   "metadata": {},
   "source": [
    "### Посмотрим на гистограмму распределения:\n",
    "\n"
   ]
  },
  {
   "cell_type": "code",
   "execution_count": 62,
   "metadata": {},
   "outputs": [
    {
     "data": {
      "text/plain": [
       "<AxesSubplot: >"
      ]
     },
     "execution_count": 62,
     "metadata": {},
     "output_type": "execute_result"
    },
    {
     "data": {
      "image/png": "[encoded data removed]",
      "text/plain": [
       "<Figure size 1200x700 with 1 Axes>"
      ]
     },
     "metadata": {},
     "output_type": "display_data"
    }
   ],
   "source": [
    "plt.figure(figsize = (12,7))\n",
    "df.year_built.hist(bins=20)\n"
   ]
  },
  {
   "cell_type": "markdown",
   "metadata": {},
   "source": [
    "### Распределение имеет левый хвост.\n",
    "\n"
   ]
  },
  {
   "cell_type": "code",
   "execution_count": 63,
   "metadata": {},
   "outputs": [],
   "source": [
    "num_cols.append('year_built')\n"
   ]
  },
  {
   "cell_type": "markdown",
   "metadata": {},
   "source": [
    "### Теперь извлечём из словаря год реконструкции дома и создадим еще один признак remodeled_year.\n"
   ]
  },
  {
   "cell_type": "code",
   "execution_count": 64,
   "metadata": {},
   "outputs": [],
   "source": [
    "df['remodeled_year'] = df['homeFacts'].apply(lambda x: x['atAGlanceFacts'][1]['factValue'])"
   ]
  },
  {
   "cell_type": "code",
   "execution_count": 65,
   "metadata": {},
   "outputs": [
    {
     "data": {
      "text/plain": [
       "130"
      ]
     },
     "execution_count": 65,
     "metadata": {},
     "output_type": "execute_result"
    }
   ],
   "source": [
    "df.remodeled_year.nunique()\n"
   ]
  },
  {
   "cell_type": "code",
   "execution_count": 66,
   "metadata": {},
   "outputs": [
    {
     "data": {
      "text/plain": [
       "24846"
      ]
     },
     "execution_count": 66,
     "metadata": {},
     "output_type": "execute_result"
    }
   ],
   "source": [
    "df.remodeled_year.isna().sum()\n"
   ]
  },
  {
   "cell_type": "code",
   "execution_count": 67,
   "metadata": {},
   "outputs": [
    {
     "data": {
      "text/plain": [
       "array(['', '1967', '2006', None, '1997', '2019', '1982', '2009', '1995',\n",
       "       '1988', '1972', '1949', '1954', '1930', '2003', '2000', '1994',\n",
       "       '2005', '1983', '1965', '1968', '1999', '2014', '2008', '2010',\n",
       "       '2004', '2007', '2002', '1978', '1975', '1971', '1947', '1957',\n",
       "       '1950', '1973', '1970', '1989', '1998', '1980', '1986', '1955',\n",
       "       '1991', '1993', '2011', '1996', '2016', '1941', '2001', '1990',\n",
       "       '1979', '1984', '1918', '1962', '1956', '2013', '1960', '1981',\n",
       "       '1969', '1987', '1958', '1910', '1925', '2017', '1966', '1992',\n",
       "       '1943', '1961', '2015', '1948', '1952', '1931', '1976', '1974',\n",
       "       '1935', '1940', '1916', '1914', '1963', '2012', '2018', '1985',\n",
       "       '1951', '1944', '1977', '1964', '1942', '1959', '1927', '1946',\n",
       "       '1945', '1920', '1938', '1936', '0', '1939', '1915', '1928',\n",
       "       '1923', '1929', '1934', '1953', '1926', '1937', '1912', '1917',\n",
       "       '1899', '1932', '1905', '1919', '1901', '1906', '1921', '1924',\n",
       "       '1907', '1911', '1913', '1908', '1903', '1904', '1933', '1922',\n",
       "       '1902', '1909', '2020', '1900', '2021', '1869', '1845', '1890',\n",
       "       '1738', '1889'], dtype=object)"
      ]
     },
     "execution_count": 67,
     "metadata": {},
     "output_type": "execute_result"
    }
   ],
   "source": [
    "df.remodeled_year.unique()\n",
    "    "
   ]
  },
  {
   "cell_type": "markdown",
   "metadata": {},
   "source": [
    "## Столбец содержит 130 уникальных значений и 24846 пропусков. Проведем обработку этих данных. Предположим, что пустая строка ' ', '0' и пропуски означают то, что реконструкция дома не проводилась. Заменим пустую строку ' ' на '0'. Пропуски также заполним значением '0'.\n",
    "\n"
   ]
  },
  {
   "cell_type": "code",
   "execution_count": 68,
   "metadata": {},
   "outputs": [],
   "source": [
    "df.remodeled_year = df.remodeled_year.apply(lambda x: '0' if x == '' else x)\n",
    "df.remodeled_year = df.remodeled_year.fillna('0')\n"
   ]
  },
  {
   "cell_type": "code",
   "execution_count": 69,
   "metadata": {},
   "outputs": [
    {
     "data": {
      "text/plain": [
       "array(['0', '1967', '2006', '1997', '2019', '1982', '2009', '1995',\n",
       "       '1988', '1972', '1949', '1954', '1930', '2003', '2000', '1994',\n",
       "       '2005', '1983', '1965', '1968', '1999', '2014', '2008', '2010',\n",
       "       '2004', '2007', '2002', '1978', '1975', '1971', '1947', '1957',\n",
       "       '1950', '1973', '1970', '1989', '1998', '1980', '1986', '1955',\n",
       "       '1991', '1993', '2011', '1996', '2016', '1941', '2001', '1990',\n",
       "       '1979', '1984', '1918', '1962', '1956', '2013', '1960', '1981',\n",
       "       '1969', '1987', '1958', '1910', '1925', '2017', '1966', '1992',\n",
       "       '1943', '1961', '2015', '1948', '1952', '1931', '1976', '1974',\n",
       "       '1935', '1940', '1916', '1914', '1963', '2012', '2018', '1985',\n",
       "       '1951', '1944', '1977', '1964', '1942', '1959', '1927', '1946',\n",
       "       '1945', '1920', '1938', '1936', '1939', '1915', '1928', '1923',\n",
       "       '1929', '1934', '1953', '1926', '1937', '1912', '1917', '1899',\n",
       "       '1932', '1905', '1919', '1901', '1906', '1921', '1924', '1907',\n",
       "       '1911', '1913', '1908', '1903', '1904', '1933', '1922', '1902',\n",
       "       '1909', '2020', '1900', '2021', '1869', '1845', '1890', '1738',\n",
       "       '1889'], dtype=object)"
      ]
     },
     "execution_count": 69,
     "metadata": {},
     "output_type": "execute_result"
    }
   ],
   "source": [
    "df.remodeled_year.unique()\n"
   ]
  },
  {
   "cell_type": "markdown",
   "metadata": {},
   "source": [
    "### Переведем столбец в числовой формат.\n",
    "\n"
   ]
  },
  {
   "cell_type": "code",
   "execution_count": 70,
   "metadata": {},
   "outputs": [],
   "source": [
    "df.remodeled_year = df.remodeled_year.apply(lambda x: int(x))\n"
   ]
  },
  {
   "cell_type": "code",
   "execution_count": 71,
   "metadata": {},
   "outputs": [
    {
     "data": {
      "text/plain": [
       "numpy.int64"
      ]
     },
     "execution_count": 71,
     "metadata": {},
     "output_type": "execute_result"
    }
   ],
   "source": [
    "type(df.remodeled_year[0])\n"
   ]
  },
  {
   "cell_type": "markdown",
   "metadata": {},
   "source": [
    "### Посмотрим сколько нулевых значений в столбце.\n",
    "\n"
   ]
  },
  {
   "cell_type": "code",
   "execution_count": 72,
   "metadata": {},
   "outputs": [
    {
     "data": {
      "text/plain": [
       "185220"
      ]
     },
     "execution_count": 72,
     "metadata": {},
     "output_type": "execute_result"
    }
   ],
   "source": [
    "len(df[df.remodeled_year == 0])\n"
   ]
  },
  {
   "cell_type": "markdown",
   "metadata": {},
   "source": [
    "### Количество нулей в столбце 185220, это 2/3 всех данных в столбце. Целесообразно данный столбец закодировать в бинарный признак, где нули заменим на значение 'no', которое будет означать то, что реконструкция дома не проводилась, а значения годов заменим на 'yes', что будет означать проведение реконструкции.\n",
    "\n"
   ]
  },
  {
   "cell_type": "markdown",
   "metadata": {},
   "source": [
    "## Создаём новый столбец remodeling.\n",
    "\n"
   ]
  },
  {
   "cell_type": "code",
   "execution_count": 73,
   "metadata": {},
   "outputs": [],
   "source": [
    "df['remodeling'] = df.remodeled_year.apply(lambda x: 'yes' if x > 0 else 'no')\n",
    "df.drop('remodeled_year', axis = 1, inplace = True)\n"
   ]
  },
  {
   "cell_type": "code",
   "execution_count": 74,
   "metadata": {},
   "outputs": [
    {
     "data": {
      "text/plain": [
       "no     185220\n",
       "yes    125387\n",
       "Name: remodeling, dtype: int64"
      ]
     },
     "execution_count": 74,
     "metadata": {},
     "output_type": "execute_result"
    }
   ],
   "source": [
    "df.remodeling.value_counts()\n"
   ]
  },
  {
   "cell_type": "markdown",
   "metadata": {},
   "source": [
    "## Посмотрим на гистограмму распределения признака.\n",
    "\n"
   ]
  },
  {
   "cell_type": "code",
   "execution_count": 75,
   "metadata": {},
   "outputs": [
    {
     "data": {
      "text/plain": [
       "<AxesSubplot: xlabel='remodeling', ylabel='count'>"
      ]
     },
     "execution_count": 75,
     "metadata": {},
     "output_type": "execute_result"
    },
    {
     "data": {
      "image/png": "[encoded data removed]",
      "text/plain": [
       "<Figure size 640x480 with 1 Axes>"
      ]
     },
     "metadata": {},
     "output_type": "display_data"
    }
   ],
   "source": [
    "sns.countplot(x = 'remodeling', data = df)\n"
   ]
  },
  {
   "cell_type": "markdown",
   "metadata": {},
   "source": [
    "### Признак можно считать сбалансированным.\n",
    "\n"
   ]
  },
  {
   "cell_type": "code",
   "execution_count": 76,
   "metadata": {},
   "outputs": [],
   "source": [
    "bin_cols.append('remodeling')\n"
   ]
  },
  {
   "cell_type": "markdown",
   "metadata": {},
   "source": [
    "## Следующий признак, который заключен в словаре - это Heating (отопление). Извлечем его в соответствующий столбец heating.\n"
   ]
  },
  {
   "cell_type": "code",
   "execution_count": 77,
   "metadata": {},
   "outputs": [],
   "source": [
    "df['heating'] = df['homeFacts'].apply(lambda x: x['atAGlanceFacts'][2]['factValue'])\n"
   ]
  },
  {
   "cell_type": "code",
   "execution_count": 78,
   "metadata": {},
   "outputs": [
    {
     "data": {
      "text/plain": [
       "1197"
      ]
     },
     "execution_count": 78,
     "metadata": {},
     "output_type": "execute_result"
    }
   ],
   "source": [
    "df.heating.nunique()\n"
   ]
  },
  {
   "cell_type": "code",
   "execution_count": 79,
   "metadata": {},
   "outputs": [
    {
     "data": {
      "text/plain": [
       "3529"
      ]
     },
     "execution_count": 79,
     "metadata": {},
     "output_type": "execute_result"
    }
   ],
   "source": [
    "df.heating.isna().sum()\n"
   ]
  },
  {
   "cell_type": "code",
   "execution_count": 80,
   "metadata": {},
   "outputs": [
    {
     "data": {
      "text/plain": [
       "                                         84099\n",
       "Forced Air                               78366\n",
       "Forced air                               48732\n",
       "Other                                    27443\n",
       "Electric                                  9404\n",
       "Gas                                       8325\n",
       "No Data                                   7754\n",
       "Heat Pump                                 5738\n",
       "Central                                   4178\n",
       "Baseboard                                 3259\n",
       "Wall                                      3049\n",
       "Central, Electric                         2686\n",
       "Heat pump                                 2569\n",
       "Central Air                               2087\n",
       "Central Electric                          1881\n",
       "Forced air, Heat pump                     1672\n",
       "Heating System                            1527\n",
       "Radiant                                   1217\n",
       "Electric Heat                              880\n",
       "Gas Heat                                   647\n",
       "Central Furnace                            568\n",
       "Forced Air, Natural Gas                    403\n",
       "Central Electric, Heat Pump                387\n",
       ", Gas Hot Air/Furnace                      376\n",
       "Central Gas                                357\n",
       "Central Heating                            344\n",
       "Electric, Gas                              325\n",
       "Forced air, Other                          307\n",
       "Forced Air Heating                         286\n",
       "Central, Gas                               275\n",
       "Forced Air, Gas                            249\n",
       "Central Air, Ceiling Fan(s)                245\n",
       ", Heat Pump - Heat                         217\n",
       "Forced air, Stove                          200\n",
       "Refrigeration                              156\n",
       "Central, Gas, Two or More Units            156\n",
       "Central Air Conditioning                   147\n",
       "Central, Electric, Two or More Units       146\n",
       "Central Air, Central Heat                  143\n",
       "Central, Electric, Heat Pump               136\n",
       "Central, Heat Pump                         128\n",
       "Forced air, Wall                           125\n",
       ", Gas Hot Air/Furnace, MultiZone Heat      124\n",
       "Baseboard, Forced air                      123\n",
       "Oil                                        118\n",
       "Natural Gas                                117\n",
       "Electric, Heat Pump                        112\n",
       "Forced air, Radiant                        102\n",
       "Wall Heater                                 96\n",
       "Refrigeration, Ceiling Fan(s)               96\n",
       "Name: heating, dtype: int64"
      ]
     },
     "execution_count": 80,
     "metadata": {},
     "output_type": "execute_result"
    }
   ],
   "source": [
    "df.heating.value_counts()[:50]\n"
   ]
  },
  {
   "cell_type": "markdown",
   "metadata": {},
   "source": [
    "### В столбце имеется 1197 уникальных записей и 3529 пропусков. Здесь целесообразно заполнить пропуски значением 'no info', которое будет означать отсутствие информации об отоплении дома.\n",
    "\n"
   ]
  },
  {
   "cell_type": "code",
   "execution_count": 81,
   "metadata": {},
   "outputs": [],
   "source": [
    "df['heating'] = df['heating'].fillna('no info')\n"
   ]
  },
  {
   "cell_type": "markdown",
   "metadata": {},
   "source": [
    "Некоторые значения имеют различное написание, но одинаковый смысл. Приведём их к единообразию. Для начала приведём всё к нижнему регистру.\n",
    "\n"
   ]
  },
  {
   "cell_type": "code",
   "execution_count": 82,
   "metadata": {},
   "outputs": [
    {
     "data": {
      "text/plain": [
       "forced air                               127098\n",
       "                                          84099\n",
       "other                                     27443\n",
       "electric                                   9404\n",
       "gas                                        8325\n",
       "heat pump                                  8307\n",
       "no data                                    7754\n",
       "central                                    4178\n",
       "no info                                    3529\n",
       "baseboard                                  3259\n",
       "wall                                       3049\n",
       "central, electric                          2686\n",
       "central air                                2087\n",
       "central electric                           1881\n",
       "forced air, heat pump                      1687\n",
       "heating system                             1527\n",
       "radiant                                    1217\n",
       "electric heat                               880\n",
       "gas heat                                    647\n",
       "central furnace                             568\n",
       "forced air, natural gas                     403\n",
       "central electric, heat pump                 387\n",
       ", gas hot air/furnace                       376\n",
       "central gas                                 357\n",
       "central heating                             344\n",
       "electric, gas                               325\n",
       "forced air, other                           307\n",
       "forced air heating                          286\n",
       "central, gas                                275\n",
       "forced air, gas                             249\n",
       "central air, ceiling fan(s)                 245\n",
       ", heat pump - heat                          217\n",
       "forced air, stove                           201\n",
       "refrigeration                               156\n",
       "central, gas, two or more units             156\n",
       "central air conditioning                    147\n",
       "central, electric, two or more units        146\n",
       "central air, central heat                   143\n",
       "central, electric, heat pump                136\n",
       "baseboard, forced air                       129\n",
       "central, heat pump                          128\n",
       "forced air, wall                            125\n",
       ", gas hot air/furnace, multizone heat       124\n",
       "oil                                         118\n",
       "natural gas                                 117\n",
       "electric, heat pump                         112\n",
       "forced air, radiant                         107\n",
       "refrigeration, ceiling fan(s)                96\n",
       "wall heater                                  96\n",
       "forced air, heat pump, stove                 74\n",
       "Name: heating, dtype: int64"
      ]
     },
     "execution_count": 82,
     "metadata": {},
     "output_type": "execute_result"
    }
   ],
   "source": [
    "df['heating'] = df['heating'].apply(lambda x: str(x).lower())\n",
    "df.heating.value_counts()[:50]\n"
   ]
  },
  {
   "cell_type": "markdown",
   "metadata": {},
   "source": [
    "### Заменим пустую строку ' ' и значение 'no data' на значение 'no info'. Также значения 'central air', 'forced air heating' и 'central air, ceiling fan(s)' заменим на 'forced air', значения 'central electric', 'electric heat', 'central, electric' и 'central electric, zoned' на 'electric', значения 'natural gas heat', 'gas heat', 'natural gas', 'central gas' и 'central, gas' на 'gas', значение ', heat pump - heat' и 'central, heat pump' на 'heat pump'.\n",
    "\n"
   ]
  },
  {
   "cell_type": "code",
   "execution_count": 83,
   "metadata": {},
   "outputs": [],
   "source": [
    "df['heating'] = df['heating'].apply(lambda x: 'no info' if (x == '') | (x == 'no data') else x)\n",
    "df['heating'] = df['heating'].apply(lambda x: 'forced air' if (x == 'central air') | (x == 'forced air heating') else x)\n",
    "df['heating'] = df['heating'].apply(lambda x: 'electric' if (x == 'central electric') | (x == 'electric heat') | \n",
    "                                    (x == 'central, electric') | (x == 'central air, ceiling fan(s)') | \n",
    "                                    (x == 'central electric, zoned') else x)\n",
    "df['heating'] = df['heating'].apply(lambda x: 'gas' if (x == 'natural gas heat') | (x == 'gas heat') | (x == 'natural gas') |\n",
    "                                    (x == 'central gas') | (x == 'central, gas') else x)\n",
    "df['heating'] = df['heating'].apply(lambda x: 'heat pump' if (x == ', heat pump - heat') | (x == 'central, heat pump') else x)\n"
   ]
  },
  {
   "cell_type": "code",
   "execution_count": 84,
   "metadata": {},
   "outputs": [
    {
     "data": {
      "text/plain": [
       "forced air                               129471\n",
       "no info                                   95382\n",
       "other                                     27443\n",
       "electric                                  15151\n",
       "gas                                        9738\n",
       "heat pump                                  8652\n",
       "central                                    4178\n",
       "baseboard                                  3259\n",
       "wall                                       3049\n",
       "forced air, heat pump                      1687\n",
       "heating system                             1527\n",
       "radiant                                    1217\n",
       "central furnace                             568\n",
       "forced air, natural gas                     403\n",
       "central electric, heat pump                 387\n",
       ", gas hot air/furnace                       376\n",
       "central heating                             344\n",
       "electric, gas                               325\n",
       "forced air, other                           307\n",
       "forced air, gas                             249\n",
       "forced air, stove                           201\n",
       "refrigeration                               156\n",
       "central, gas, two or more units             156\n",
       "central air conditioning                    147\n",
       "central, electric, two or more units        146\n",
       "central air, central heat                   143\n",
       "central, electric, heat pump                136\n",
       "baseboard, forced air                       129\n",
       "forced air, wall                            125\n",
       ", gas hot air/furnace, multizone heat       124\n",
       "oil                                         118\n",
       "electric, heat pump                         112\n",
       "forced air, radiant                         107\n",
       "refrigeration, ceiling fan(s)                96\n",
       "wall heater                                  96\n",
       "forced air, heat pump, stove                 74\n",
       "central heating, electric source             69\n",
       "wall furnace                                 67\n",
       "stove                                        65\n",
       "central, natural gas                         65\n",
       "hot water/steam                              63\n",
       "heat pump, other                             60\n",
       "wall/window unit(s)                          59\n",
       "none                                         59\n",
       "heat pump(s)                                 59\n",
       "central, electric, gas                       59\n",
       "forced air - gas                             58\n",
       "forcedair                                    58\n",
       "baseboard, radiant                           57\n",
       "central cooling                              52\n",
       "Name: heating, dtype: int64"
      ]
     },
     "execution_count": 84,
     "metadata": {},
     "output_type": "execute_result"
    }
   ],
   "source": [
    "df.heating.value_counts()[:50]\n"
   ]
  },
  {
   "cell_type": "code",
   "execution_count": 85,
   "metadata": {},
   "outputs": [
    {
     "data": {
      "text/plain": [
       "6"
      ]
     },
     "execution_count": 85,
     "metadata": {},
     "output_type": "execute_result"
    }
   ],
   "source": [
    "heatingTypes_with_freqs = list(df.heating.value_counts())\n",
    "top_heatingTypes_count = int(np.percentile(heatingTypes_with_freqs, 83))\n",
    "top_heatingTypes_count\n"
   ]
  },
  {
   "cell_type": "markdown",
   "metadata": {},
   "source": [
    "### Определим 6 самых популярных значений, которые описывают около 83% примеров - это forced air, no info, other, electric, gas, heat pump. Оставим только эти значения, остальные удалим.\n",
    "\n"
   ]
  },
  {
   "cell_type": "code",
   "execution_count": 86,
   "metadata": {},
   "outputs": [],
   "source": [
    "all_heatingTypes = set(df.heating.value_counts().index)\n",
    "main_heatingTypes = set(df.heating.value_counts().index[:6])\n",
    "heatingTypes_to_drop = list(all_heatingTypes - main_heatingTypes)\n",
    "df.drop(df.loc[df['heating'].isin(heatingTypes_to_drop), 'heating'].index, inplace = True)\n",
    "\n",
    "df.reset_index(inplace = True, drop = True)\n"
   ]
  },
  {
   "cell_type": "code",
   "execution_count": 87,
   "metadata": {},
   "outputs": [],
   "source": [
    "cat_cols.append('heating')\n"
   ]
  },
  {
   "cell_type": "markdown",
   "metadata": {},
   "source": [
    "### Извлечем следующий признак из столбца homeFacts - cooling (охлаждение).\n"
   ]
  },
  {
   "cell_type": "code",
   "execution_count": 88,
   "metadata": {},
   "outputs": [],
   "source": [
    "df['cooling'] = df['homeFacts'].apply(lambda x: x['atAGlanceFacts'][3]['factValue'])\n"
   ]
  },
  {
   "cell_type": "code",
   "execution_count": 89,
   "metadata": {},
   "outputs": [
    {
     "data": {
      "text/plain": [
       "424"
      ]
     },
     "execution_count": 89,
     "metadata": {},
     "output_type": "execute_result"
    }
   ],
   "source": [
    "df.cooling.nunique()\n"
   ]
  },
  {
   "cell_type": "code",
   "execution_count": 90,
   "metadata": {},
   "outputs": [
    {
     "data": {
      "text/plain": [
       "3529"
      ]
     },
     "execution_count": 90,
     "metadata": {},
     "output_type": "execute_result"
    }
   ],
   "source": [
    "df.cooling.isna().sum()\n"
   ]
  },
  {
   "cell_type": "code",
   "execution_count": 91,
   "metadata": {},
   "outputs": [
    {
     "data": {
      "text/plain": [
       "Central                                                        147046\n",
       "                                                                98691\n",
       "No Data                                                          8775\n",
       "None                                                             4987\n",
       "Central Air                                                      4688\n",
       "Central Electric                                                 3503\n",
       "Has Cooling                                                      2323\n",
       "Wall                                                             2225\n",
       "Other                                                            1400\n",
       "Refrigeration                                                     829\n",
       "Evaporative                                                       812\n",
       "Central, Electric                                                 782\n",
       "Refrigeration, Ceiling Fan(s)                                     565\n",
       "Central, Wall                                                     561\n",
       "Solar, Refrigeration                                              410\n",
       "Central, Other                                                    355\n",
       "Central Electric, Zoned                                           341\n",
       "Central A/C                                                       276\n",
       "Ceiling Fan, Central Electric                                     262\n",
       "Heat Pump                                                         243\n",
       "Air Conditioning-Central                                          189\n",
       "Central Air, Gas (Hot Air)                                        142\n",
       "Refrigeration, Ceiling Fan(s), Programmable Thmstat               120\n",
       "Central Gas                                                       117\n",
       "Heat Pump - AC                                                    117\n",
       "Central, Solar                                                     93\n",
       "2 or More Units, Central, Electric                                 90\n",
       "Central, Solar, Refrigeration                                      89\n",
       "Central Air, Humidity Control                                      73\n",
       "Refrigeration, Programmable Thmstat                                65\n",
       "Central Air, Zoned                                                 63\n",
       "Central Electric, Central Gas                                      60\n",
       "Window Units                                                       59\n",
       "Central, Evaporative                                               58\n",
       "Ceiling Fans, Central Electric                                     55\n",
       "Central Electric, Heat Pump                                        51\n",
       "Central Air, Heat Pump - AC                                        48\n",
       "Heat Pump for A/C, Heat Pump for Heat                              47\n",
       "Air Conditioning-Central, Ceiling Fan                              43\n",
       "Wall/Window Unit(s)                                                42\n",
       "Central, Geothermal                                                42\n",
       "Central Air, Heat Pump for Heat                                    40\n",
       "Window Unit(s)                                                     40\n",
       "Central Air Conditioning                                           39\n",
       "Central Air, Gas (Hot Air), Multi-Zone A/C, Multi-Zone Heat        38\n",
       "Central, Refrigeration                                             35\n",
       "Central Air, Electric Hot Air                                      34\n",
       "No Cooling/Vent                                                    34\n",
       "Geothermal                                                         30\n",
       "Central Air, Wall/Window Unit(s)                                   29\n",
       "Name: cooling, dtype: int64"
      ]
     },
     "execution_count": 91,
     "metadata": {},
     "output_type": "execute_result"
    }
   ],
   "source": [
    "df.cooling.value_counts()[:50]\n"
   ]
  },
  {
   "cell_type": "markdown",
   "metadata": {},
   "source": [
    "### В столбце имеется 424 уникальных записи и 3529 пропусков. Здесь целесообразно заполнить пропуски значением 'no info', которое будет означать отсутствие информации о системе охлаждения в доме.\n"
   ]
  },
  {
   "cell_type": "code",
   "execution_count": 92,
   "metadata": {},
   "outputs": [],
   "source": [
    "df['cooling'] = df['cooling'].fillna('no info')\n"
   ]
  },
  {
   "cell_type": "markdown",
   "metadata": {},
   "source": [
    "## Некоторые значения имеют различное написание, но одинаковый смысл. Приведём их к единообразию. Для начала приведём всё к нижнему регистру.\n",
    "\n"
   ]
  },
  {
   "cell_type": "code",
   "execution_count": 93,
   "metadata": {},
   "outputs": [
    {
     "data": {
      "text/plain": [
       "central                                                        147046\n",
       "                                                                98691\n",
       "no data                                                          8775\n",
       "none                                                             4987\n",
       "central air                                                      4688\n",
       "no info                                                          3529\n",
       "central electric                                                 3503\n",
       "has cooling                                                      2323\n",
       "wall                                                             2225\n",
       "other                                                            1400\n",
       "refrigeration                                                     829\n",
       "evaporative                                                       812\n",
       "central, electric                                                 782\n",
       "refrigeration, ceiling fan(s)                                     565\n",
       "central, wall                                                     561\n",
       "solar, refrigeration                                              410\n",
       "central, other                                                    355\n",
       "central electric, zoned                                           341\n",
       "central a/c                                                       276\n",
       "ceiling fan, central electric                                     262\n",
       "heat pump                                                         243\n",
       "air conditioning-central                                          189\n",
       "central air, gas (hot air)                                        142\n",
       "refrigeration, ceiling fan(s), programmable thmstat               120\n",
       "heat pump - ac                                                    117\n",
       "central gas                                                       117\n",
       "central, solar                                                     93\n",
       "2 or more units, central, electric                                 90\n",
       "central, solar, refrigeration                                      89\n",
       "central air, humidity control                                      73\n",
       "refrigeration, programmable thmstat                                65\n",
       "central air, zoned                                                 63\n",
       "central electric, central gas                                      60\n",
       "window units                                                       59\n",
       "central, evaporative                                               58\n",
       "ceiling fans, central electric                                     55\n",
       "central electric, heat pump                                        51\n",
       "central air, heat pump - ac                                        48\n",
       "heat pump for a/c, heat pump for heat                              47\n",
       "air conditioning-central, ceiling fan                              43\n",
       "central, geothermal                                                42\n",
       "wall/window unit(s)                                                42\n",
       "window unit(s)                                                     40\n",
       "central air, heat pump for heat                                    40\n",
       "central air conditioning                                           39\n",
       "central air, gas (hot air), multi-zone a/c, multi-zone heat        38\n",
       "central, refrigeration                                             35\n",
       "central air, electric hot air                                      34\n",
       "no cooling/vent                                                    34\n",
       "geothermal                                                         30\n",
       "Name: cooling, dtype: int64"
      ]
     },
     "execution_count": 93,
     "metadata": {},
     "output_type": "execute_result"
    }
   ],
   "source": [
    "df['cooling'] = df['cooling'].apply(lambda x: str(x).lower())\n",
    "df.cooling.value_counts()[:50]"
   ]
  },
  {
   "cell_type": "markdown",
   "metadata": {},
   "source": [
    "### Столбец содержит слишком грязные данные, поэтому удалим его.\n",
    "\n"
   ]
  },
  {
   "cell_type": "code",
   "execution_count": 94,
   "metadata": {},
   "outputs": [],
   "source": [
    "df.drop('cooling', axis = 1, inplace = True)\n"
   ]
  },
  {
   "cell_type": "markdown",
   "metadata": {},
   "source": [
    "### Следующий признак, который мы можем извлечь из столбца homeFacts - это parking (парковка автомобиля).\n"
   ]
  },
  {
   "cell_type": "code",
   "execution_count": 95,
   "metadata": {},
   "outputs": [],
   "source": [
    "df['parking'] = df['homeFacts'].apply(lambda x: x['atAGlanceFacts'][4]['factValue'])\n"
   ]
  },
  {
   "cell_type": "code",
   "execution_count": 96,
   "metadata": {},
   "outputs": [
    {
     "data": {
      "text/plain": [
       "1303"
      ]
     },
     "execution_count": 96,
     "metadata": {},
     "output_type": "execute_result"
    }
   ],
   "source": [
    "df.parking.nunique()\n"
   ]
  },
  {
   "cell_type": "code",
   "execution_count": 97,
   "metadata": {},
   "outputs": [
    {
     "data": {
      "text/plain": [
       "3529"
      ]
     },
     "execution_count": 97,
     "metadata": {},
     "output_type": "execute_result"
    }
   ],
   "source": [
    "df.parking.isna().sum()\n"
   ]
  },
  {
   "cell_type": "code",
   "execution_count": 98,
   "metadata": {},
   "outputs": [
    {
     "data": {
      "text/plain": [
       "                                             113114\n",
       "Attached Garage                               67054\n",
       "2 spaces                                      25331\n",
       "1 space                                       12192\n",
       "Detached Garage                               11311\n",
       "No Data                                       11204\n",
       "Carport                                        6706\n",
       "3 spaces                                       4177\n",
       "Off Street                                     2977\n",
       "Carport, Attached Garage                       2773\n",
       "4 spaces                                       2506\n",
       "1                                              2270\n",
       "2                                              1993\n",
       "None                                           1779\n",
       "Off street                                     1340\n",
       "Attached Garage, Detached Garage               1221\n",
       "Attached Garage, Carport                        918\n",
       "Parking Desc                                    819\n",
       "Detached Garage, Attached Garage                684\n",
       "On Street                                       662\n",
       "6 spaces                                        645\n",
       "5 spaces                                        565\n",
       "4                                               496\n",
       "Off Street, Attached Garage                     402\n",
       "Carport, Detached Garage                        349\n",
       "Off street parking                              340\n",
       "3                                               295\n",
       "On street                                       267\n",
       "Parking Type                                    252\n",
       "Driveway                                        248\n",
       "Attached Garage, Off Street                     219\n",
       "Driveway, Garage Door Opener                    208\n",
       "Detached Garage, Carport                        193\n",
       "Slab Parking Spaces                             189\n",
       "8 spaces                                        173\n",
       "6                                               165\n",
       "Off Street, Detached Garage                     158\n",
       "0                                               158\n",
       "Off Street, On Street                           148\n",
       "Garage Door Opener                              144\n",
       "Electric Door Opener                            134\n",
       "7 spaces                                        128\n",
       "Electric Door Opener, Slab Parking Spaces       122\n",
       "On Street, Off Street                           113\n",
       "5                                               111\n",
       "Off street, On street                           108\n",
       "Off Street, Carport                             107\n",
       "Carport, Attached Garage, Detached Garage       105\n",
       "Garage Lot                                       95\n",
       "On Street, Attached Garage                       92\n",
       "Name: parking, dtype: int64"
      ]
     },
     "execution_count": 98,
     "metadata": {},
     "output_type": "execute_result"
    }
   ],
   "source": [
    "df.parking.value_counts()[:50]\n"
   ]
  },
  {
   "cell_type": "markdown",
   "metadata": {},
   "source": [
    "### В столбце имеется 1303 уникальных записи и 3529 пропусков. Здесь целесообразно заполнить пропуски значением 'no info', которое будет означать отсутствие информации о парковке.\n",
    "\n"
   ]
  },
  {
   "cell_type": "code",
   "execution_count": 99,
   "metadata": {},
   "outputs": [
    {
     "data": {
      "text/plain": [
       "                                             113114\n",
       "Attached Garage                               67054\n",
       "2 spaces                                      25331\n",
       "1 space                                       12192\n",
       "Detached Garage                               11311\n",
       "No Data                                       11204\n",
       "Carport                                        6706\n",
       "3 spaces                                       4177\n",
       "no info                                        3529\n",
       "Off Street                                     2977\n",
       "Carport, Attached Garage                       2773\n",
       "4 spaces                                       2506\n",
       "1                                              2270\n",
       "2                                              1993\n",
       "None                                           1779\n",
       "Off street                                     1340\n",
       "Attached Garage, Detached Garage               1221\n",
       "Attached Garage, Carport                        918\n",
       "Parking Desc                                    819\n",
       "Detached Garage, Attached Garage                684\n",
       "On Street                                       662\n",
       "6 spaces                                        645\n",
       "5 spaces                                        565\n",
       "4                                               496\n",
       "Off Street, Attached Garage                     402\n",
       "Carport, Detached Garage                        349\n",
       "Off street parking                              340\n",
       "3                                               295\n",
       "On street                                       267\n",
       "Parking Type                                    252\n",
       "Driveway                                        248\n",
       "Attached Garage, Off Street                     219\n",
       "Driveway, Garage Door Opener                    208\n",
       "Detached Garage, Carport                        193\n",
       "Slab Parking Spaces                             189\n",
       "8 spaces                                        173\n",
       "6                                               165\n",
       "Off Street, Detached Garage                     158\n",
       "0                                               158\n",
       "Off Street, On Street                           148\n",
       "Garage Door Opener                              144\n",
       "Electric Door Opener                            134\n",
       "7 spaces                                        128\n",
       "Electric Door Opener, Slab Parking Spaces       122\n",
       "On Street, Off Street                           113\n",
       "5                                               111\n",
       "Off street, On street                           108\n",
       "Off Street, Carport                             107\n",
       "Carport, Attached Garage, Detached Garage       105\n",
       "Garage Lot                                       95\n",
       "Name: parking, dtype: int64"
      ]
     },
     "execution_count": 99,
     "metadata": {},
     "output_type": "execute_result"
    }
   ],
   "source": [
    "df['parking'] = df['parking'].fillna('no info')\n",
    "df.parking.value_counts()[:50]\n"
   ]
  },
  {
   "cell_type": "markdown",
   "metadata": {},
   "source": [
    "### Некоторые значения имеют различное написание, но одинаковый смысл. Приведём их к единообразию. Для начала приведём всё к нижнему регистру.\n",
    "\n"
   ]
  },
  {
   "cell_type": "code",
   "execution_count": 100,
   "metadata": {},
   "outputs": [
    {
     "data": {
      "text/plain": [
       "                                             113114\n",
       "attached garage                               67054\n",
       "2 spaces                                      25331\n",
       "1 space                                       12192\n",
       "detached garage                               11311\n",
       "no data                                       11204\n",
       "carport                                        6706\n",
       "off street                                     4317\n",
       "3 spaces                                       4177\n",
       "no info                                        3529\n",
       "carport, attached garage                       2773\n",
       "4 spaces                                       2506\n",
       "1                                              2270\n",
       "2                                              1993\n",
       "none                                           1779\n",
       "attached garage, detached garage               1221\n",
       "on street                                       929\n",
       "attached garage, carport                        918\n",
       "parking desc                                    819\n",
       "detached garage, attached garage                684\n",
       "6 spaces                                        645\n",
       "5 spaces                                        565\n",
       "4                                               496\n",
       "off street, attached garage                     477\n",
       "off street parking                              423\n",
       "carport, detached garage                        349\n",
       "3                                               295\n",
       "off street, on street                           256\n",
       "parking type                                    252\n",
       "driveway                                        248\n",
       "attached garage, off street                     219\n",
       "driveway, garage door opener                    208\n",
       "detached garage, carport                        193\n",
       "slab parking spaces                             189\n",
       "off street, detached garage                     185\n",
       "8 spaces                                        173\n",
       "6                                               165\n",
       "0                                               158\n",
       "garage door opener                              144\n",
       "electric door opener                            134\n",
       "7 spaces                                        128\n",
       "electric door opener, slab parking spaces       122\n",
       "on street, off street                           113\n",
       "on street, attached garage                      111\n",
       "5                                               111\n",
       "off street, carport                             107\n",
       "carport, attached garage, detached garage       105\n",
       "garage lot                                       95\n",
       "carport, off street                              91\n",
       "garage-attached                                  87\n",
       "Name: parking, dtype: int64"
      ]
     },
     "execution_count": 100,
     "metadata": {},
     "output_type": "execute_result"
    }
   ],
   "source": [
    "df['parking'] = df['parking'].apply(lambda x: str(x).lower())\n",
    "df.parking.value_counts()[:50]\n"
   ]
  },
  {
   "cell_type": "markdown",
   "metadata": {},
   "source": [
    "### Заменим значения ' ', 'no data', и 'none' на 'no_info', значения 'drvwy' и 'driveway paved' на 'driveway', значение '1' на '1_space', значение '2' на '2_spaces', значения 'carport', 'off street', 'off street parking', 'on street', 'driveway' на 'other'.\n",
    "\n"
   ]
  },
  {
   "cell_type": "code",
   "execution_count": 101,
   "metadata": {},
   "outputs": [],
   "source": [
    "df['parking'] = df['parking'].apply(lambda x: 'no_info' if (x == '') | (x == 'no data') | (x == 'none') else x)\n",
    "df['parking'] = df['parking'].apply(lambda x: '1_space' if (x == '1') else x)\n",
    "df['parking'] = df['parking'].apply(lambda x: '2_spaces' if (x == '2') else x)\n",
    "df['parking'] = df['parking'].apply(lambda x: 'other' if (x == 'carport') | (x == 'off street') | (x == 'off street parking') | \n",
    "                                    (x == 'on street') | (x == 'driveway') | (x == 'drvwy') | (x == 'driveway paved') else x)\n"
   ]
  },
  {
   "cell_type": "markdown",
   "metadata": {},
   "source": [
    "### Заменим значения, где количество парковочных мест больше двух, на значение 'more_than_2_spaces'.\n",
    "\n"
   ]
  },
  {
   "cell_type": "code",
   "execution_count": 102,
   "metadata": {},
   "outputs": [],
   "source": [
    "##\n",
    "pattern = re.compile('\\d+')\n",
    "\n",
    "# Создаём вспомогательный столбец 'n_spaces', в который запишем количество парковочных мест\n",
    "df['n_spaces'] = df['parking'].apply(lambda x: int(pattern.findall(x)[0]) if len(pattern.findall(x)) > 0 else 0)\n",
    "\n",
    "# Основываясь на информации в столбце 'n spaces' запишем значение 'more_than_2_spaces' в столбец parking там где количество \n",
    "# парковочных мест больше двух\n",
    "for i in df.index:\n",
    "    if df['n_spaces'].loc[i] > 2:\n",
    "        df['parking'].loc[i] = 'more_than_2_spaces'\n",
    "    else:\n",
    "        continue\n",
    "\n",
    "# Удалим столбец 'n spaces'\n",
    "df.drop('n_spaces', axis = 1, inplace = True)\n"
   ]
  },
  {
   "cell_type": "code",
   "execution_count": 103,
   "metadata": {},
   "outputs": [
    {
     "data": {
      "text/plain": [
       "no_info                                                            126097\n",
       "attached garage                                                     67054\n",
       "2 spaces                                                            25331\n",
       "other                                                               12650\n",
       "1 space                                                             12192\n",
       "detached garage                                                     11311\n",
       "more_than_2_spaces                                                   9975\n",
       "no info                                                              3529\n",
       "carport, attached garage                                             2773\n",
       "1_space                                                              2270\n",
       "2_spaces                                                             1993\n",
       "attached garage, detached garage                                     1221\n",
       "attached garage, carport                                              918\n",
       "parking desc                                                          819\n",
       "detached garage, attached garage                                      684\n",
       "off street, attached garage                                           477\n",
       "carport, detached garage                                              349\n",
       "off street, on street                                                 256\n",
       "parking type                                                          252\n",
       "attached garage, off street                                           219\n",
       "driveway, garage door opener                                          208\n",
       "detached garage, carport                                              193\n",
       "slab parking spaces                                                   189\n",
       "off street, detached garage                                           185\n",
       "0                                                                     158\n",
       "garage door opener                                                    144\n",
       "electric door opener                                                  134\n",
       "electric door opener, slab parking spaces                             122\n",
       "on street, off street                                                 113\n",
       "on street, attached garage                                            111\n",
       "off street, carport                                                   107\n",
       "carport, attached garage, detached garage                             105\n",
       "garage lot                                                             95\n",
       "carport, off street                                                    91\n",
       "garage-attached                                                        87\n",
       "electric door opener, dir entry frm garage, slab parking spaces        81\n",
       "carport spaces                                                         78\n",
       "attached garage, garage - 2 car                                        78\n",
       "parking yn                                                             67\n",
       "electric door opener, dir entry frm garage                             67\n",
       "off street, on street, attached garage                                 63\n",
       "garage - 2 car                                                         48\n",
       "on street, attached garage, off street                                 45\n",
       "attached garage, on street                                             39\n",
       "detached parking                                                       38\n",
       "2 car garage                                                           38\n",
       "detached garage, off street                                            35\n",
       "attch'd gar cabinets, electric door opener, slab parking spaces        31\n",
       "detached garage, carport, attached garage                              30\n",
       "carport, detached garage, attached garage                              30\n",
       "Name: parking, dtype: int64"
      ]
     },
     "execution_count": 103,
     "metadata": {},
     "output_type": "execute_result"
    }
   ],
   "source": [
    "df.parking.value_counts()[:50]\n"
   ]
  },
  {
   "cell_type": "code",
   "execution_count": 104,
   "metadata": {},
   "outputs": [
    {
     "data": {
      "text/plain": [
       "7"
      ]
     },
     "execution_count": 104,
     "metadata": {},
     "output_type": "execute_result"
    }
   ],
   "source": [
    "parkingTypes_with_freqs = list(df.parking.value_counts())\n",
    "top_parkingTypes_count = int(np.percentile(parkingTypes_with_freqs, 89))\n",
    "top_parkingTypes_count\n"
   ]
  },
  {
   "cell_type": "markdown",
   "metadata": {},
   "source": [
    "### Определим 7 самых популярных значений, которые описывают около 89% примеров - это no_info, attached garage, detached garage, 1_space, 2_spaces, more_than_2_spaces, other. Оставим только эти значения, остальные удалим.\n",
    "\n"
   ]
  },
  {
   "cell_type": "code",
   "execution_count": 105,
   "metadata": {},
   "outputs": [],
   "source": [
    "all_parkingTypes = set(df.parking.value_counts().index)\n",
    "main_parkingTypes = set(df.parking.value_counts().index[:7])\n",
    "parkingTypes_to_drop = list(all_parkingTypes - main_parkingTypes)\n",
    "df.drop(df.loc[df['parking'].isin(parkingTypes_to_drop), 'parking'].index, inplace = True)\n",
    "\n",
    "df.reset_index(inplace = True, drop = True)\n"
   ]
  },
  {
   "cell_type": "code",
   "execution_count": 106,
   "metadata": {},
   "outputs": [],
   "source": [
    "cat_cols.append('parking')\n"
   ]
  },
  {
   "cell_type": "markdown",
   "metadata": {},
   "source": [
    "### Следующий признак, который заключен в столбце homeFacts - это lotsize (площадь земельного участка).\n"
   ]
  },
  {
   "cell_type": "code",
   "execution_count": 107,
   "metadata": {},
   "outputs": [],
   "source": [
    "df['lotsize'] = df['homeFacts'].apply(lambda x: x['atAGlanceFacts'][5]['factValue'])\n"
   ]
  },
  {
   "cell_type": "code",
   "execution_count": 108,
   "metadata": {},
   "outputs": [
    {
     "data": {
      "text/plain": [
       "26529"
      ]
     },
     "execution_count": 108,
     "metadata": {},
     "output_type": "execute_result"
    }
   ],
   "source": [
    "df.lotsize.nunique()\n"
   ]
  },
  {
   "cell_type": "code",
   "execution_count": 109,
   "metadata": {},
   "outputs": [
    {
     "data": {
      "text/plain": [
       "16400"
      ]
     },
     "execution_count": 109,
     "metadata": {},
     "output_type": "execute_result"
    }
   ],
   "source": [
    "df.lotsize.isna().sum()\n"
   ]
  },
  {
   "cell_type": "code",
   "execution_count": 110,
   "metadata": {},
   "outputs": [
    {
     "data": {
      "text/plain": [
       "               27149\n",
       "—              13365\n",
       "No Data         5113\n",
       "-- sqft lot     3154\n",
       "0.26 acres      2210\n",
       "0.25 acres      2075\n",
       "0.28 acres      1850\n",
       "0.27 acres      1703\n",
       "0.29 acres      1682\n",
       "0.34 acres      1383\n",
       "0.3 acres       1266\n",
       "6,098 sqft      1263\n",
       "10,000 sqft     1180\n",
       "0.31 acres      1171\n",
       "7,405 sqft      1117\n",
       "0.32 acres      1100\n",
       "6,534 sqft      1079\n",
       "4,356 sqft      1077\n",
       "5,227 sqft       999\n",
       "0.33 acres       955\n",
       "0.35 acres       954\n",
       "5,000 sqft       916\n",
       "0.36 acres       860\n",
       "8,712 sqft       857\n",
       "0.46 acres       831\n",
       "8,276 sqft       831\n",
       "3,920 sqft       808\n",
       "0.37 acres       787\n",
       "10,019 sqft      775\n",
       "0.5 acres        765\n",
       "0.38 acres       701\n",
       "10000            670\n",
       "0.39 acres       665\n",
       "1 acre           660\n",
       "0.4 acres        636\n",
       "9,583 sqft       633\n",
       "4,792 sqft       633\n",
       "0.41 acres       630\n",
       "10,454 sqft      620\n",
       "4,791 sqft       613\n",
       "10019            566\n",
       "7,840 sqft       556\n",
       "0.42 acres       554\n",
       "3,049 sqft       537\n",
       "0.43 acres       531\n",
       "6,969 sqft       525\n",
       "10018 sqft       523\n",
       "0.44 acres       520\n",
       "7,500 sqft       514\n",
       "2,500 sqft       498\n",
       "Name: lotsize, dtype: int64"
      ]
     },
     "execution_count": 110,
     "metadata": {},
     "output_type": "execute_result"
    }
   ],
   "source": [
    "df.lotsize.value_counts()[:50]\n",
    "    "
   ]
  },
  {
   "cell_type": "code",
   "execution_count": null,
   "metadata": {},
   "outputs": [],
   "source": []
  },
  {
   "cell_type": "markdown",
   "metadata": {},
   "source": [
    "### В столбце присутствует 26740 уникальных значений и 19929 пропусков. Преобразуем столбец в числовой тип данных и заполним пропуски и значения, которые будем считать пропусками, медианой. Пропусками также будем считать значения ' ', '—', 'No Data' и '-- sqft lot'. Сначала отфильтруем пропуски и все значения, которые считаем пропусками, затем преобразуем столбец в числовой формат, переведём все значения в квадратные метры (m^2) и посчитаем среднее арифметическое.\n",
    "\n"
   ]
  },
  {
   "cell_type": "code",
   "execution_count": 111,
   "metadata": {},
   "outputs": [
    {
     "data": {
      "text/plain": [
       "7406"
      ]
     },
     "execution_count": 111,
     "metadata": {},
     "output_type": "execute_result"
    }
   ],
   "source": [
    "pattern = re.compile('\\d+[.]?[,]?\\d+')\n",
    "\n",
    "# Фильтруем все значения, которые считаем пропусками\n",
    "sub_df = df[(df.lotsize != '') & (df.lotsize != '—') & (df.lotsize != 'No Data') & (df.lotsize != '-- sqft lot') & \\\n",
    "            (pd.isna(df.lotsize) != True)]\n",
    "\n",
    "# Выделяем числовые значения\n",
    "for i in sub_df.index:\n",
    "    if len(pattern.findall(sub_df.lotsize.loc[i])) != 0:\n",
    "        sub_df['lotsize'].loc[i] = pattern.findall(sub_df.lotsize.loc[i])[0]\n",
    "    else:\n",
    "        sub_df.drop(i, axis = 0, inplace = True)\n",
    "\n",
    "# Убираем запятые\n",
    "sub_df['lotsize'] = sub_df['lotsize'].apply(lambda x: x.replace(',', ''))\n",
    "\n",
    "# Переводим в числовой формат\n",
    "sub_df['lotsize'] = sub_df['lotsize'].apply(lambda x: float(x))\n",
    "\n",
    "# Приводим всё к размерности [кв.м.]\n",
    "sub_df['lotsize'] = sub_df['lotsize'].apply(lambda x: round(x/10.764) if x > 1 else round(x*4047))\n",
    "\n",
    "# Считаем среднее в квадратных метрах и переводим в квадратные футы\n",
    "round(sub_df['lotsize'].median()*10.764)\n"
   ]
  },
  {
   "cell_type": "markdown",
   "metadata": {},
   "source": [
    "### Теперь в исходном датафрейме df заменим пропуски и значения ' ', '—', 'No Data' и '-- sqft lot' на значение '7406'.\n",
    "\n"
   ]
  },
  {
   "cell_type": "code",
   "execution_count": 112,
   "metadata": {},
   "outputs": [],
   "source": [
    "df['lotsize'] = df['lotsize'].apply(lambda x: '7406' if (x=='') | (x=='—') | (x=='No Data') | (x=='-- sqft lot') | \\\n",
    "                                    (pd.isna(x) == True) else x)\n"
   ]
  },
  {
   "cell_type": "markdown",
   "metadata": {},
   "source": [
    "### Снова проделаем те же операции со столбцом, что и в датафрейме sub_df для того, чтобы получить числовой формат с размерностью m^2.\n",
    "\n"
   ]
  },
  {
   "cell_type": "code",
   "execution_count": 113,
   "metadata": {},
   "outputs": [],
   "source": [
    "pattern = re.compile('\\d+[.]?[,]?\\d+')\n",
    "\n",
    "# Выделяем цифровые значения\n",
    "df['lotsize'] = df['lotsize'].apply(lambda x: '7406' if len(pattern.findall(x)) == 0 else pattern.findall(x)[0])\n",
    "\n",
    "# Убираем запятые\n",
    "df['lotsize'] = df['lotsize'].apply(lambda x: x.replace(',', ''))\n",
    "\n",
    "# Переводим в числовой формат\n",
    "df['lotsize'] = df['lotsize'].apply(lambda x: float(x))\n",
    "\n",
    "# Приводим всё к размерности [кв.м.]\n",
    "df['lotsize'] = df['lotsize'].apply(lambda x: round(x/10.764) if x > 1 else round(x*4047))\n"
   ]
  },
  {
   "cell_type": "markdown",
   "metadata": {},
   "source": [
    "## Посмотрим на гистограмму распределения признака:\n",
    "\n"
   ]
  },
  {
   "cell_type": "code",
   "execution_count": 114,
   "metadata": {},
   "outputs": [
    {
     "data": {
      "text/plain": [
       "<AxesSubplot: >"
      ]
     },
     "execution_count": 114,
     "metadata": {},
     "output_type": "execute_result"
    },
    {
     "data": {
      "image/png": "[encoded data removed]",
      "text/plain": [
       "<Figure size 1200x700 with 1 Axes>"
      ]
     },
     "metadata": {},
     "output_type": "display_data"
    }
   ],
   "source": [
    "plt.figure(figsize = (12,7))\n",
    "df.lotsize.hist()\n"
   ]
  },
  {
   "cell_type": "markdown",
   "metadata": {},
   "source": [
    "## Отфильтруем выбросы. Для этого воспользуемся функцией outliers_iqr.\n",
    "\n"
   ]
  },
  {
   "cell_type": "code",
   "execution_count": 115,
   "metadata": {},
   "outputs": [
    {
     "data": {
      "text/plain": [
       "116671         1578\n",
       "116924         1578\n",
       "45480          1578\n",
       "45504          1578\n",
       "45653          1578\n",
       "            ...    \n",
       "56725       5544147\n",
       "214325     26441940\n",
       "29464      40541070\n",
       "111694    172754816\n",
       "46016     199506099\n",
       "Name: lotsize, Length: 27144, dtype: int64"
      ]
     },
     "execution_count": 115,
     "metadata": {},
     "output_type": "execute_result"
    }
   ],
   "source": [
    "df.lotsize.loc[outliers_iqr(df.lotsize)].sort_values()\n"
   ]
  },
  {
   "cell_type": "markdown",
   "metadata": {},
   "source": [
    "### Выявлено 28342 выброса. Удалим их.\n",
    "\n"
   ]
  },
  {
   "cell_type": "code",
   "execution_count": 116,
   "metadata": {},
   "outputs": [],
   "source": [
    "df.drop(outliers_iqr(df.lotsize), inplace = True)\n",
    "df.reset_index(inplace = True, drop = True)\n"
   ]
  },
  {
   "cell_type": "markdown",
   "metadata": {},
   "source": [
    "## Посмотрим на гистограмму распределения:\n",
    "\n"
   ]
  },
  {
   "cell_type": "code",
   "execution_count": 117,
   "metadata": {},
   "outputs": [
    {
     "data": {
      "text/plain": [
       "<AxesSubplot: >"
      ]
     },
     "execution_count": 117,
     "metadata": {},
     "output_type": "execute_result"
    },
    {
     "data": {
      "image/png": "[encoded data removed]",
      "text/plain": [
       "<Figure size 1200x700 with 1 Axes>"
      ]
     },
     "metadata": {},
     "output_type": "display_data"
    }
   ],
   "source": [
    "plt.figure(figsize = (12,7))\n",
    "df.lotsize.hist(bins=20)\n"
   ]
  },
  {
   "cell_type": "code",
   "execution_count": 118,
   "metadata": {},
   "outputs": [],
   "source": [
    "num_cols.append('lotsize')\n"
   ]
  },
  {
   "cell_type": "markdown",
   "metadata": {},
   "source": [
    "### Последний признак, который заключен в столбце homeFacts - это Price/sqft (цена 1 квадратного фута земли). Извлечем его.\n"
   ]
  },
  {
   "cell_type": "code",
   "execution_count": 119,
   "metadata": {},
   "outputs": [],
   "source": [
    "df['price/sqft'] = df['homeFacts'].apply(lambda x: x['atAGlanceFacts'][6]['factValue'])\n"
   ]
  },
  {
   "cell_type": "code",
   "execution_count": 120,
   "metadata": {},
   "outputs": [
    {
     "data": {
      "text/plain": [
       "5473"
      ]
     },
     "execution_count": 120,
     "metadata": {},
     "output_type": "execute_result"
    }
   ],
   "source": [
    "df['price/sqft'].nunique()\n"
   ]
  },
  {
   "cell_type": "code",
   "execution_count": 121,
   "metadata": {},
   "outputs": [
    {
     "data": {
      "text/plain": [
       "39246"
      ]
     },
     "execution_count": 121,
     "metadata": {},
     "output_type": "execute_result"
    }
   ],
   "source": [
    "df['price/sqft'].isna().sum()\n"
   ]
  },
  {
   "cell_type": "code",
   "execution_count": 122,
   "metadata": {},
   "outputs": [
    {
     "data": {
      "text/plain": [
       "             2330\n",
       "No Data       954\n",
       "$115/sqft     664\n",
       "$125/sqft     662\n",
       "$132/sqft     650\n",
       "$1/sqft       639\n",
       "$119/sqft     632\n",
       "$117/sqft     628\n",
       "$139/sqft     626\n",
       "$121/sqft     625\n",
       "$120/sqft     624\n",
       "$128/sqft     623\n",
       "$122/sqft     621\n",
       "$130/sqft     618\n",
       "$127/sqft     615\n",
       "$116/sqft     610\n",
       "$140/sqft     606\n",
       "$124/sqft     606\n",
       "$136/sqft     605\n",
       "$133/sqft     605\n",
       "$123/sqft     602\n",
       "$118/sqft     601\n",
       "$134/sqft     601\n",
       "$135/sqft     595\n",
       "$114/sqft     594\n",
       "$131/sqft     591\n",
       "$141/sqft     590\n",
       "$126/sqft     589\n",
       "$113/sqft     587\n",
       "$129/sqft     587\n",
       "$138/sqft     582\n",
       "$110/sqft     579\n",
       "$143/sqft     574\n",
       "$111/sqft     572\n",
       "$146/sqft     572\n",
       "$137/sqft     563\n",
       "$148/sqft     560\n",
       "$145/sqft     557\n",
       "$150/sqft     551\n",
       "$100/sqft     548\n",
       "$142/sqft     546\n",
       "$108/sqft     545\n",
       "$147/sqft     540\n",
       "$109/sqft     538\n",
       "$107/sqft     527\n",
       "$149/sqft     526\n",
       "$112/sqft     525\n",
       "$105/sqft     520\n",
       "$144/sqft     520\n",
       "$152/sqft     517\n",
       "Name: price/sqft, dtype: int64"
      ]
     },
     "execution_count": 122,
     "metadata": {},
     "output_type": "execute_result"
    }
   ],
   "source": [
    "df['price/sqft'].value_counts()[:50]\n"
   ]
  },
  {
   "cell_type": "markdown",
   "metadata": {},
   "source": [
    "### В столбце присутствует 5519 уникальных значений и 42731 пропуск. Преобразуем столбец в числовой тип данных и заполним пропуски и значения, которые будем считать пропусками, медианой. Пропусками также будем считать значения ' ', 'No Data' и 'No Info'. Сначала отфильтруем пропуски и все значения, которые считаем пропусками, затем преобразуем столбец в числовой формат. Цена приведена в расчете на 1 кв. фут, но у нас площадь участков в кв. метрах. Значит нужно будет перевести цены в расчете на 1 кв. метр. Для этого нужно умножить их на 10,764. Новые значения запишем в столбец price/sqm.\n",
    "\n"
   ]
  },
  {
   "cell_type": "code",
   "execution_count": 123,
   "metadata": {},
   "outputs": [
    {
     "data": {
      "text/plain": [
       "175"
      ]
     },
     "execution_count": 123,
     "metadata": {},
     "output_type": "execute_result"
    }
   ],
   "source": [
    "pattern = re.compile('\\d+[.]?[,]?\\d+')\n",
    "\n",
    "# Фильтруем все значения, которые считаем пропусками\n",
    "sub_df = df[(df['price/sqft'] != '') & (df['price/sqft'] != 'No Data') & (df['price/sqft'] != 'No Info') & \\\n",
    "            (pd.isna(df['price/sqft']) != True)]\n",
    "\n",
    "# Выделяем числовые значения\n",
    "for i in sub_df.index:\n",
    "    if len(pattern.findall(sub_df['price/sqft'].loc[i])) != 0:\n",
    "        sub_df['price/sqft'].loc[i] = pattern.findall(sub_df['price/sqft'].loc[i])[0]\n",
    "    else:\n",
    "        sub_df.drop(i, axis = 0, inplace = True)\n",
    "\n",
    "# Убираем запятые\n",
    "sub_df['price/sqft'] = sub_df['price/sqft'].apply(lambda x: x.replace(',', ''))\n",
    "\n",
    "# Переводим в числовой формат\n",
    "sub_df['price/sqft'] = sub_df['price/sqft'].apply(lambda x: int(x))\n",
    "\n",
    "# Считаем среднее арифметическое\n",
    "round(sub_df['price/sqft'].median())"
   ]
  },
  {
   "cell_type": "markdown",
   "metadata": {},
   "source": [
    "### Теперь в исходном датафрейме df заменим пропуски и значения ' ', 'No Data' и 'No Info' на значение '177'.\n",
    "\n"
   ]
  },
  {
   "cell_type": "code",
   "execution_count": 124,
   "metadata": {},
   "outputs": [],
   "source": [
    "df['price/sqft'] = df['price/sqft'].apply(lambda x: '177' if (x == '') | (x == 'No Data') | (x == 'No Info') | \\\n",
    "                                          (pd.isna(x) == True) else x)"
   ]
  },
  {
   "cell_type": "markdown",
   "metadata": {},
   "source": [
    "### Снова проделаем те же операции со столбцом, что и в датафрейме sub_df для того, чтобы получить числовой формат с ценой за m^2.\n",
    "\n"
   ]
  },
  {
   "cell_type": "code",
   "execution_count": 125,
   "metadata": {},
   "outputs": [],
   "source": [
    "pattern = re.compile('\\d+[.]?[,]?\\d+')\n",
    "\n",
    "# Выделяем цифровые значения\n",
    "df['price/sqft'] = df['price/sqft'].apply(lambda x: '177' if len(pattern.findall(x)) == 0 else pattern.findall(x)[0])\n",
    "\n",
    "# Убираем запятые\n",
    "df['price/sqft'] = df['price/sqft'].apply(lambda x: x.replace(',', ''))\n",
    "\n",
    "# Переводим в числовой формат\n",
    "df['price/sqft'] = df['price/sqft'].apply(lambda x: int(x))\n",
    "\n",
    "#Переводим цены за кв. фут в цены за кв. м.\n",
    "df['price/sqm'] = df['price/sqft'].apply(lambda x: round(x*10.764))\n"
   ]
  },
  {
   "cell_type": "markdown",
   "metadata": {},
   "source": [
    "## Стобец price/sqft нам больше не нужен, поэтому удалим его.\n",
    "\n"
   ]
  },
  {
   "cell_type": "code",
   "execution_count": 126,
   "metadata": {},
   "outputs": [],
   "source": [
    "df.drop('price/sqft', axis = 1, inplace = True)\n"
   ]
  },
  {
   "cell_type": "markdown",
   "metadata": {},
   "source": [
    "## Посмотрим на гистограмму распределения признака price/sqm.\n",
    "\n"
   ]
  },
  {
   "cell_type": "code",
   "execution_count": 127,
   "metadata": {},
   "outputs": [
    {
     "data": {
      "text/plain": [
       "<AxesSubplot: >"
      ]
     },
     "execution_count": 127,
     "metadata": {},
     "output_type": "execute_result"
    },
    {
     "data": {
      "image/png": "[encoded data removed]",
      "text/plain": [
       "<Figure size 1200x700 with 1 Axes>"
      ]
     },
     "metadata": {},
     "output_type": "display_data"
    }
   ],
   "source": [
    "plt.figure(figsize = (12,7))\n",
    "df['price/sqm'].hist()\n"
   ]
  },
  {
   "cell_type": "code",
   "execution_count": 128,
   "metadata": {},
   "outputs": [],
   "source": [
    "### Отфильтруем выбросы. Для этого воспользуемся функцией outliers_iqr.\n",
    "\n"
   ]
  },
  {
   "cell_type": "code",
   "execution_count": 129,
   "metadata": {},
   "outputs": [
    {
     "data": {
      "text/plain": [
       "94848         4639\n",
       "108666        4639\n",
       "151179        4639\n",
       "144352        4639\n",
       "200821        4639\n",
       "            ...   \n",
       "26112      8503560\n",
       "122833     9461556\n",
       "136556     9666072\n",
       "152279     9686524\n",
       "39318     10225800\n",
       "Name: price/sqm, Length: 27228, dtype: int64"
      ]
     },
     "execution_count": 129,
     "metadata": {},
     "output_type": "execute_result"
    }
   ],
   "source": [
    "df['price/sqm'].loc[outliers_iqr(df['price/sqm'])].sort_values()\n"
   ]
  },
  {
   "cell_type": "markdown",
   "metadata": {},
   "source": [
    "### Выявлено 25340 выбросов. Удалим их.\n",
    "\n"
   ]
  },
  {
   "cell_type": "code",
   "execution_count": 130,
   "metadata": {},
   "outputs": [],
   "source": [
    "df.drop(outliers_iqr(df['price/sqm']), inplace = True)\n",
    "df.reset_index(inplace = True, drop = True)\n"
   ]
  },
  {
   "cell_type": "markdown",
   "metadata": {},
   "source": [
    "## Посмотрим на гистограмму распределения:\n",
    "\n"
   ]
  },
  {
   "cell_type": "code",
   "execution_count": 131,
   "metadata": {},
   "outputs": [
    {
     "data": {
      "text/plain": [
       "<AxesSubplot: >"
      ]
     },
     "execution_count": 131,
     "metadata": {},
     "output_type": "execute_result"
    },
    {
     "data": {
      "image/png": "[encoded data removed]",
      "text/plain": [
       "<Figure size 1200x700 with 1 Axes>"
      ]
     },
     "metadata": {},
     "output_type": "display_data"
    }
   ],
   "source": [
    "plt.figure(figsize = (12,7))\n",
    "df['price/sqm'].hist(bins=20)\n"
   ]
  },
  {
   "cell_type": "code",
   "execution_count": 132,
   "metadata": {},
   "outputs": [],
   "source": [
    "num_cols.append('price/sqm')\n"
   ]
  },
  {
   "cell_type": "code",
   "execution_count": 133,
   "metadata": {},
   "outputs": [],
   "source": [
    "df.drop('homeFacts', axis = 1, inplace = True)\n"
   ]
  },
  {
   "cell_type": "markdown",
   "metadata": {},
   "source": [
    "## 6. fireplace\n"
   ]
  },
  {
   "cell_type": "code",
   "execution_count": 134,
   "metadata": {},
   "outputs": [
    {
     "data": {
      "text/plain": [
       "yes                                      32405\n",
       "Yes                                      13330\n",
       "1                                         2332\n",
       "Not Applicable                            1677\n",
       "2                                          400\n",
       "No                                         234\n",
       "Fireplace YN                               129\n",
       "0                                          124\n",
       "Gas/Gas Logs                                82\n",
       "Living Room                                 67\n",
       "1 Fireplace                                 55\n",
       "Wood                                        45\n",
       "3                                           43\n",
       "Special Features                            40\n",
       "Wood Burning                                38\n",
       "Gas Logs, In Great Room                     29\n",
       "Fireplace Features                          24\n",
       "Family Room                                 22\n",
       "Gas                                         20\n",
       "Gas Logs, In Living Room                    20\n",
       "Living Room, Wood Burning                   19\n",
       "Family Room, Wood Burning                   18\n",
       "Gas Logs, In Den/Family Room                16\n",
       "Den                                         15\n",
       "Great Room                                  15\n",
       "Fireplace                                   15\n",
       "Other (See Remarks)                         14\n",
       "N/K                                         14\n",
       "Gas Logs                                    14\n",
       "4                                           13\n",
       "Gas Fireplace                               11\n",
       "Gas, Ventless                               10\n",
       "1 Fireplace, Family Room                    10\n",
       "Electric                                     9\n",
       "One                                          8\n",
       "1 Fireplace, Gas Fireplace                   8\n",
       "In Living Room                               7\n",
       "In Den/Family Room                           7\n",
       "See Agent                                    7\n",
       "1 Fireplace, Living Room                     6\n",
       "1 Fireplace, Gas Burning                     6\n",
       "Gas, Family Room                             5\n",
       "In Great Room                                5\n",
       "1 Fireplace, Family Room, Gas Burning        5\n",
       "Decorative                                   4\n",
       "Basement, Den                                4\n",
       "Den, Living Room                             4\n",
       "In Den/Family Room, Wood Burning             4\n",
       "5                                            4\n",
       "Gas/Gas Logs, Wood                           4\n",
       "Name: fireplace, dtype: int64"
      ]
     },
     "execution_count": 134,
     "metadata": {},
     "output_type": "execute_result"
    }
   ],
   "source": [
    "# камин; тип данных - object\n",
    "df.fireplace.nunique()\n",
    "df.fireplace.isna().sum()\n",
    "df.fireplace.value_counts()[:50]\n"
   ]
  },
  {
   "cell_type": "markdown",
   "metadata": {},
   "source": [
    "### В столбце содержится 238 уникальных значений и 164011 пропусков. Логично предположить, что здесь пропуск означает отсутствие камина. Поэтому целесообразно заполнить все пропуски значением 'no'.\n",
    "\n"
   ]
  },
  {
   "cell_type": "code",
   "execution_count": 135,
   "metadata": {},
   "outputs": [],
   "source": [
    "df.fireplace = df.fireplace.fillna('no')\n"
   ]
  },
  {
   "cell_type": "markdown",
   "metadata": {},
   "source": [
    "## Некоторые значения имеют различное написание, но одинаковый смысл. Приведём их к единообразию. Для начала приведём всё к нижнему регистру.\n",
    "\n"
   ]
  },
  {
   "cell_type": "code",
   "execution_count": 136,
   "metadata": {},
   "outputs": [
    {
     "data": {
      "text/plain": [
       "no                                                        158829\n",
       "yes                                                        45735\n",
       "1                                                           2332\n",
       "not applicable                                              1677\n",
       "2                                                            400\n",
       "fireplace yn                                                 129\n",
       "0                                                            124\n",
       "gas/gas logs                                                  82\n",
       "living room                                                   67\n",
       "1 fireplace                                                   55\n",
       "wood                                                          45\n",
       "3                                                             43\n",
       "special features                                              40\n",
       "wood burning                                                  38\n",
       "gas logs, in great room                                       29\n",
       "fireplace features                                            24\n",
       "family room                                                   22\n",
       "gas                                                           20\n",
       "gas logs, in living room                                      20\n",
       "living room, wood burning                                     19\n",
       "family room, wood burning                                     18\n",
       "gas logs, in den/family room                                  16\n",
       "den                                                           15\n",
       "great room                                                    15\n",
       "fireplace                                                     15\n",
       "n/k                                                           14\n",
       "gas logs                                                      14\n",
       "other (see remarks)                                           14\n",
       "4                                                             13\n",
       "gas fireplace                                                 11\n",
       "gas, ventless                                                 10\n",
       "1 fireplace, family room                                      10\n",
       "electric                                                       9\n",
       "1 fireplace, gas fireplace                                     8\n",
       "one                                                            8\n",
       "in den/family room                                             7\n",
       "in living room                                                 7\n",
       "see agent                                                      7\n",
       "1 fireplace, gas burning                                       6\n",
       "1 fireplace, living room                                       6\n",
       "in great room                                                  5\n",
       "1 fireplace, family room, gas burning                          5\n",
       "gas, family room                                               5\n",
       "decorative                                                     4\n",
       "in den/family room, wood burning                               4\n",
       "gas fireplace, gas logs included, great room fireplace         4\n",
       "den, living room                                               4\n",
       "basement, den                                                  4\n",
       "5                                                              4\n",
       "number                                                         4\n",
       "Name: fireplace, dtype: int64"
      ]
     },
     "execution_count": 136,
     "metadata": {},
     "output_type": "execute_result"
    }
   ],
   "source": [
    "df['fireplace'] = df['fireplace'].apply(lambda x: str(x).lower())\n",
    "df.fireplace.value_counts()[:50]\n"
   ]
  },
  {
   "cell_type": "markdown",
   "metadata": {},
   "source": [
    "## Заменим значение '0' на 'no'.\n",
    "\n"
   ]
  },
  {
   "cell_type": "code",
   "execution_count": 137,
   "metadata": {},
   "outputs": [],
   "source": [
    "df['fireplace'] = df['fireplace'].apply(lambda x: 'no' if x=='0' else x)\n"
   ]
  },
  {
   "cell_type": "markdown",
   "metadata": {},
   "source": [
    "### Проведем бинарное кодирование столбца: заменим все значения, которые не равны 'no' на 'yes'.\n",
    "\n"
   ]
  },
  {
   "cell_type": "code",
   "execution_count": 138,
   "metadata": {},
   "outputs": [],
   "source": [
    "df['fireplace'] = df['fireplace'].apply(lambda x: 'yes' if x!='no' else x)\n"
   ]
  },
  {
   "cell_type": "code",
   "execution_count": 139,
   "metadata": {},
   "outputs": [],
   "source": [
    "bin_cols.append('fireplace')\n"
   ]
  },
  {
   "cell_type": "markdown",
   "metadata": {},
   "source": [
    "#### 7. city\n"
   ]
  },
  {
   "cell_type": "code",
   "execution_count": 140,
   "metadata": {},
   "outputs": [
    {
     "data": {
      "text/plain": [
       "Houston             13523\n",
       "San Antonio          9955\n",
       "Miami                8072\n",
       "Jacksonville         6348\n",
       "Dallas               5153\n",
       "Las Vegas            4756\n",
       "Chicago              4370\n",
       "Orlando              4217\n",
       "New York             3971\n",
       "Tampa                3874\n",
       "Austin               3644\n",
       "Fort Worth           3546\n",
       "Philadelphia         3421\n",
       "Fort Lauderdale      2890\n",
       "Atlanta              2766\n",
       "Palm Coast           2520\n",
       "Detroit              2508\n",
       "Charlotte            2501\n",
       "Brooklyn             2239\n",
       "Cleveland            2167\n",
       "Saint Petersburg     2030\n",
       "Lehigh Acres         1992\n",
       "Indianapolis         1921\n",
       "Memphis              1911\n",
       "El Paso              1833\n",
       "Ocala                1764\n",
       "Nashville            1763\n",
       "Kissimmee            1710\n",
       "Reno                 1450\n",
       "Portland             1417\n",
       "Port Charlotte       1292\n",
       "Denver               1244\n",
       "Cape Coral           1207\n",
       "Raleigh              1172\n",
       "Chattanooga          1081\n",
       "Fresno               1081\n",
       "Sacramento           1022\n",
       "Washington            998\n",
       "Hialeah               979\n",
       "Durham                965\n",
       "Knoxville             938\n",
       "Cincinnati            891\n",
       "Doral                 881\n",
       "PORT CHARLOTTE        877\n",
       "Pensacola             866\n",
       "Laredo                864\n",
       "McKinney              858\n",
       "Lauderhill            857\n",
       "Hollywood             842\n",
       "Clarksville           822\n",
       "Name: city, dtype: int64"
      ]
     },
     "execution_count": 140,
     "metadata": {},
     "output_type": "execute_result"
    }
   ],
   "source": [
    "# город; тип данных - object\n",
    "df.city.nunique()\n",
    "df.city.isna().sum()\n",
    "df.city.value_counts()[:50]\n"
   ]
  },
  {
   "cell_type": "markdown",
   "metadata": {},
   "source": [
    "### Столбец имеет 1575 уникальных значений и 10 пропусков. Заполним пропуски самым популярным городом - это Houston.\n",
    "\n"
   ]
  },
  {
   "cell_type": "code",
   "execution_count": 141,
   "metadata": {},
   "outputs": [
    {
     "data": {
      "text/plain": [
       "Houston         13533\n",
       "San Antonio      9955\n",
       "Miami            8072\n",
       "Jacksonville     6348\n",
       "Dallas           5153\n",
       "Las Vegas        4756\n",
       "Chicago          4370\n",
       "Orlando          4217\n",
       "New York         3971\n",
       "Tampa            3874\n",
       "Name: city, dtype: int64"
      ]
     },
     "execution_count": 141,
     "metadata": {},
     "output_type": "execute_result"
    }
   ],
   "source": [
    "df['city'] = df['city'].fillna('Houston')\n",
    "\n",
    "df.city.value_counts()[:10]\n"
   ]
  },
  {
   "cell_type": "code",
   "execution_count": 142,
   "metadata": {},
   "outputs": [
    {
     "data": {
      "text/plain": [
       "8"
      ]
     },
     "execution_count": 142,
     "metadata": {},
     "output_type": "execute_result"
    }
   ],
   "source": [
    "cities_with_freqs = list(df.city.value_counts())\n",
    "top_cities_count = int(np.percentile(cities_with_freqs, 50))\n",
    "top_cities_count\n"
   ]
  },
  {
   "cell_type": "markdown",
   "metadata": {},
   "source": [
    "### Выделим 9 самых популярных городов, которые описывают около 50% примеров - это Houston, San Antonio, Miami, Jacksonville, Dallas, Las Vegas, Chicago, Orlando, Tampa, остальные назовём other.\n",
    "\n"
   ]
  },
  {
   "cell_type": "code",
   "execution_count": 143,
   "metadata": {},
   "outputs": [],
   "source": [
    "all_cities = set(df.city.value_counts().index)\n",
    "main_cities = set(df.city.value_counts().index[:9])\n",
    "cities_to_drop = list(all_cities - main_cities)\n",
    "df.loc[df['city'].isin(cities_to_drop), 'city'] = 'other'\n"
   ]
  },
  {
   "cell_type": "code",
   "execution_count": 144,
   "metadata": {},
   "outputs": [],
   "source": [
    "cat_cols.append('city')\n"
   ]
  },
  {
   "cell_type": "markdown",
   "metadata": {},
   "source": [
    "### 8. schools\n"
   ]
  },
  {
   "cell_type": "code",
   "execution_count": 145,
   "metadata": {},
   "outputs": [
    {
     "data": {
      "text/plain": [
       "0"
      ]
     },
     "execution_count": 145,
     "metadata": {},
     "output_type": "execute_result"
    }
   ],
   "source": [
    "# данные о близлежащих школах; тип данных - object\n",
    "\n",
    "df.schools.nunique()\n",
    "df.schools.isna().sum()\n"
   ]
  },
  {
   "cell_type": "markdown",
   "metadata": {},
   "source": [
    "### Пропуски отсутствуют.\n",
    "\n"
   ]
  },
  {
   "cell_type": "code",
   "execution_count": 146,
   "metadata": {},
   "outputs": [
    {
     "data": {
      "text/plain": [
       "\"[{'rating': ['4/10', 'None/10', '4/10'], 'data': {'Distance': ['1.65mi', '1.32mi', '1.01mi'], 'Grades': ['9-12', '3-8', 'PK-8']}, 'name': ['East Valley High School&Extension', 'Eastvalley Middle School', 'Trentwood Elementary School']}]\""
      ]
     },
     "execution_count": 146,
     "metadata": {},
     "output_type": "execute_result"
    }
   ],
   "source": [
    "df.schools.loc[0]\n"
   ]
  },
  {
   "cell_type": "markdown",
   "metadata": {},
   "source": [
    "### В столбце типом данных является строка, в которой закодирован список. В списке в свою очередь заключен словарь. Применим функцию eval для раскодировки списка.\n",
    "\n"
   ]
  },
  {
   "cell_type": "code",
   "execution_count": 147,
   "metadata": {},
   "outputs": [],
   "source": [
    "df.schools = df.schools.apply(eval)\n"
   ]
  },
  {
   "cell_type": "code",
   "execution_count": 148,
   "metadata": {},
   "outputs": [
    {
     "data": {
      "text/plain": [
       "[{'rating': ['4/10', 'None/10', '4/10'],\n",
       "  'data': {'Distance': ['1.65mi', '1.32mi', '1.01mi'],\n",
       "   'Grades': ['9-12', '3-8', 'PK-8']},\n",
       "  'name': ['East Valley High School&Extension',\n",
       "   'Eastvalley Middle School',\n",
       "   'Trentwood Elementary School']}]"
      ]
     },
     "execution_count": 148,
     "metadata": {},
     "output_type": "execute_result"
    }
   ],
   "source": [
    "df.schools.loc[0]\n"
   ]
  },
  {
   "cell_type": "markdown",
   "metadata": {},
   "source": [
    "### Здесь содержатся данные о школах, расположенных рядом с домом, такие как: rating - рейтинги школ, Distance - расстояния до школ, Grades - возрастной уровень школ и name - названия школ. Из данного столбца можно создать такие признаки как: средний рейтинг школ - 'average_school_rating', количество рядом расположенных школ - 'number_of_schools' и среднее расстояние до школ - 'average_distance_to_school'. Извлечём данные.\n",
    "\n"
   ]
  },
  {
   "cell_type": "markdown",
   "metadata": {},
   "source": [
    "## Средний рейтинг школ - average_school_rating.\n"
   ]
  },
  {
   "cell_type": "markdown",
   "metadata": {},
   "source": [
    "#### Извлечём показатели рейтингов школ в столбец average_school_rating.\n",
    "\n"
   ]
  },
  {
   "cell_type": "code",
   "execution_count": 149,
   "metadata": {},
   "outputs": [],
   "source": [
    "df['average_school_rating'] = df['schools'].apply(lambda x: x[0]['rating'])\n"
   ]
  },
  {
   "cell_type": "code",
   "execution_count": 150,
   "metadata": {},
   "outputs": [
    {
     "data": {
      "text/plain": [
       "0"
      ]
     },
     "execution_count": 150,
     "metadata": {},
     "output_type": "execute_result"
    }
   ],
   "source": [
    "df['average_school_rating'].isna().sum()\n",
    "    "
   ]
  },
  {
   "cell_type": "markdown",
   "metadata": {},
   "source": [
    "## Пропуски отсутствуют. Посмотрим на структуру данных.\n",
    "\n"
   ]
  },
  {
   "cell_type": "code",
   "execution_count": 151,
   "metadata": {},
   "outputs": [
    {
     "name": "stdout",
     "output_type": "stream",
     "text": [
      "['4/10', 'None/10', '4/10']\n",
      "['9/10', '9/10', '10/10', '9/10']\n",
      "['4/10', '5/10', '5/10']\n",
      "[]\n",
      "['4', '2', '2']\n"
     ]
    }
   ],
   "source": [
    "for i in range(5):\n",
    "    print(df['average_school_rating'].loc[i])\n"
   ]
  },
  {
   "cell_type": "code",
   "execution_count": 152,
   "metadata": {},
   "outputs": [],
   "source": [
    "## Извлечём числовые показатели и посчитаем средний рейтинг.\n",
    "\n",
    "pattern = re.compile('\\d+')\n",
    "\n",
    "for i in df.index:\n",
    "    sum_ratings = 0\n",
    "    count = 0\n",
    "    for item in df['average_school_rating'].loc[i]:\n",
    "        if (len(pattern.findall(item)) != 0) & ('None' not in item):\n",
    "            sum_ratings += int(pattern.findall(item)[0])\n",
    "            count += 1\n",
    "        else:\n",
    "            continue\n",
    "    if count == 0:\n",
    "        df['average_school_rating'].loc[i] = 0\n",
    "    else:\n",
    "        df['average_school_rating'].loc[i] = round(sum_ratings/count, 1)\n"
   ]
  },
  {
   "cell_type": "code",
   "execution_count": 153,
   "metadata": {},
   "outputs": [
    {
     "data": {
      "text/plain": [
       "6.0    12581\n",
       "4.0    11791\n",
       "5.0    11218\n",
       "3.0    10710\n",
       "3.3     9548\n",
       "       ...  \n",
       "1.4        7\n",
       "5.1        5\n",
       "2.1        4\n",
       "1.2        3\n",
       "1.9        2\n",
       "Name: average_school_rating, Length: 85, dtype: int64"
      ]
     },
     "execution_count": 153,
     "metadata": {},
     "output_type": "execute_result"
    }
   ],
   "source": [
    "df['average_school_rating'].value_counts()\n"
   ]
  },
  {
   "cell_type": "markdown",
   "metadata": {},
   "source": [
    "### Посмотрим сколько в столбце нулевых значений.\n",
    "\n"
   ]
  },
  {
   "cell_type": "code",
   "execution_count": 154,
   "metadata": {},
   "outputs": [
    {
     "data": {
      "text/plain": [
       "2247"
      ]
     },
     "execution_count": 154,
     "metadata": {},
     "output_type": "execute_result"
    }
   ],
   "source": [
    "len(df[df['average_school_rating'] == 0])\n"
   ]
  },
  {
   "cell_type": "markdown",
   "metadata": {},
   "source": [
    "## Нулевое значение подразумевает отсутствие информации о рейтингах школ. Таких значений 2285. Заменим нули медианным значением, округлённым до целого.\n",
    "\n"
   ]
  },
  {
   "cell_type": "code",
   "execution_count": 155,
   "metadata": {},
   "outputs": [
    {
     "data": {
      "text/plain": [
       "5"
      ]
     },
     "execution_count": 155,
     "metadata": {},
     "output_type": "execute_result"
    }
   ],
   "source": [
    " # Отфильтруем нули в столбце и посчитаем среднее\n",
    "round(df[df['average_school_rating'] != 0]['average_school_rating'].median())\n"
   ]
  },
  {
   "cell_type": "code",
   "execution_count": 156,
   "metadata": {},
   "outputs": [],
   "source": [
    "# Заменим средним арифметическим нулевые значения\n",
    "df['average_school_rating'] = df['average_school_rating'].apply(lambda x: 5 if x == 0 else x)\n"
   ]
  },
  {
   "cell_type": "markdown",
   "metadata": {},
   "source": [
    "### Посмотрим на гистограмму распределения:\n",
    "\n"
   ]
  },
  {
   "cell_type": "code",
   "execution_count": 157,
   "metadata": {},
   "outputs": [
    {
     "data": {
      "text/plain": [
       "<AxesSubplot: >"
      ]
     },
     "execution_count": 157,
     "metadata": {},
     "output_type": "execute_result"
    },
    {
     "data": {
      "image/png": "[encoded data removed]",
      "text/plain": [
       "<Figure size 1200x700 with 1 Axes>"
      ]
     },
     "metadata": {},
     "output_type": "display_data"
    }
   ],
   "source": [
    "plt.figure(figsize = (12,7))\n",
    "df['average_school_rating'].hist(bins=20)\n"
   ]
  },
  {
   "cell_type": "code",
   "execution_count": 158,
   "metadata": {},
   "outputs": [],
   "source": [
    "num_cols.append('average_school_rating')\n"
   ]
  },
  {
   "cell_type": "markdown",
   "metadata": {},
   "source": [
    "### Количество рядом расположенных школ - 'number_of_schools.\n"
   ]
  },
  {
   "cell_type": "code",
   "execution_count": 159,
   "metadata": {},
   "outputs": [],
   "source": [
    "df['number_of_schools'] = df['schools'].apply(lambda x: len(x[0]['rating']))\n"
   ]
  },
  {
   "cell_type": "code",
   "execution_count": 160,
   "metadata": {},
   "outputs": [
    {
     "data": {
      "text/plain": [
       "numpy.int64"
      ]
     },
     "execution_count": 160,
     "metadata": {},
     "output_type": "execute_result"
    }
   ],
   "source": [
    "type(df['number_of_schools'][0])\n"
   ]
  },
  {
   "cell_type": "code",
   "execution_count": 161,
   "metadata": {},
   "outputs": [
    {
     "data": {
      "text/plain": [
       "3     129821\n",
       "2      21355\n",
       "5      12968\n",
       "8      12940\n",
       "4      12443\n",
       "1       5028\n",
       "6       4354\n",
       "7       2091\n",
       "24      1748\n",
       "0       1717\n",
       "22      1368\n",
       "13       864\n",
       "12       688\n",
       "63       532\n",
       "11       434\n",
       "15       422\n",
       "10       377\n",
       "14       366\n",
       "65       326\n",
       "49       152\n",
       "61       108\n",
       "9         91\n",
       "16        20\n",
       "17        10\n",
       "26         8\n",
       "21         4\n",
       "19         3\n",
       "Name: number_of_schools, dtype: int64"
      ]
     },
     "execution_count": 161,
     "metadata": {},
     "output_type": "execute_result"
    }
   ],
   "source": [
    "df['number_of_schools'].value_counts()\n"
   ]
  },
  {
   "cell_type": "markdown",
   "metadata": {},
   "source": [
    "### Нулевое значение мы принимаем за отсутсвие информации о школе, поэтому заменим эти значения на медианное количество школ. Посчитаем медианное количество школ, расположенных около дома.\n",
    "\n"
   ]
  },
  {
   "cell_type": "code",
   "execution_count": 162,
   "metadata": {},
   "outputs": [
    {
     "data": {
      "text/plain": [
       "3"
      ]
     },
     "execution_count": 162,
     "metadata": {},
     "output_type": "execute_result"
    }
   ],
   "source": [
    "round(df['number_of_schools'].median())\n"
   ]
  },
  {
   "cell_type": "code",
   "execution_count": 163,
   "metadata": {},
   "outputs": [
    {
     "data": {
      "text/plain": [
       "3     131538\n",
       "2      21355\n",
       "5      12968\n",
       "8      12940\n",
       "4      12443\n",
       "1       5028\n",
       "6       4354\n",
       "7       2091\n",
       "24      1748\n",
       "22      1368\n",
       "13       864\n",
       "12       688\n",
       "63       532\n",
       "11       434\n",
       "15       422\n",
       "10       377\n",
       "14       366\n",
       "65       326\n",
       "49       152\n",
       "61       108\n",
       "9         91\n",
       "16        20\n",
       "17        10\n",
       "26         8\n",
       "21         4\n",
       "19         3\n",
       "Name: number_of_schools, dtype: int64"
      ]
     },
     "execution_count": 163,
     "metadata": {},
     "output_type": "execute_result"
    }
   ],
   "source": [
    "df['number_of_schools'] = df['number_of_schools'].apply(lambda x: 3 if x == 0 else x)\n",
    "df['number_of_schools'].value_counts()\n",
    "    "
   ]
  },
  {
   "cell_type": "markdown",
   "metadata": {},
   "source": [
    "### Посмотрим на гистограмму распределения:\n",
    "\n"
   ]
  },
  {
   "cell_type": "code",
   "execution_count": 164,
   "metadata": {},
   "outputs": [
    {
     "data": {
      "text/plain": [
       "<AxesSubplot: >"
      ]
     },
     "execution_count": 164,
     "metadata": {},
     "output_type": "execute_result"
    },
    {
     "data": {
      "image/png": "[encoded data removed]",
      "text/plain": [
       "<Figure size 1200x700 with 1 Axes>"
      ]
     },
     "metadata": {},
     "output_type": "display_data"
    }
   ],
   "source": [
    "plt.figure(figsize = (12,7))\n",
    "df['number_of_schools'].hist(bins = 20)\n"
   ]
  },
  {
   "cell_type": "markdown",
   "metadata": {},
   "source": [
    "### Визуально заметны выбросы - отфильтруем их, воспользовавшись функцией outliers_z_score.\n",
    "\n"
   ]
  },
  {
   "cell_type": "code",
   "execution_count": 165,
   "metadata": {},
   "outputs": [
    {
     "data": {
      "text/plain": [
       "118737    15\n",
       "190790    15\n",
       "86667     15\n",
       "144656    15\n",
       "86606     15\n",
       "          ..\n",
       "165229    65\n",
       "88187     65\n",
       "87844     65\n",
       "98058     65\n",
       "95309     65\n",
       "Name: number_of_schools, Length: 4701, dtype: int64"
      ]
     },
     "execution_count": 165,
     "metadata": {},
     "output_type": "execute_result"
    }
   ],
   "source": [
    "df['number_of_schools'].loc[outliers_z_score(df['number_of_schools'], threshold = 2)].sort_values()\n"
   ]
  },
  {
   "cell_type": "markdown",
   "metadata": {},
   "source": [
    "### Выявлено 4688 выбросов. Удалим их.\n",
    "\n"
   ]
  },
  {
   "cell_type": "code",
   "execution_count": 166,
   "metadata": {},
   "outputs": [],
   "source": [
    "df.drop(outliers_z_score(df['number_of_schools'], threshold = 2), inplace = True)\n",
    "df.reset_index(inplace = True, drop = True)\n"
   ]
  },
  {
   "cell_type": "code",
   "execution_count": 167,
   "metadata": {},
   "outputs": [
    {
     "data": {
      "text/plain": [
       "<AxesSubplot: >"
      ]
     },
     "execution_count": 167,
     "metadata": {},
     "output_type": "execute_result"
    },
    {
     "data": {
      "image/png": "[encoded data removed]",
      "text/plain": [
       "<Figure size 1200x700 with 1 Axes>"
      ]
     },
     "metadata": {},
     "output_type": "display_data"
    }
   ],
   "source": [
    "plt.figure(figsize = (12,7))\n",
    "df['number_of_schools'].hist(bins = 20)\n"
   ]
  },
  {
   "cell_type": "code",
   "execution_count": 168,
   "metadata": {},
   "outputs": [],
   "source": [
    "num_cols.append('number_of_schools')\n"
   ]
  },
  {
   "cell_type": "markdown",
   "metadata": {},
   "source": [
    "## Среднее расстояние до школ в милях - 'average_distance_to_school'.\n"
   ]
  },
  {
   "cell_type": "code",
   "execution_count": 169,
   "metadata": {},
   "outputs": [],
   "source": [
    "df['average_distance_to_school'] = df['schools'].apply(lambda x: x[0]['data']['Distance'])\n"
   ]
  },
  {
   "cell_type": "code",
   "execution_count": 170,
   "metadata": {},
   "outputs": [
    {
     "data": {
      "text/plain": [
       "0"
      ]
     },
     "execution_count": 170,
     "metadata": {},
     "output_type": "execute_result"
    }
   ],
   "source": [
    "df['average_distance_to_school'].isna().sum()\n"
   ]
  },
  {
   "cell_type": "markdown",
   "metadata": {},
   "source": [
    "### Пропуски отсутствуют. Посмотрим на структуру данных.\n",
    "\n"
   ]
  },
  {
   "cell_type": "code",
   "execution_count": 171,
   "metadata": {},
   "outputs": [
    {
     "name": "stdout",
     "output_type": "stream",
     "text": [
      "['1.65mi', '1.32mi', '1.01mi']\n",
      "['1.05mi', '0.1mi', '1.05mi', '0.81mi']\n",
      "['5.96mi', '3.25mi', '3.03mi']\n",
      "[]\n",
      "['0.7 mi', '0.4 mi', '2.2 mi']\n"
     ]
    }
   ],
   "source": [
    "for i in range(5):\n",
    "    print(df['average_distance_to_school'].loc[i])\n"
   ]
  },
  {
   "cell_type": "markdown",
   "metadata": {},
   "source": [
    "### Извлечём числовые показатели и посчитаем среднее расстояние до окружающих школ.\n",
    "\n"
   ]
  },
  {
   "cell_type": "code",
   "execution_count": 172,
   "metadata": {},
   "outputs": [],
   "source": [
    "pattern = re.compile('\\d+[.]\\d+')\n",
    "\n",
    "for i in df.index:\n",
    "    sum_distances = 0\n",
    "    count = 0\n",
    "    for item in df['average_distance_to_school'].loc[i]:\n",
    "        if len(pattern.findall(item)) != 0:\n",
    "            sum_distances += float(pattern.findall(item)[0])\n",
    "            count += 1\n",
    "        else:\n",
    "            continue\n",
    "    if count == 0:\n",
    "        df['average_distance_to_school'].loc[i] = 0\n",
    "    else:\n",
    "        df['average_distance_to_school'].loc[i] = round(sum_distances/count, 1)\n"
   ]
  },
  {
   "cell_type": "code",
   "execution_count": 173,
   "metadata": {},
   "outputs": [
    {
     "data": {
      "text/plain": [
       "1.1     8879\n",
       "1.2     8520\n",
       "0.9     8252\n",
       "1.0     8147\n",
       "1.4     7728\n",
       "        ... \n",
       "37.9       1\n",
       "24.0       1\n",
       "31.7       1\n",
       "26.8       1\n",
       "27.1       1\n",
       "Name: average_distance_to_school, Length: 312, dtype: int64"
      ]
     },
     "execution_count": 173,
     "metadata": {},
     "output_type": "execute_result"
    }
   ],
   "source": [
    "df['average_distance_to_school'].value_counts()\n"
   ]
  },
  {
   "cell_type": "markdown",
   "metadata": {},
   "source": [
    "### Посмотрим сколько в столбце нулевых значений.\n",
    "\n"
   ]
  },
  {
   "cell_type": "code",
   "execution_count": 174,
   "metadata": {},
   "outputs": [
    {
     "data": {
      "text/plain": [
       "1965"
      ]
     },
     "execution_count": 174,
     "metadata": {},
     "output_type": "execute_result"
    }
   ],
   "source": [
    "len(df[df['average_distance_to_school'] == 0])\n"
   ]
  },
  {
   "cell_type": "markdown",
   "metadata": {},
   "source": [
    "## Нулевое значение подразумевает отсутствие информации о рейтингах школ. Таких значений 2001. Заменим нули медианным значением, округлённым до целого.\n",
    "\n"
   ]
  },
  {
   "cell_type": "code",
   "execution_count": 175,
   "metadata": {},
   "outputs": [
    {
     "data": {
      "text/plain": [
       "2"
      ]
     },
     "execution_count": 175,
     "metadata": {},
     "output_type": "execute_result"
    }
   ],
   "source": [
    "# Отфильтруем нули в столбце и посчитаем среднее\n",
    "round(df[df['average_distance_to_school'] != 0]['average_distance_to_school'].median())\n"
   ]
  },
  {
   "cell_type": "code",
   "execution_count": 176,
   "metadata": {},
   "outputs": [],
   "source": [
    "# Заменим средним арифметическим нулевые значения\n",
    "df['average_distance_to_school'] = df['average_distance_to_school'].apply(lambda x: 2 if x == 0 else x)\n"
   ]
  },
  {
   "cell_type": "markdown",
   "metadata": {},
   "source": [
    "#### Далее для лучшей интерпретации расстояния целесообразно перевести мили в км.\n",
    "\n"
   ]
  },
  {
   "cell_type": "code",
   "execution_count": 177,
   "metadata": {},
   "outputs": [],
   "source": [
    "df['average_distance_to_school'] = df['average_distance_to_school'].apply(lambda x: x*1.6)\n"
   ]
  },
  {
   "cell_type": "code",
   "execution_count": 178,
   "metadata": {},
   "outputs": [
    {
     "data": {
      "text/plain": [
       "<AxesSubplot: >"
      ]
     },
     "execution_count": 178,
     "metadata": {},
     "output_type": "execute_result"
    },
    {
     "data": {
      "image/png": "[encoded data removed]",
      "text/plain": [
       "<Figure size 1200x700 with 1 Axes>"
      ]
     },
     "metadata": {},
     "output_type": "display_data"
    }
   ],
   "source": [
    "## Посмотрим на гистограмму распределения:\n",
    "\n",
    "plt.figure(figsize = (12,7))\n",
    "df['average_distance_to_school'].hist(bins=20)\n"
   ]
  },
  {
   "cell_type": "markdown",
   "metadata": {},
   "source": [
    "## Отфильтруем выбросы. Для этого воспользуемся функцией outliers_iqr.\n",
    "\n"
   ]
  },
  {
   "cell_type": "code",
   "execution_count": 179,
   "metadata": {},
   "outputs": [
    {
     "data": {
      "text/plain": [
       "7930         9.92\n",
       "65087        9.92\n",
       "119286       9.92\n",
       "8263         9.92\n",
       "107178       9.92\n",
       "           ...   \n",
       "125934    1160.80\n",
       "163871    1160.80\n",
       "202674    1160.80\n",
       "59801     2545.28\n",
       "194439    2545.28\n",
       "Name: average_distance_to_school, Length: 19531, dtype: float64"
      ]
     },
     "execution_count": 179,
     "metadata": {},
     "output_type": "execute_result"
    }
   ],
   "source": [
    "df['average_distance_to_school'].loc[outliers_iqr(df['average_distance_to_school'])].sort_values()\n"
   ]
  },
  {
   "cell_type": "markdown",
   "metadata": {},
   "source": [
    "## Выявлено 20423 выброса. Удалим их.\n",
    "\n"
   ]
  },
  {
   "cell_type": "code",
   "execution_count": 180,
   "metadata": {},
   "outputs": [],
   "source": [
    "df = df.drop(outliers_iqr(df['average_distance_to_school']))\n",
    "df.reset_index(inplace = True, drop = True)\n"
   ]
  },
  {
   "cell_type": "code",
   "execution_count": 181,
   "metadata": {},
   "outputs": [
    {
     "data": {
      "text/plain": [
       "<AxesSubplot: >"
      ]
     },
     "execution_count": 181,
     "metadata": {},
     "output_type": "execute_result"
    },
    {
     "data": {
      "image/png": "[encoded data removed]",
      "text/plain": [
       "<Figure size 1200x700 with 1 Axes>"
      ]
     },
     "metadata": {},
     "output_type": "display_data"
    }
   ],
   "source": [
    "# Посмотрим на гистограмму распределения:\n",
    "\n",
    "plt.figure(figsize = (12,7))\n",
    "df['average_distance_to_school'].hist(bins=20)\n"
   ]
  },
  {
   "cell_type": "code",
   "execution_count": 182,
   "metadata": {},
   "outputs": [],
   "source": [
    "## Распределение имеет правый хвост.\n",
    "\n",
    "num_cols.append('average_distance_to_school')\n",
    "df.drop('schools', axis = 1, inplace = True)\n"
   ]
  },
  {
   "cell_type": "markdown",
   "metadata": {},
   "source": [
    "### 9. sqft\n"
   ]
  },
  {
   "cell_type": "code",
   "execution_count": 183,
   "metadata": {},
   "outputs": [
    {
     "data": {
      "text/plain": [
       "0             4529\n",
       "1,200 sqft     424\n",
       "1,800 sqft     309\n",
       "2,000 sqft     295\n",
       "1,500 sqft     295\n",
       "1,000 sqft     289\n",
       "1,400 sqft     284\n",
       "1,100 sqft     283\n",
       "1,600 sqft     255\n",
       "2,400 sqft     222\n",
       "1,300 sqft     217\n",
       "2,200 sqft     213\n",
       "--             206\n",
       "960 sqft       203\n",
       "1,440 sqft     203\n",
       "2,100 sqft     197\n",
       "3,000 sqft     184\n",
       "1,120 sqft     176\n",
       "1,320 sqft     165\n",
       "2,500 sqft     163\n",
       "1,900 sqft     162\n",
       "1,700 sqft     161\n",
       "1,250 sqft     159\n",
       "900 sqft       157\n",
       "1,152 sqft     156\n",
       "2,300 sqft     150\n",
       "1,200          149\n",
       "1,350 sqft     146\n",
       "800 sqft       146\n",
       "1,450 sqft     145\n",
       "1,080 sqft     143\n",
       "1,056 sqft     143\n",
       "1,050 sqft     143\n",
       "1,650 sqft     141\n",
       "1,260 sqft     141\n",
       "1,344 sqft     136\n",
       "-- sqft        133\n",
       "1,500          128\n",
       "1,248 sqft     127\n",
       "1,680 sqft     126\n",
       "1,008 sqft     125\n",
       "2,600 sqft     123\n",
       "1,170 sqft     123\n",
       "1,296 sqft     120\n",
       "850 sqft       119\n",
       "1,560 sqft     119\n",
       "840 sqft       117\n",
       "1,100          116\n",
       "1,750 sqft     115\n",
       "1,040 sqft     110\n",
       "Name: sqft, dtype: int64"
      ]
     },
     "execution_count": 183,
     "metadata": {},
     "output_type": "execute_result"
    }
   ],
   "source": [
    "# жилая площадь в квадратных футах; тип данных - object\n",
    "df.sqft.nunique()\n",
    "df.sqft.isna().sum()\n",
    "df.sqft.value_counts()[:50]\n"
   ]
  },
  {
   "cell_type": "markdown",
   "metadata": {},
   "source": [
    "### В столбце 16970 уникальных значений и 27834 пропуска. Преобразуем столбец в числовой тип данных и заполним пропуски и значения, которые будем считать пропусками, средним арифметическим. Пропусками также будем считать значения '0', '--' и '-- sqft'. Сначала отфильтруем пропуски и все значения, которые считаем пропусками, затем преобразуем столбец в числовой формат, переведём все значения в квадратные метры (m^2) и посчитаем медиану.\n",
    "\n"
   ]
  },
  {
   "cell_type": "code",
   "execution_count": 184,
   "metadata": {},
   "outputs": [
    {
     "data": {
      "text/plain": [
       "1860"
      ]
     },
     "execution_count": 184,
     "metadata": {},
     "output_type": "execute_result"
    }
   ],
   "source": [
    "pattern = re.compile('\\d+[,]?\\d+')\n",
    "\n",
    "# Фильтруем все значения, которые считаем пропусками\n",
    "sub_df = df[(df.sqft != '0') & (df.sqft != '--') & (df.sqft != '-- sqft') & (pd.isna(df.sqft) != True)]\n",
    "\n",
    "# Выделяем числовые значения\n",
    "for i in sub_df.index:\n",
    "    if len(pattern.findall(sub_df.sqft.loc[i])) != 0:\n",
    "        sub_df['sqft'].loc[i] = pattern.findall(sub_df.sqft.loc[i])[0]\n",
    "    else:\n",
    "        sub_df.drop(i, axis = 0, inplace = True)\n",
    "\n",
    "# Убираем запятые\n",
    "sub_df['sqft'] = sub_df['sqft'].apply(lambda x: x.replace(',', ''))\n",
    "\n",
    "# Переводим в числовой формат\n",
    "sub_df['sqft'] = sub_df['sqft'].apply(lambda x: int(x))\n",
    "\n",
    "# Считаем среднее в столбце\n",
    "round(sub_df['sqft'].median())\n"
   ]
  },
  {
   "cell_type": "markdown",
   "metadata": {},
   "source": [
    "### Теперь в исходном датафрейме df заменим пропуски и значения '0', '--' и '-- sqft' на значение '1847'.\n",
    "\n"
   ]
  },
  {
   "cell_type": "code",
   "execution_count": 185,
   "metadata": {},
   "outputs": [],
   "source": [
    "#\n",
    "df['sqft'] = df['sqft'].apply(lambda x: '1847' if (x == '0') | (x == '--') | (x == '-- sqft') | (pd.isna(x) == True) else x)\n",
    "\n"
   ]
  },
  {
   "cell_type": "markdown",
   "metadata": {},
   "source": [
    "### Снова проделаем те же операции со столбцом, что и в датафрейме sub_df для того, чтобы получить числовой формат с размерностью m^2.\n",
    "\n"
   ]
  },
  {
   "cell_type": "code",
   "execution_count": 186,
   "metadata": {},
   "outputs": [],
   "source": [
    "pattern = re.compile('\\d+[,]?\\d+')\n",
    "\n",
    "# Выделяем числовые значения\n",
    "df['sqft'] = df['sqft'].apply(lambda x: '1847' if len(pattern.findall(x)) == 0 else pattern.findall(x)[0])\n",
    "\n",
    "# Убираем запятые\n",
    "df['sqft'] = df['sqft'].apply(lambda x: x.replace(',', ''))\n",
    "\n",
    "# Переводим в числовой формат\n",
    "df['sqft'] = df['sqft'].apply(lambda x: int(x))\n",
    "\n",
    "# Приводим всё к размерности [кв.м.]\n",
    "df['sqm'] = df['sqft'].apply(lambda x: round(x/10.764))\n"
   ]
  },
  {
   "cell_type": "markdown",
   "metadata": {},
   "source": [
    "### Удалим столбец sqft, так как он больше не нужен.\n",
    "\n"
   ]
  },
  {
   "cell_type": "code",
   "execution_count": 187,
   "metadata": {},
   "outputs": [],
   "source": [
    "df.drop('sqft', axis = 1, inplace = True)\n"
   ]
  },
  {
   "cell_type": "code",
   "execution_count": 188,
   "metadata": {},
   "outputs": [
    {
     "data": {
      "text/plain": [
       "<AxesSubplot: >"
      ]
     },
     "execution_count": 188,
     "metadata": {},
     "output_type": "execute_result"
    },
    {
     "data": {
      "image/png": "[encoded data removed]",
      "text/plain": [
       "<Figure size 1200x700 with 1 Axes>"
      ]
     },
     "metadata": {},
     "output_type": "display_data"
    }
   ],
   "source": [
    "# Посмотрим на гистограмму распределения признака:\n",
    "plt.figure(figsize = (12,7))\n",
    "df.sqm.hist()\n",
    "\n"
   ]
  },
  {
   "cell_type": "markdown",
   "metadata": {},
   "source": [
    "### Отфильтруем выбросы. Для этого воспользуемся функцией outliers_iqr.\n",
    "\n"
   ]
  },
  {
   "cell_type": "code",
   "execution_count": 189,
   "metadata": {},
   "outputs": [
    {
     "data": {
      "text/plain": [
       "131648        5\n",
       "134617        5\n",
       "92768       351\n",
       "153480      351\n",
       "14464       351\n",
       "          ...  \n",
       "12414     54632\n",
       "152281    62993\n",
       "22405     72843\n",
       "60619     73774\n",
       "99824     80977\n",
       "Name: sqm, Length: 10284, dtype: int64"
      ]
     },
     "execution_count": 189,
     "metadata": {},
     "output_type": "execute_result"
    }
   ],
   "source": [
    "df.sqm.loc[outliers_iqr(df.sqm)].sort_values()\n"
   ]
  },
  {
   "cell_type": "markdown",
   "metadata": {},
   "source": [
    "### Выявлено 11582 выброса. Удалим их.\n",
    "\n"
   ]
  },
  {
   "cell_type": "code",
   "execution_count": 190,
   "metadata": {},
   "outputs": [],
   "source": [
    "df.drop(outliers_iqr(df.sqm), inplace = True)\n",
    "df.reset_index(inplace = True, drop = True)\n"
   ]
  },
  {
   "cell_type": "code",
   "execution_count": 191,
   "metadata": {},
   "outputs": [
    {
     "data": {
      "text/plain": [
       "<AxesSubplot: >"
      ]
     },
     "execution_count": 191,
     "metadata": {},
     "output_type": "execute_result"
    },
    {
     "data": {
      "image/png": "[encoded data removed]",
      "text/plain": [
       "<Figure size 1200x700 with 1 Axes>"
      ]
     },
     "metadata": {},
     "output_type": "display_data"
    }
   ],
   "source": [
    "## Посмотрим на гистограмму распределения:\n",
    "\n",
    "plt.figure(figsize = (12,7))\n",
    "df.sqm.hist(bins=20)\n"
   ]
  },
  {
   "cell_type": "code",
   "execution_count": 192,
   "metadata": {},
   "outputs": [],
   "source": [
    "num_cols.append('sqm')\n"
   ]
  },
  {
   "cell_type": "markdown",
   "metadata": {},
   "source": [
    "### 10. zipcode\n"
   ]
  },
  {
   "cell_type": "code",
   "execution_count": 193,
   "metadata": {},
   "outputs": [
    {
     "data": {
      "text/plain": [
       "0"
      ]
     },
     "execution_count": 193,
     "metadata": {},
     "output_type": "execute_result"
    }
   ],
   "source": [
    "## почтовый индекс; тип данных - object.\n",
    "df.zipcode.nunique()\n",
    "df.zipcode.isna().sum()\n"
   ]
  },
  {
   "cell_type": "markdown",
   "metadata": {},
   "source": [
    "## Данный признак не несёт никакой смысловой нагрузки, поэтому удалим его.\n",
    "\n"
   ]
  },
  {
   "cell_type": "code",
   "execution_count": 194,
   "metadata": {},
   "outputs": [],
   "source": [
    "df.drop('zipcode', axis = 1, inplace = True)\n"
   ]
  },
  {
   "cell_type": "markdown",
   "metadata": {},
   "source": [
    "### 11. beds\n"
   ]
  },
  {
   "cell_type": "code",
   "execution_count": 195,
   "metadata": {},
   "outputs": [
    {
     "data": {
      "text/plain": [
       "3 Beds     34438\n",
       "4 Beds     21390\n",
       "3          17206\n",
       "2 Beds     12986\n",
       "4          10182\n",
       "3 bd        8538\n",
       "2           6484\n",
       "4 bd        5163\n",
       "5 Beds      4291\n",
       "2 bd        3120\n",
       "Baths       3083\n",
       "3.0         2550\n",
       "5           1978\n",
       "4.0         1617\n",
       "1           1359\n",
       "5 bd        1078\n",
       "6 Beds      1014\n",
       "1 bd         531\n",
       "-- bd        439\n",
       "Bath         412\n",
       "2.0          383\n",
       "0            364\n",
       "6            298\n",
       "             257\n",
       "7 Beds       244\n",
       "8 Beds       223\n",
       "5.0          206\n",
       "6 bd         159\n",
       "9 Beds        83\n",
       "6.0           62\n",
       "7             49\n",
       "8             43\n",
       "10 Beds       32\n",
       "7 bd          30\n",
       "64 Beds       24\n",
       "8 bd          23\n",
       "0.0           23\n",
       "12 Beds       17\n",
       "1.0           15\n",
       "11 Beds       15\n",
       "9              7\n",
       "9 bd           6\n",
       "8.0            6\n",
       "7.0            4\n",
       "12             4\n",
       "10             3\n",
       "11             2\n",
       "18 Beds        2\n",
       "11 bd          2\n",
       "16 Beds        2\n",
       "Name: beds, dtype: int64"
      ]
     },
     "execution_count": 195,
     "metadata": {},
     "output_type": "execute_result"
    }
   ],
   "source": [
    "# количество спальных комнат; тип данных - object.\n",
    "df.beds.nunique()\n",
    "df.beds.isna().sum()\n",
    "df.beds.value_counts()[:50]\n"
   ]
  },
  {
   "cell_type": "markdown",
   "metadata": {},
   "source": [
    "## Данный признак является слишком грязным, к тому же здесь очень много пропусков. Принимаем решение не использовать его и удалить.\n",
    "\n"
   ]
  },
  {
   "cell_type": "code",
   "execution_count": 196,
   "metadata": {},
   "outputs": [],
   "source": [
    "df.drop('beds', axis = 1, inplace = True)\n"
   ]
  },
  {
   "cell_type": "markdown",
   "metadata": {},
   "source": [
    "### 12. state\n"
   ]
  },
  {
   "cell_type": "code",
   "execution_count": 197,
   "metadata": {},
   "outputs": [
    {
     "data": {
      "text/plain": [
       "0"
      ]
     },
     "execution_count": 197,
     "metadata": {},
     "output_type": "execute_result"
    }
   ],
   "source": [
    "## штат; тип данных - object.\n",
    "df.state.nunique()\n",
    "df.state.isna().sum()\n"
   ]
  },
  {
   "cell_type": "markdown",
   "metadata": {},
   "source": [
    "## В столбце 37 уникальных значений и 0 пропусков.\n",
    "\n"
   ]
  },
  {
   "cell_type": "code",
   "execution_count": 198,
   "metadata": {},
   "outputs": [
    {
     "data": {
      "text/plain": [
       "FL    52158\n",
       "TX    47340\n",
       "NC     9536\n",
       "NY     9243\n",
       "TN     8472\n",
       "CA     7728\n",
       "NV     6181\n",
       "OH     5156\n",
       "WA     5050\n",
       "IL     4818\n",
       "Name: state, dtype: int64"
      ]
     },
     "execution_count": 198,
     "metadata": {},
     "output_type": "execute_result"
    }
   ],
   "source": [
    "df.state.value_counts()[:10]\n"
   ]
  },
  {
   "cell_type": "code",
   "execution_count": 199,
   "metadata": {},
   "outputs": [
    {
     "data": {
      "text/plain": [
       "7341"
      ]
     },
     "execution_count": 199,
     "metadata": {},
     "output_type": "execute_result"
    }
   ],
   "source": [
    "states_with_freqs = list(df.state.value_counts())\n",
    "top_states_count = int(np.percentile(states_with_freqs, 85))\n",
    "top_states_count\n"
   ]
  },
  {
   "cell_type": "markdown",
   "metadata": {},
   "source": [
    "### Выделим 6 самых популярных штатов, которые описывают 85% случаев. Остальные штаты представим значением other.\n",
    "\n"
   ]
  },
  {
   "cell_type": "code",
   "execution_count": 200,
   "metadata": {},
   "outputs": [
    {
     "data": {
      "text/plain": [
       "Index(['FL', 'TX', 'NC', 'NY', 'TN', 'CA'], dtype='object')"
      ]
     },
     "execution_count": 200,
     "metadata": {},
     "output_type": "execute_result"
    }
   ],
   "source": [
    "df.state.value_counts().index[:6]\n"
   ]
  },
  {
   "cell_type": "code",
   "execution_count": 201,
   "metadata": {},
   "outputs": [],
   "source": [
    "all_states = set(df['state'].value_counts().index)\n",
    "main_states = set(df['state'].value_counts().index[:6])\n",
    "states_to_drop = list(all_states - main_states)\n",
    "df.loc[df['state'].isin(states_to_drop), 'state'] = 'other'\n"
   ]
  },
  {
   "cell_type": "code",
   "execution_count": 202,
   "metadata": {},
   "outputs": [],
   "source": [
    "cat_cols.append('state')\n"
   ]
  },
  {
   "cell_type": "markdown",
   "metadata": {},
   "source": [
    "### 13. stories\n"
   ]
  },
  {
   "cell_type": "code",
   "execution_count": 203,
   "metadata": {},
   "outputs": [
    {
     "data": {
      "text/plain": [
       "1.0                      41216\n",
       "2.0                      34216\n",
       "1                         9430\n",
       "2                         6861\n",
       "3.0                       6455\n",
       "0.0                       3736\n",
       "0                         2256\n",
       "3                         1421\n",
       "One                       1309\n",
       "9.0                       1184\n",
       "4.0                       1145\n",
       "2.00                       677\n",
       "Two                        391\n",
       "1.50                       336\n",
       "4                          263\n",
       "9                          244\n",
       "1.00                       221\n",
       "5.0                        220\n",
       "1 Story                    218\n",
       "One Story                  187\n",
       "2 Story                    169\n",
       "8.0                        128\n",
       "6.0                        123\n",
       "Ranch/1 Story               96\n",
       "7.0                         80\n",
       "1 Level, Site Built         80\n",
       "Two Story or More           68\n",
       "6                           57\n",
       "1 Level                     56\n",
       "Three Or More               54\n",
       "Lot                         51\n",
       "5                           47\n",
       "2 Level, Site Built         46\n",
       "3+                          41\n",
       "Traditional                 39\n",
       "2.50                        39\n",
       "3.00                        36\n",
       "8                           35\n",
       "Ranch                       30\n",
       "2 Level                     29\n",
       "1.5 Level, Site Built       26\n",
       "Multi-Level                 24\n",
       "7                           21\n",
       "1.5                         20\n",
       "2 Or More Stories           20\n",
       "1 Story/Ranch               15\n",
       "Tri-Level                   15\n",
       "Bi-Level                    14\n",
       "Stories/Levels              12\n",
       "Bungalow                    10\n",
       "Name: stories, dtype: int64"
      ]
     },
     "execution_count": 203,
     "metadata": {},
     "output_type": "execute_result"
    }
   ],
   "source": [
    "## количество этажей; тип данных - object.\n",
    "df.stories.nunique()\n",
    "df.stories.isna().sum()\n",
    "df.stories.value_counts()[:50]\n"
   ]
  },
  {
   "cell_type": "markdown",
   "metadata": {},
   "source": [
    "## Данный признак является слишком грязным, к тому же здесь очень много пропусков. Принимаем решение не использовать его и удалить.\n",
    "\n"
   ]
  },
  {
   "cell_type": "code",
   "execution_count": 204,
   "metadata": {},
   "outputs": [],
   "source": [
    "df.drop('stories', axis = 1, inplace = True)\n"
   ]
  },
  {
   "cell_type": "markdown",
   "metadata": {},
   "source": [
    "#### 14. mls-id\n"
   ]
  },
  {
   "cell_type": "code",
   "execution_count": 205,
   "metadata": {},
   "outputs": [
    {
     "data": {
      "text/plain": [
       "160424"
      ]
     },
     "execution_count": 205,
     "metadata": {},
     "output_type": "execute_result"
    }
   ],
   "source": [
    "# уникальный идентификатор продажи; тип данных - object.\n",
    "\n",
    "df['mls-id'].nunique()\n",
    "df['mls-id'].isna().sum()\n"
   ]
  },
  {
   "cell_type": "markdown",
   "metadata": {},
   "source": [
    "## Большинство значений данного столбца пропущены, поэтому удалим его.\n",
    "\n"
   ]
  },
  {
   "cell_type": "code",
   "execution_count": 206,
   "metadata": {},
   "outputs": [],
   "source": [
    "df.drop('mls-id', axis = 1, inplace = True)\n"
   ]
  },
  {
   "cell_type": "markdown",
   "metadata": {},
   "source": [
    "## 15. PrivatePool\n"
   ]
  },
  {
   "cell_type": "code",
   "execution_count": 207,
   "metadata": {},
   "outputs": [
    {
     "data": {
      "text/plain": [
       "yes    12673\n",
       "Yes     4777\n",
       "Name: PrivatePool, dtype: int64"
      ]
     },
     "execution_count": 207,
     "metadata": {},
     "output_type": "execute_result"
    }
   ],
   "source": [
    "# наличие бассейна; тип данных - object.\n",
    "df.PrivatePool.nunique()\n",
    "df.PrivatePool.isna().sum()\n",
    "df.PrivatePool.value_counts()\n"
   ]
  },
  {
   "cell_type": "markdown",
   "metadata": {},
   "source": [
    "### Данный столбец дублирует столбец private pool. Удалим его.\n",
    "\n"
   ]
  },
  {
   "cell_type": "code",
   "execution_count": 208,
   "metadata": {},
   "outputs": [],
   "source": [
    "df.drop('PrivatePool', axis = 1, inplace = True)\n"
   ]
  },
  {
   "cell_type": "markdown",
   "metadata": {},
   "source": [
    "### 16. MlsId\n"
   ]
  },
  {
   "cell_type": "code",
   "execution_count": 209,
   "metadata": {},
   "outputs": [
    {
     "data": {
      "text/plain": [
       "NO MLS                      19\n",
       " A, Houston, TX 77008       13\n",
       "No MLS #                    12\n",
       " B, Houston, TX 77008        9\n",
       " B, Houston, TX 77007        8\n",
       "No                           7\n",
       " A, Austin, TX 78721         6\n",
       " A, Houston, TX 77018        5\n",
       "1412350                      5\n",
       "1520876                      4\n",
       " B, Austin, TX 78751         4\n",
       "U8054073                     4\n",
       "3555874                      4\n",
       " B, Austin, TX 78721         4\n",
       "DCDC437828                   4\n",
       "30656755                     4\n",
       " A, Austin, TX 78704         4\n",
       "3565174                      4\n",
       "3571699                      4\n",
       " B, Houston, TX 77054        4\n",
       "3535121                      4\n",
       "DCDC435032                   4\n",
       " A, Austin, TX 78745         4\n",
       " C, Houston, TX 77007        4\n",
       "DCDC447282                   4\n",
       " 101, Dallas, TX 75204       4\n",
       "10061790                     4\n",
       "1027692                      4\n",
       "682831                       4\n",
       " 1, Washington, DC 20010     4\n",
       " A, Austin, TX 78723         4\n",
       " B, Houston, TX 77057        4\n",
       "F10178780                    4\n",
       "21679600                     4\n",
       "1023960                      4\n",
       " A, Houston, TX 77007        4\n",
       "No mls                       4\n",
       "10066542                     4\n",
       "A10772837                    4\n",
       " A, Houston, TX 77057        4\n",
       "No MLS                       4\n",
       "1019437                      4\n",
       "F10202149                    3\n",
       "191407                       3\n",
       "14217735                     3\n",
       "1542124                      3\n",
       "219114861                    3\n",
       "U8051447                     3\n",
       "U8063169                     3\n",
       "1015093                      3\n",
       "Name: MlsId, dtype: int64"
      ]
     },
     "execution_count": 209,
     "metadata": {},
     "output_type": "execute_result"
    }
   ],
   "source": [
    "### 16. MlsId\n",
    "df.MlsId.nunique()\n",
    "df.MlsId.isna().sum()\n",
    "df.MlsId.value_counts()[:50]\n"
   ]
  },
  {
   "cell_type": "markdown",
   "metadata": {},
   "source": [
    "### В датасете необходимо удалить дубликаты. Это удобно сделать по столбцу MlsId. В данном столбце 122638 уникальных значений и 42046 пропусков. Отфильтруем их, а потом удалим дубликаты.\n",
    "\n"
   ]
  },
  {
   "cell_type": "code",
   "execution_count": 210,
   "metadata": {},
   "outputs": [],
   "source": [
    "df1 = df[df.MlsId.isnull() == False]\n",
    "df2 = df[df.MlsId.isnull() == True]\n",
    "\n",
    "df1.drop_duplicates(subset = 'MlsId', inplace = True)\n"
   ]
  },
  {
   "cell_type": "code",
   "execution_count": 211,
   "metadata": {},
   "outputs": [],
   "source": [
    "df = pd.concat([df1, df2], axis = 0)\n",
    "df.reset_index(inplace = True, drop = True)\n"
   ]
  },
  {
   "cell_type": "code",
   "execution_count": 212,
   "metadata": {},
   "outputs": [
    {
     "data": {
      "text/plain": [
       "(156293, 18)"
      ]
     },
     "execution_count": 212,
     "metadata": {},
     "output_type": "execute_result"
    }
   ],
   "source": [
    "df.shape\n"
   ]
  },
  {
   "cell_type": "markdown",
   "metadata": {},
   "source": [
    "### В результате очистки датасета от дубликатов осталось 164684 строки. Удалим столбец MlsId, так как он больше не нужен.\n",
    "\n"
   ]
  },
  {
   "cell_type": "code",
   "execution_count": 213,
   "metadata": {},
   "outputs": [],
   "source": [
    "df.drop('MlsId', axis = 1, inplace = True)\n"
   ]
  },
  {
   "cell_type": "markdown",
   "metadata": {},
   "source": [
    "#### 17. target\n"
   ]
  },
  {
   "cell_type": "code",
   "execution_count": 214,
   "metadata": {},
   "outputs": [
    {
     "data": {
      "text/plain": [
       "$225,000    752\n",
       "$275,000    693\n",
       "$250,000    689\n",
       "$249,900    665\n",
       "$299,900    662\n",
       "$199,900    642\n",
       "$350,000    613\n",
       "$325,000    612\n",
       "$175,000    573\n",
       "$375,000    544\n",
       "$235,000    541\n",
       "$399,000    533\n",
       "$215,000    528\n",
       "$299,000    525\n",
       "$265,000    517\n",
       "$185,000    512\n",
       "$239,900    511\n",
       "$165,000    510\n",
       "$150,000    504\n",
       "$425,000    499\n",
       "$285,000    497\n",
       "$179,900    487\n",
       "$450,000    486\n",
       "$149,900    484\n",
       "$189,900    484\n",
       "$399,900    480\n",
       "$349,900    473\n",
       "$169,900    463\n",
       "$269,900    453\n",
       "$315,000    452\n",
       "$220,000    444\n",
       "$159,900    440\n",
       "$499,000    439\n",
       "$125,000    437\n",
       "$295,000    435\n",
       "$259,900    434\n",
       "$210,000    428\n",
       "$245,000    424\n",
       "$195,000    404\n",
       "$229,900    404\n",
       "$300,000    403\n",
       "$200,000    401\n",
       "$279,900    401\n",
       "$289,900    399\n",
       "$199,000    399\n",
       "$139,900    398\n",
       "$219,900    395\n",
       "$145,000    391\n",
       "$135,000    377\n",
       "$230,000    365\n",
       "Name: target, dtype: int64"
      ]
     },
     "execution_count": 214,
     "metadata": {},
     "output_type": "execute_result"
    }
   ],
   "source": [
    "df.target.nunique()\n",
    "df.target.nunique()\n",
    "df.target.value_counts()[:50]\n"
   ]
  },
  {
   "cell_type": "markdown",
   "metadata": {},
   "source": [
    "### Столбец имеет 25612 уникальных значений и 1138 пропусков. Преобразуем столбец в числовой тип данных и заполним пропуски медианой. Сначала отфильтруем пропуски, затем преобразуем столбец в числовой формат и посчитаем среднее арифметическое.\n",
    "\n"
   ]
  },
  {
   "cell_type": "code",
   "execution_count": 215,
   "metadata": {},
   "outputs": [
    {
     "data": {
      "text/plain": [
       "255600"
      ]
     },
     "execution_count": 215,
     "metadata": {},
     "output_type": "execute_result"
    }
   ],
   "source": [
    "pattern = re.compile('\\d+[,]?\\d+')\n",
    "\n",
    "# Фильтруем пропуски\n",
    "sub_df = df[pd.isna(df.target) != True]\n",
    "\n",
    "# Выделяем числовые значения\n",
    "for i in sub_df.index:\n",
    "    if len(pattern.findall(sub_df.target.loc[i])) != 0:\n",
    "        sub_df['target'].loc[i] = pattern.findall(sub_df.target.loc[i])[0]\n",
    "    else:\n",
    "        sub_df.drop(i, axis = 0, inplace = True)\n",
    "\n",
    "# Убираем запятые\n",
    "sub_df['target'] = sub_df['target'].apply(lambda x: x.replace(',', ''))\n",
    "\n",
    "# Переводим в числовой формат\n",
    "sub_df['target'] = sub_df['target'].apply(lambda x: int(x))\n",
    "\n",
    "# Считаем среднее в столбце\n",
    "round(sub_df['target'].median())\n"
   ]
  },
  {
   "cell_type": "markdown",
   "metadata": {},
   "source": [
    "### Теперь в исходном датафрейме df заполним пропуски значением '255000'.\n",
    "\n"
   ]
  },
  {
   "cell_type": "code",
   "execution_count": 216,
   "metadata": {},
   "outputs": [],
   "source": [
    "df['target'] = df['target'].fillna('255000')\n"
   ]
  },
  {
   "cell_type": "markdown",
   "metadata": {},
   "source": [
    "### Снова проделаем те же операции со столбцом, что и в датафрейме sub_df для того, чтобы получить числовой формат.\n",
    "\n"
   ]
  },
  {
   "cell_type": "code",
   "execution_count": 217,
   "metadata": {},
   "outputs": [],
   "source": [
    "pattern = re.compile('\\d+[,]?\\d+')\n",
    "\n",
    "# Выделяем цифровые показатели\n",
    "df['target'] = df['target'].apply(lambda x: '255000' if len(pattern.findall(x)) == 0 else pattern.findall(x)[0])\n",
    "\n",
    "# Убираем запятые\n",
    "df['target'] = df['target'].apply(lambda x: x.replace(',', ''))\n",
    "\n",
    "# Переводим в числовой формат\n",
    "df['target'] = df['target'].apply(lambda x: int(x))\n"
   ]
  },
  {
   "cell_type": "markdown",
   "metadata": {},
   "source": [
    "### Посмотрим на гистограмму распределения признака:\n",
    "\n"
   ]
  },
  {
   "cell_type": "code",
   "execution_count": 218,
   "metadata": {},
   "outputs": [
    {
     "data": {
      "text/plain": [
       "<AxesSubplot: >"
      ]
     },
     "execution_count": 218,
     "metadata": {},
     "output_type": "execute_result"
    },
    {
     "data": {
      "image/png": "[encoded data removed]",
      "text/plain": [
       "<Figure size 1200x700 with 1 Axes>"
      ]
     },
     "metadata": {},
     "output_type": "display_data"
    }
   ],
   "source": [
    "# Посмотрим на гистограмму распределения признака:\n",
    "\n",
    "plt.figure(figsize = (12,7))\n",
    "df.target.hist()\n"
   ]
  },
  {
   "cell_type": "markdown",
   "metadata": {},
   "source": [
    "### Отфильтруем выбросы. Для этого воспользуемся функцией outliers_iqr.\n",
    "\n"
   ]
  },
  {
   "cell_type": "code",
   "execution_count": 219,
   "metadata": {},
   "outputs": [
    {
     "data": {
      "text/plain": [
       "110317    747831\n",
       "151093    747990\n",
       "118361    748000\n",
       "34116     748000\n",
       "52606     748000\n",
       "           ...  \n",
       "81472     999999\n",
       "75085     999999\n",
       "13452     999999\n",
       "52719     999999\n",
       "53239     999999\n",
       "Name: target, Length: 6079, dtype: int64"
      ]
     },
     "execution_count": 219,
     "metadata": {},
     "output_type": "execute_result"
    }
   ],
   "source": [
    "df.target.loc[outliers_iqr(df.target)].sort_values()\n"
   ]
  },
  {
   "cell_type": "markdown",
   "metadata": {},
   "source": [
    "### Выявлено 6183 выброса. Удалим их.\n",
    "\n"
   ]
  },
  {
   "cell_type": "code",
   "execution_count": 220,
   "metadata": {},
   "outputs": [],
   "source": [
    "df = df.drop(outliers_iqr(df.target))\n",
    "df.reset_index(inplace = True, drop = True)\n"
   ]
  },
  {
   "cell_type": "markdown",
   "metadata": {},
   "source": [
    "### Посмотрим на гистограмму распределения:\n",
    "\n"
   ]
  },
  {
   "cell_type": "code",
   "execution_count": 221,
   "metadata": {},
   "outputs": [
    {
     "data": {
      "text/plain": [
       "<AxesSubplot: >"
      ]
     },
     "execution_count": 221,
     "metadata": {},
     "output_type": "execute_result"
    },
    {
     "data": {
      "image/png": "[encoded data removed]",
      "text/plain": [
       "<Figure size 1200x700 with 1 Axes>"
      ]
     },
     "metadata": {},
     "output_type": "display_data"
    }
   ],
   "source": [
    "plt.figure(figsize = (12,7))\n",
    "df.target.hist()\n"
   ]
  },
  {
   "cell_type": "code",
   "execution_count": 222,
   "metadata": {},
   "outputs": [
    {
     "data": {
      "text/plain": [
       "(150214, 17)"
      ]
     },
     "execution_count": 222,
     "metadata": {},
     "output_type": "execute_result"
    }
   ],
   "source": [
    "num_cols.append('target')\n",
    "df.shape\n"
   ]
  },
  {
   "cell_type": "markdown",
   "metadata": {},
   "source": [
    "## Feature engineering\n"
   ]
  },
  {
   "cell_type": "markdown",
   "metadata": {},
   "source": [
    "### Создадим полиномиальные признаки на основе столбцов sqm и price/sqm.\n",
    "\n"
   ]
  },
  {
   "cell_type": "code",
   "execution_count": 223,
   "metadata": {},
   "outputs": [],
   "source": [
    "pf = PolynomialFeatures(2)\n",
    "\n",
    "poly_features = pf.fit_transform(df[['sqm', 'price/sqm']])\n",
    "new_df = pd.DataFrame(poly_features, columns = ['1', 'sqm', 'price/sqm', 'sqm^2', 'sqm_price/sqm', 'price/sqm^2'])\n",
    "new_df.drop(['1', 'sqm', 'price/sqm'], axis = 1, inplace = True)\n",
    "df = pd.concat([df, new_df], axis = 1)\n"
   ]
  },
  {
   "cell_type": "markdown",
   "metadata": {},
   "source": [
    "### Таким образом мы получили ещё три числовых признака sqm^2, sqm_price/sqm и price/sqm^2.\n",
    "\n"
   ]
  },
  {
   "cell_type": "markdown",
   "metadata": {},
   "source": [
    "#### В результате EDA получен датасет с размерностью (152897, 20). При этом размерность исходного датасета (377185, 18). Получено 8 числовых признаков (пропуски в них заменены на медиану, выбросы найдены методом IQR и удалены), 7 категориальных признаков (в них сокращено количество уникальных значений) и 2 бинарных признака. В результате feature engineering было получено ещё 3 числовых признака."
   ]
  },
  {
   "cell_type": "markdown",
   "metadata": {},
   "source": [
    "### Моделирование. Машинное обучение."
   ]
  },
  {
   "cell_type": "code",
   "execution_count": 224,
   "metadata": {},
   "outputs": [
    {
     "name": "stdout",
     "output_type": "stream",
     "text": [
      "<class 'pandas.core.frame.DataFrame'>\n",
      "RangeIndex: 150214 entries, 0 to 150213\n",
      "Data columns (total 20 columns):\n",
      " #   Column                      Non-Null Count   Dtype  \n",
      "---  ------                      --------------   -----  \n",
      " 0   propertyType                150214 non-null  object \n",
      " 1   fireplace                   150214 non-null  object \n",
      " 2   city                        150214 non-null  object \n",
      " 3   state                       150214 non-null  object \n",
      " 4   target                      150214 non-null  int64  \n",
      " 5   sale_status                 150214 non-null  object \n",
      " 6   full_baths                  150214 non-null  object \n",
      " 7   year_built                  150214 non-null  float64\n",
      " 8   remodeling                  150214 non-null  object \n",
      " 9   heating                     150214 non-null  object \n",
      " 10  parking                     150214 non-null  object \n",
      " 11  lotsize                     150214 non-null  int64  \n",
      " 12  price/sqm                   150214 non-null  int64  \n",
      " 13  average_school_rating       150214 non-null  float64\n",
      " 14  number_of_schools           150214 non-null  int64  \n",
      " 15  average_distance_to_school  150214 non-null  float64\n",
      " 16  sqm                         150214 non-null  int64  \n",
      " 17  sqm^2                       150214 non-null  float64\n",
      " 18  sqm_price/sqm               150214 non-null  float64\n",
      " 19  price/sqm^2                 150214 non-null  float64\n",
      "dtypes: float64(6), int64(5), object(9)\n",
      "memory usage: 22.9+ MB\n"
     ]
    },
    {
     "data": {
      "text/plain": [
       "None"
      ]
     },
     "metadata": {},
     "output_type": "display_data"
    },
    {
     "data": {
      "text/plain": [
       "Index(['propertyType', 'fireplace', 'city', 'state', 'sale_status',\n",
       "       'full_baths', 'remodeling', 'heating', 'parking'],\n",
       "      dtype='object')"
      ]
     },
     "metadata": {},
     "output_type": "display_data"
    },
    {
     "name": "stdout",
     "output_type": "stream",
     "text": [
      "<class 'pandas.core.frame.DataFrame'>\n",
      "RangeIndex: 150214 entries, 0 to 150213\n",
      "Data columns (total 63 columns):\n",
      " #   Column                        Non-Null Count   Dtype  \n",
      "---  ------                        --------------   -----  \n",
      " 0   target                        150214 non-null  int64  \n",
      " 1   year_built                    150214 non-null  float64\n",
      " 2   lotsize                       150214 non-null  int64  \n",
      " 3   price/sqm                     150214 non-null  int64  \n",
      " 4   average_school_rating         150214 non-null  float64\n",
      " 5   number_of_schools             150214 non-null  int64  \n",
      " 6   average_distance_to_school    150214 non-null  float64\n",
      " 7   sqm                           150214 non-null  int64  \n",
      " 8   sqm^2                         150214 non-null  float64\n",
      " 9   sqm_price/sqm                 150214 non-null  float64\n",
      " 10  price/sqm^2                   150214 non-null  float64\n",
      " 11  propertyType_condo            150214 non-null  uint8  \n",
      " 12  propertyType_land             150214 non-null  uint8  \n",
      " 13  propertyType_multi-family     150214 non-null  uint8  \n",
      " 14  propertyType_no info          150214 non-null  uint8  \n",
      " 15  propertyType_single-family    150214 non-null  uint8  \n",
      " 16  propertyType_townhouse        150214 non-null  uint8  \n",
      " 17  fireplace_no                  150214 non-null  uint8  \n",
      " 18  fireplace_yes                 150214 non-null  uint8  \n",
      " 19  city_Chicago                  150214 non-null  uint8  \n",
      " 20  city_Dallas                   150214 non-null  uint8  \n",
      " 21  city_Houston                  150214 non-null  uint8  \n",
      " 22  city_Jacksonville             150214 non-null  uint8  \n",
      " 23  city_Las Vegas                150214 non-null  uint8  \n",
      " 24  city_Miami                    150214 non-null  uint8  \n",
      " 25  city_New York                 150214 non-null  uint8  \n",
      " 26  city_Orlando                  150214 non-null  uint8  \n",
      " 27  city_San Antonio              150214 non-null  uint8  \n",
      " 28  city_other                    150214 non-null  uint8  \n",
      " 29  state_CA                      150214 non-null  uint8  \n",
      " 30  state_FL                      150214 non-null  uint8  \n",
      " 31  state_NC                      150214 non-null  uint8  \n",
      " 32  state_NY                      150214 non-null  uint8  \n",
      " 33  state_TN                      150214 non-null  uint8  \n",
      " 34  state_TX                      150214 non-null  uint8  \n",
      " 35  state_other                   150214 non-null  uint8  \n",
      " 36  sale_status_active            150214 non-null  uint8  \n",
      " 37  sale_status_for sale          150214 non-null  uint8  \n",
      " 38  sale_status_foreclosure       150214 non-null  uint8  \n",
      " 39  sale_status_new construction  150214 non-null  uint8  \n",
      " 40  sale_status_no info           150214 non-null  uint8  \n",
      " 41  sale_status_pending           150214 non-null  uint8  \n",
      " 42  sale_status_pre-foreclosure   150214 non-null  uint8  \n",
      " 43  full_baths_1                  150214 non-null  uint8  \n",
      " 44  full_baths_2                  150214 non-null  uint8  \n",
      " 45  full_baths_more_than_2        150214 non-null  uint8  \n",
      " 46  full_baths_no                 150214 non-null  uint8  \n",
      " 47  full_baths_no_info            150214 non-null  uint8  \n",
      " 48  remodeling_no                 150214 non-null  uint8  \n",
      " 49  remodeling_yes                150214 non-null  uint8  \n",
      " 50  heating_electric              150214 non-null  uint8  \n",
      " 51  heating_forced air            150214 non-null  uint8  \n",
      " 52  heating_gas                   150214 non-null  uint8  \n",
      " 53  heating_heat pump             150214 non-null  uint8  \n",
      " 54  heating_no info               150214 non-null  uint8  \n",
      " 55  heating_other                 150214 non-null  uint8  \n",
      " 56  parking_1 space               150214 non-null  uint8  \n",
      " 57  parking_2 spaces              150214 non-null  uint8  \n",
      " 58  parking_attached garage       150214 non-null  uint8  \n",
      " 59  parking_detached garage       150214 non-null  uint8  \n",
      " 60  parking_more_than_2_spaces    150214 non-null  uint8  \n",
      " 61  parking_no_info               150214 non-null  uint8  \n",
      " 62  parking_other                 150214 non-null  uint8  \n",
      "dtypes: float64(6), int64(5), uint8(52)\n",
      "memory usage: 20.1 MB\n"
     ]
    },
    {
     "data": {
      "text/plain": [
       "None"
      ]
     },
     "metadata": {},
     "output_type": "display_data"
    }
   ],
   "source": [
    "display(df.info())\n",
    "\n",
    "columns = df.drop(['target','year_built','lotsize','price/sqm', 'average_school_rating', 'number_of_schools', \n",
    "                   'average_distance_to_school', 'sqm', 'sqm^2', 'sqm_price/sqm', 'price/sqm^2'], axis=1).columns\n",
    "display(columns)\n",
    "\n",
    "\n",
    "df_dum = pd.get_dummies(df, columns=columns)\n",
    "# Новые бинарные признаки также часто называются dummy-признаками или dummy-переменными.  \n",
    "df_dum.shape\n",
    "\n",
    "display(df_dum.info())\n"
   ]
  },
  {
   "cell_type": "code",
   "execution_count": 225,
   "metadata": {},
   "outputs": [
    {
     "name": "stdout",
     "output_type": "stream",
     "text": [
      "<class 'pandas.core.frame.DataFrame'>\n",
      "RangeIndex: 150214 entries, 0 to 150213\n",
      "Data columns (total 63 columns):\n",
      " #   Column                        Non-Null Count   Dtype  \n",
      "---  ------                        --------------   -----  \n",
      " 0   target                        150214 non-null  int64  \n",
      " 1   year_built                    150214 non-null  float64\n",
      " 2   lotsize                       150214 non-null  int64  \n",
      " 3   price/sqm                     150214 non-null  int64  \n",
      " 4   average_school_rating         150214 non-null  float64\n",
      " 5   number_of_schools             150214 non-null  int64  \n",
      " 6   average_distance_to_school    150214 non-null  float64\n",
      " 7   sqm                           150214 non-null  int64  \n",
      " 8   sqm^2                         150214 non-null  float64\n",
      " 9   sqm_price/sqm                 150214 non-null  float64\n",
      " 10  price/sqm^2                   150214 non-null  float64\n",
      " 11  propertyType_condo            150214 non-null  uint8  \n",
      " 12  propertyType_land             150214 non-null  uint8  \n",
      " 13  propertyType_multi-family     150214 non-null  uint8  \n",
      " 14  propertyType_no info          150214 non-null  uint8  \n",
      " 15  propertyType_single-family    150214 non-null  uint8  \n",
      " 16  propertyType_townhouse        150214 non-null  uint8  \n",
      " 17  fireplace_no                  150214 non-null  uint8  \n",
      " 18  fireplace_yes                 150214 non-null  uint8  \n",
      " 19  city_Chicago                  150214 non-null  uint8  \n",
      " 20  city_Dallas                   150214 non-null  uint8  \n",
      " 21  city_Houston                  150214 non-null  uint8  \n",
      " 22  city_Jacksonville             150214 non-null  uint8  \n",
      " 23  city_Las Vegas                150214 non-null  uint8  \n",
      " 24  city_Miami                    150214 non-null  uint8  \n",
      " 25  city_New York                 150214 non-null  uint8  \n",
      " 26  city_Orlando                  150214 non-null  uint8  \n",
      " 27  city_San Antonio              150214 non-null  uint8  \n",
      " 28  city_other                    150214 non-null  uint8  \n",
      " 29  state_CA                      150214 non-null  uint8  \n",
      " 30  state_FL                      150214 non-null  uint8  \n",
      " 31  state_NC                      150214 non-null  uint8  \n",
      " 32  state_NY                      150214 non-null  uint8  \n",
      " 33  state_TN                      150214 non-null  uint8  \n",
      " 34  state_TX                      150214 non-null  uint8  \n",
      " 35  state_other                   150214 non-null  uint8  \n",
      " 36  sale_status_active            150214 non-null  uint8  \n",
      " 37  sale_status_for sale          150214 non-null  uint8  \n",
      " 38  sale_status_foreclosure       150214 non-null  uint8  \n",
      " 39  sale_status_new construction  150214 non-null  uint8  \n",
      " 40  sale_status_no info           150214 non-null  uint8  \n",
      " 41  sale_status_pending           150214 non-null  uint8  \n",
      " 42  sale_status_pre-foreclosure   150214 non-null  uint8  \n",
      " 43  full_baths_1                  150214 non-null  uint8  \n",
      " 44  full_baths_2                  150214 non-null  uint8  \n",
      " 45  full_baths_more_than_2        150214 non-null  uint8  \n",
      " 46  full_baths_no                 150214 non-null  uint8  \n",
      " 47  full_baths_no_info            150214 non-null  uint8  \n",
      " 48  remodeling_no                 150214 non-null  uint8  \n",
      " 49  remodeling_yes                150214 non-null  uint8  \n",
      " 50  heating_electric              150214 non-null  uint8  \n",
      " 51  heating_forced air            150214 non-null  uint8  \n",
      " 52  heating_gas                   150214 non-null  uint8  \n",
      " 53  heating_heat pump             150214 non-null  uint8  \n",
      " 54  heating_no info               150214 non-null  uint8  \n",
      " 55  heating_other                 150214 non-null  uint8  \n",
      " 56  parking_1 space               150214 non-null  uint8  \n",
      " 57  parking_2 spaces              150214 non-null  uint8  \n",
      " 58  parking_attached garage       150214 non-null  uint8  \n",
      " 59  parking_detached garage       150214 non-null  uint8  \n",
      " 60  parking_more_than_2_spaces    150214 non-null  uint8  \n",
      " 61  parking_no_info               150214 non-null  uint8  \n",
      " 62  parking_other                 150214 non-null  uint8  \n",
      "dtypes: float64(6), int64(5), uint8(52)\n",
      "memory usage: 20.1 MB\n"
     ]
    },
    {
     "data": {
      "text/plain": [
       "None"
      ]
     },
     "metadata": {},
     "output_type": "display_data"
    }
   ],
   "source": [
    "display(df_dum.info())\n",
    "\n"
   ]
  },
  {
   "cell_type": "markdown",
   "metadata": {},
   "source": [
    "### Слхраним полученный результат"
   ]
  },
  {
   "cell_type": "code",
   "execution_count": 226,
   "metadata": {},
   "outputs": [],
   "source": [
    "df_dum.to_csv('data_preproc.csv', index = False)\n",
    "\n",
    "df_dum_2 = pd.read_csv('data_preproc.csv')"
   ]
  },
  {
   "cell_type": "code",
   "execution_count": 228,
   "metadata": {},
   "outputs": [
    {
     "name": "stdout",
     "output_type": "stream",
     "text": [
      "Качество предсказания по MSE для стекинга 11395338695.93\n"
     ]
    }
   ],
   "source": [
    "#Создаем список кортежей вида: (наименование модели, модель)\n",
    "from sklearn.linear_model import LinearRegression\n",
    "# Model 1: Ranbdom Forest Rgressor\n",
    "import sklearn\n",
    "from sklearn.model_selection import GridSearchCV\n",
    "from sklearn.ensemble import RandomForestRegressor\n",
    "import time\n",
    "from sklearn.ensemble import StackingRegressor\n",
    "from sklearn.linear_model import RidgeCV\n",
    "from sklearn.model_selection import GridSearchCV\n",
    "from sklearn.tree import DecisionTreeRegressor\n",
    "\n",
    "\n",
    "# Split training data into features (x_train) and labels (Y_train)\n",
    "X = df_dum_2.drop(columns=['target'])\n",
    "# Y_train = df.SalePrice_log\n",
    "y = df_dum_2.target\n",
    "\n",
    "from sklearn.model_selection import train_test_split  \n",
    "X_train, X_test, y_train, y_test = train_test_split(X, y, test_size=0.30, random_state=13)\n",
    "\n",
    "\n",
    "estimators = [\n",
    "    ('lr', RidgeCV()),\n",
    "    ('Line_Reg', LinearRegression())\n",
    "]\n",
    "final_estimator = RandomForestRegressor(n_estimators=100,max_depth=10,  random_state=42, )\n",
    "\n",
    "# Создаем объект класса стекинг\n",
    "reg = StackingRegressor(\n",
    "    estimators=estimators, #базовые модели в стекинге\n",
    "    final_estimator=final_estimator)\n",
    "# Обучаем модель\n",
    "reg.fit(X_train, y_train)\n",
    "\n",
    "# Формируем предсказание для тестовой выборки\n",
    "y_pred_stack = reg.predict(X_test)\n",
    "\n",
    "from sklearn import metrics\n",
    "from sklearn.ensemble import RandomForestRegressor\n",
    "from sklearn.tree import DecisionTreeRegressor\n",
    "from sklearn.metrics import mean_squared_error\n",
    "from sklearn.model_selection import train_test_split\n",
    "\n",
    "# Оцениваем качество по метрике MSE\n",
    "print(f'Качество предсказания по MSE для стекинга {round(mean_squared_error(y_test, y_pred_stack), 2)}')\n",
    "\n",
    "# Будет выведено:\n"
   ]
  },
  {
   "cell_type": "code",
   "execution_count": 229,
   "metadata": {},
   "outputs": [
    {
     "name": "stdout",
     "output_type": "stream",
     "text": [
      "1571.734375 Seconds\n",
      "Random Forest Regressor\n"
     ]
    },
    {
     "data": {
      "image/png": "[encoded data removed]",
      "text/plain": [
       "<Figure size 2500x500 with 3 Axes>"
      ]
     },
     "metadata": {},
     "output_type": "display_data"
    }
   ],
   "source": []
  },
  {
   "cell_type": "code",
   "execution_count": 230,
   "metadata": {},
   "outputs": [],
   "source": [
    "\n",
    "# Создаем модель случайного леса из 10 деревьев с максимальной глубиной 10 для каждого дерева\n",
    "regr2 = RandomForestRegressor(\n",
    "    max_depth=1000, #максимальная глубина дерева\n",
    "    n_estimators=10000,#количество деревьев в ансамбле\n",
    "    max_features=10,\n",
    "    random_state=42,#датчик генератора случайных чисел\n",
    "    max_leaf_nodes=10,\n",
    ")\n",
    "# Обучаем модель\n",
    "regr2.fit(X_train, y_train)\n",
    "\n",
    "# Формируем предсказания каждой из моделей\n",
    "\n",
    "y_pred_test = regr2.predict(X_test)\n",
    "y_pred_train = regr2.predict(X_train)\n",
    "\n"
   ]
  },
  {
   "cell_type": "markdown",
   "metadata": {},
   "source": [
    "### Оценка качества модели\n"
   ]
  },
  {
   "cell_type": "code",
   "execution_count": 237,
   "metadata": {},
   "outputs": [
    {
     "name": "stdout",
     "output_type": "stream",
     "text": [
      "Качество предсказания по MSE для Test 11043178387.11\n",
      "Качество предсказания по MSE для Train 11180898251.36\n",
      "0.618184918325124\n",
      "0.6149452878984526\n"
     ]
    }
   ],
   "source": [
    "\n",
    "# Оцениваем качество по метрике MSE\n",
    "print(f'Качество предсказания по MSE для Test {round(mean_squared_error(y_test, y_pred_test),2)}')\n",
    "print(f'Качество предсказания по MSE для Train {round(mean_squared_error(y_train, y_pred_train),2)}')\n",
    "\n",
    "# Будет выведено:\n",
    "# Качество предсказания по MSE для Test 11043178387.11\n",
    "# Качество предсказания по MSE для Train 11180898251.36\n",
    "\n",
    "from sklearn.metrics import r2_score, median_absolute_error, mean_absolute_percentage_error, explained_variance_score\n",
    "\n",
    "\n",
    "print(explained_variance_score(y_test, y_pred_test))\n",
    "print(explained_variance_score(y_train, y_pred_train))\n",
    "\n"
   ]
  },
  {
   "cell_type": "code",
   "execution_count": 245,
   "metadata": {},
   "outputs": [
    {
     "name": "stdout",
     "output_type": "stream",
     "text": [
      "Качество предсказания по MSE для AdaBoost 7925534851.65\n",
      "0.739848048568234\n",
      "0.8022486040014569\n"
     ]
    },
    {
     "data": {
      "text/plain": [
       "100"
      ]
     },
     "execution_count": 245,
     "metadata": {},
     "output_type": "execute_result"
    }
   ],
   "source": [
    "from sklearn.ensemble import AdaBoostRegressor\n",
    "\n",
    "# Создаем объект класса дерева решений\n",
    "dt = DecisionTreeRegressor(\n",
    "    max_depth=1000, #максимальная глубина дерева\n",
    "    random_state=42 #датчик генератора случайных чисел\n",
    ")\n",
    "# Создаем объект класса AdaBoost\n",
    "ada = AdaBoostRegressor(\n",
    "    base_estimator=dt, #базовая модель\n",
    "    random_state=42, #датчик генератора случайных чисел\n",
    "    n_estimators=100 #количество моделей в ансамбле\n",
    ")\n",
    "# Обучаем модель\n",
    "ada.fit(X_train, y_train)\n",
    "\n",
    "# Формируем предсказание для тестовой выборки\n",
    "ada_pred  = ada.predict(X_test)\n",
    "ada_pred2  = ada.predict(X_train)\n",
    "\n",
    "# Оцениваем качество по метрике MSE\n",
    "print(f'Качество предсказания по MSE для AdaBoost {round(mean_squared_error(y_test, ada_pred),2)}')\n",
    "\n",
    "# Будет выведено:\n",
    "# Качество предсказания по MSE для AdaBoost \n",
    "\n",
    "print(explained_variance_score(y_test, ada_pred))\n",
    "print(explained_variance_score(y_train, ada_pred2))\n",
    "# Качество предсказания по MSE для AdaBoost 5944225936.59\n",
    "# 0.794938242842262\n",
    "# 0.9256985621092889\n",
    "# n_estimators=100\n",
    "\n"
   ]
  },
  {
   "cell_type": "code",
   "execution_count": 246,
   "metadata": {},
   "outputs": [
    {
     "name": "stdout",
     "output_type": "stream",
     "text": [
      "Качество предсказания по MSE для стекинга 12600906500.79\n"
     ]
    }
   ],
   "source": [
    "#Создаем список кортежей вида: (наименование модели, модель)\n",
    "from sklearn.linear_model import LinearRegression\n",
    "\n",
    "estimators = [\n",
    "    ('lr', RidgeCV()),\n",
    "    ('Line_Reg', LinearRegression())\n",
    "]\n",
    "final_estimator = RandomForestRegressor(n_estimators=1000,max_depth=1000,  random_state=42, )\n",
    "\n",
    "# Создаем объект класса стекинг\n",
    "reg = StackingRegressor(\n",
    "    estimators=estimators, #базовые модели в стекинге\n",
    "    final_estimator=final_estimator)\n",
    "# Обучаем модель\n",
    "reg.fit(X_train, y_train)\n",
    "\n",
    "# Формируем предсказание для тестовой выборки\n",
    "y_pred_stack = reg.predict(X_test)\n",
    "# Оцениваем качество по метрике MSE\n",
    "print(f'Качество предсказания по MSE для стекинга {round(mean_squared_error(y_test, y_pred_stack), 2)}')\n",
    "\n",
    "# Будет выведено:\n",
    "\n"
   ]
  },
  {
   "cell_type": "code",
   "execution_count": 247,
   "metadata": {},
   "outputs": [
    {
     "name": "stdout",
     "output_type": "stream",
     "text": [
      "0.5644260945492219\n"
     ]
    }
   ],
   "source": [
    "print(explained_variance_score(y_test, y_pred_stack))\n"
   ]
  },
  {
   "cell_type": "code",
   "execution_count": 248,
   "metadata": {},
   "outputs": [],
   "source": [
    "import pickle\n",
    "\n",
    "# Сохранение выбранной обученной модели в файл pickle\n",
    "# with open(\"diplom_web/app/models/best_cb_model.pkl\", \"wb\") as f:\n",
    "#    pickle.dump(best_cb_model, f)"
   ]
  }
 ],
 "metadata": {
  "kernelspec": {
   "display_name": "Python 3",
   "language": "python",
   "name": "python3"
  },
  "language_info": {
   "codemirror_mode": {
    "name": "ipython",
    "version": 3
   },
   "file_extension": ".py",
   "mimetype": "text/x-python",
   "name": "python",
   "nbconvert_exporter": "python",
   "pygments_lexer": "ipython3",
   "version": "3.10.5"
  }
 },
 "nbformat": 4,
 "nbformat_minor": 2
}
